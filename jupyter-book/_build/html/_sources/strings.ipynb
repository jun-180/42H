{
 "cells": [
  {
   "cell_type": "markdown",
   "id": "f0a3fe4a",
   "metadata": {},
   "source": [
    "(ch:strings)=\n",
    "# 문자열"
   ]
  },
  {
   "cell_type": "markdown",
   "id": "c34a84d9",
   "metadata": {},
   "source": [
    "문자열은 여러 개의 문자와 기호를 하나로 묶어 나열한 값이며 작은 따옴표(`'`) 또는 큰 따옴표(`\"`)로 감싸인다."
   ]
  },
  {
   "cell_type": "code",
   "execution_count": 1,
   "id": "773d8cd0",
   "metadata": {},
   "outputs": [],
   "source": [
    "hello_python = 'Hello, Python!'"
   ]
  },
  {
   "cell_type": "code",
   "execution_count": 2,
   "id": "58e28570",
   "metadata": {},
   "outputs": [],
   "source": [
    "like_python = \"파이썬 좋아!\""
   ]
  },
  {
   "cell_type": "markdown",
   "id": "2e8adfa8",
   "metadata": {},
   "source": [
    "문자열을 화면에 출력하기 위해 \n",
    "`print()` 함수를 문자열과 함께 호출하면\n",
    "문자열을 감싸는 따옴표는 보여주지 않는다."
   ]
  },
  {
   "cell_type": "code",
   "execution_count": 3,
   "id": "00f785aa",
   "metadata": {},
   "outputs": [
    {
     "name": "stdout",
     "output_type": "stream",
     "text": [
      "Hello, Python!\n"
     ]
    }
   ],
   "source": [
    "print(hello_python)"
   ]
  },
  {
   "cell_type": "code",
   "execution_count": 4,
   "id": "55257fcf",
   "metadata": {},
   "outputs": [
    {
     "name": "stdout",
     "output_type": "stream",
     "text": [
      "파이썬 좋아!\n"
     ]
    }
   ],
   "source": [
    "print(like_python)"
   ]
  },
  {
   "cell_type": "markdown",
   "id": "16f0c610",
   "metadata": {},
   "source": [
    "어떤 문자나 기호도 포함하지 않은 문자열 `''`은 빈 문자열이라 부른다.\n",
    "빈 문자열을 만드는 방법은 다음 세 가지 방법이 있다."
   ]
  },
  {
   "cell_type": "code",
   "execution_count": 5,
   "id": "266f0211",
   "metadata": {},
   "outputs": [],
   "source": [
    "empty_str1 = ''\n",
    "empty_str2 = \"\"\n",
    "empty_str3 = str()"
   ]
  },
  {
   "cell_type": "markdown",
   "id": "be627bb4",
   "metadata": {},
   "source": [
    "빈 문자열을 출력하면 아무 것도 보이지 않는다."
   ]
  },
  {
   "cell_type": "code",
   "execution_count": 6,
   "id": "7a174112",
   "metadata": {},
   "outputs": [
    {
     "name": "stdout",
     "output_type": "stream",
     "text": [
      "\n"
     ]
    }
   ],
   "source": [
    "print(empty_str1)"
   ]
  },
  {
   "cell_type": "markdown",
   "id": "2122ebc7-bcfd-41be-876c-f6e748c66c60",
   "metadata": {},
   "source": [
    ":::{admonition} `''` vs. `' '`\n",
    ":class: note\n",
    "\n",
    "빈 문자열<font size = \"2\">empty string</font> \n",
    "`''` 는 아무런 문자도 포함하지 않았기 때문에 문자열의 길이 즉, 문자열에 포함된 문자의 개수가 0이다.\n",
    "반면 `' '` 는 눈에 보이지는 않지만 스페이스 여백 하나를 포함하는 문자열이며, 따라서 길이가 1이다. \n",
    "\n",
    "C, 자바 등의 언어에서는 길이가 1인 문자열을 **character** 자료형으로 별도 관리하며,\n",
    "보통 `char` 로 표기한다. \n",
    "하지만 파이썬은 character 자료형을 제공하지 않는다.\n",
    ":::"
   ]
  },
  {
   "cell_type": "markdown",
   "id": "d22789f3-8b09-41ae-952b-1b89e286f474",
   "metadata": {
    "tags": []
   },
   "source": [
    "## 화이트 스페이스"
   ]
  },
  {
   "cell_type": "markdown",
   "id": "932a0630-ebab-4907-aa63-1419069437f5",
   "metadata": {},
   "source": [
    "**화이트 스페이스**<font size=\"2\">whitespace</font>는 \n",
    "화면상 보이지 않는 여백을 가리키는 문자를 의미한다.\n",
    "`string` 모듈의 `whitespace` 변수가 화이트 스페이스 문자로 구성된 문자열을 가리킨다."
   ]
  },
  {
   "cell_type": "code",
   "execution_count": 7,
   "id": "1bbb7148-38f7-4a48-ba0c-c6d33a11640d",
   "metadata": {},
   "outputs": [
    {
     "data": {
      "text/plain": [
       "' \\t\\n\\r\\x0b\\x0c'"
      ]
     },
     "execution_count": 7,
     "metadata": {},
     "output_type": "execute_result"
    }
   ],
   "source": [
    "import string\n",
    "\n",
    "string.whitespace"
   ]
  },
  {
   "cell_type": "markdown",
   "id": "449a5fb1",
   "metadata": {},
   "source": [
    "`' \\t\\n\\r\\x0b\\x0c'` 의 맨 왼쪽에는 스페이스 바를 한 번 누른 효과를 가리키는 \n",
    "여백 문자 `' '`가 위치한다.\n",
    "위 문자열에 포함된 기호 각각의 의미는 다음과 같다."
   ]
  },
  {
   "cell_type": "markdown",
   "id": "fc875118-391d-402d-96bc-fbb6502318f1",
   "metadata": {},
   "source": [
    "| 기호 | 설명 |\n",
    "| :---: | :---: |\n",
    "| `' '`  | 스페이스<font size = \"2\">space</font>| \n",
    "| `'\\t'` | 탭<font size = \"2\">tab</font>| \n",
    "| `'\\n'` | 줄 변경<font size = \"2\">new line</font>|\n",
    "| `\\r` | 캐리지 리턴<font size = \"2\">carriage return</font>|\n",
    "| `'\\v'` 또는 `'\\x0b'` | 수직탭<font size = \"2\">vertical tab</font>|\n",
    "| `'\\f'` 또는 `'\\x0c` | 폼피드<font size = \"2\">form feed</font>|"
   ]
  },
  {
   "cell_type": "markdown",
   "id": "fef7bdc1",
   "metadata": {},
   "source": [
    "이중에 스페이스, 줄 변경, 탭 세 종류의 화이트 스페이스가 가장 많이 사용되며,\n",
    "다른 화이트 스페이스는 여기서는 다루지 않는다."
   ]
  },
  {
   "cell_type": "code",
   "execution_count": 8,
   "id": "2a97ddd8-b249-4099-82f7-04c15779e2cd",
   "metadata": {},
   "outputs": [
    {
     "name": "stdout",
     "output_type": "stream",
     "text": [
      " 1\n",
      "2\t3\n"
     ]
    }
   ],
   "source": [
    "print(' 1\\n2\\t3')"
   ]
  },
  {
   "cell_type": "markdown",
   "id": "20ae1c3a-905f-4e71-8c16-0dc639c06f0b",
   "metadata": {},
   "source": [
    ":::{admonition} 백슬래시 기호(&#x5C;)와 원화 기호(&#x20a9;)\n",
    ":class: note\n",
    "\n",
    "백슬래시<font size='2'>back slash</font> 키 <kbd>&#x5C;</kbd>는 키보드의 <kbd>Enter</kbd> 키 바로 위에 위치하는데\n",
    "한글 키보드의 경우 원화 기호 키 <kbd>&#x20a9;</kbd> 가 대신 \n",
    "자리잡고 있을 수 있다.\n",
    "그리고 모니터 화면에도 사용하는 운영체제의 언어 설정에 따라\n",
    "원화 기호(&#x20a9;)와 백슬래시 기호(&#x5C;) 둘 중에 하나로만 보인다.\n",
    "하지만 단순한 언어 설정의 차이일 뿐 기능은 동일하다.\n",
    "참고로 현재 강의노트는 우분투 리눅스 운영체제에서 작성되었기에 \n",
    "원화 기호 대신 백슬래시 기호로 표현된다.\n",
    ":::"
   ]
  },
  {
   "cell_type": "markdown",
   "id": "799725f2",
   "metadata": {},
   "source": [
    "## 이스케이프 시퀀스"
   ]
  },
  {
   "cell_type": "markdown",
   "id": "703eea06",
   "metadata": {},
   "source": [
    "큰따옴표로 감싸인 문자열에 작은따옴표가 포함될 수 있다.\n",
    "이는 큰따옴표를 이용한 문자열의 시작과 끝이 작은따옴표가 포함되었음에도 불구하고 명확하기 때문이다."
   ]
  },
  {
   "cell_type": "code",
   "execution_count": 9,
   "id": "1b2c06da",
   "metadata": {},
   "outputs": [
    {
     "name": "stdout",
     "output_type": "stream",
     "text": [
      "I'am a fan of python\n"
     ]
    }
   ],
   "source": [
    "fan_python = \"I'am a fan of python\"\n",
    "print(fan_python)"
   ]
  },
  {
   "cell_type": "markdown",
   "id": "ca0dc334",
   "metadata": {},
   "source": [
    "동일한 이유로 작은따옴표로 감싸인 문자열이 큰따옴표를 포함할 수 있다."
   ]
  },
  {
   "cell_type": "code",
   "execution_count": 10,
   "id": "e916f544",
   "metadata": {},
   "outputs": [
    {
     "name": "stdout",
     "output_type": "stream",
     "text": [
      "나도 \"그렇다\" 라고 답했다.\n"
     ]
    }
   ],
   "source": [
    "me_too = '나도 \"그렇다\" 라고 답했다.'\n",
    "print(me_too)"
   ]
  },
  {
   "cell_type": "markdown",
   "id": "85fc7325",
   "metadata": {},
   "source": [
    "반면에 큰따옴표로 감싸진 문자열에 큰따옴표를,\n",
    "작따옴표로 감싸진 문자열에 작은따옴표를 그냥 사용할 수는 없다.\n",
    "이유는 문자열의 끝이 명확하지 않기 때문이다."
   ]
  },
  {
   "cell_type": "code",
   "execution_count": 12,
   "id": "af078181",
   "metadata": {},
   "outputs": [
    {
     "ename": "SyntaxError",
     "evalue": "unterminated string literal (detected at line 1) (813724077.py, line 1)",
     "output_type": "error",
     "traceback": [
      "\u001b[0;36m  Cell \u001b[0;32mIn[12], line 1\u001b[0;36m\u001b[0m\n\u001b[0;31m    fan_python_1 = 'I'am a fan of python'\u001b[0m\n\u001b[0m                                        ^\u001b[0m\n\u001b[0;31mSyntaxError\u001b[0m\u001b[0;31m:\u001b[0m unterminated string literal (detected at line 1)\n"
     ]
    }
   ],
   "source": [
    "fan_python_1 = 'I'am a fan of python'"
   ]
  },
  {
   "cell_type": "code",
   "execution_count": 13,
   "id": "e566bc14",
   "metadata": {},
   "outputs": [
    {
     "ename": "SyntaxError",
     "evalue": "invalid syntax (3601346811.py, line 1)",
     "output_type": "error",
     "traceback": [
      "\u001b[0;36m  Cell \u001b[0;32mIn[13], line 1\u001b[0;36m\u001b[0m\n\u001b[0;31m    me_too_1 = \"나도 \"그렇다\" 라고 답했다.\"\u001b[0m\n\u001b[0m                    ^\u001b[0m\n\u001b[0;31mSyntaxError\u001b[0m\u001b[0;31m:\u001b[0m invalid syntax\n"
     ]
    }
   ],
   "source": [
    "me_too_1 = \"나도 \"그렇다\" 라고 답했다.\""
   ]
  },
  {
   "cell_type": "markdown",
   "id": "d047b5b6",
   "metadata": {},
   "source": [
    "위와 같은 오류를 방지하기 위해 문자열을 감싸는 문자열과 포함된 문자열을 항상 다르게 할 수는 없다.\n",
    "예를 들어 아래의 경우처럼 큰따옴표와 작은 따옴표가 모두 사용되는 경우가 그렇다."
   ]
  },
  {
   "cell_type": "markdown",
   "id": "986157dd",
   "metadata": {},
   "source": [
    "```\n",
    "\"I've also said \"yes\"!\"\n",
    "```"
   ]
  },
  {
   "cell_type": "markdown",
   "id": "34280008",
   "metadata": {},
   "source": [
    "또는"
   ]
  },
  {
   "cell_type": "markdown",
   "id": "ae616057",
   "metadata": {},
   "source": [
    "```\n",
    "'I've also said \"yes\"!'\n",
    "```"
   ]
  },
  {
   "cell_type": "markdown",
   "id": "105a9e43",
   "metadata": {},
   "source": [
    "이런 경우엔 이스케이프 문자를 사용한다.\n",
    "**이스케이스 문자**<font size='2'>escape character</font>는 \n",
    "문자와 기호의 원래 기능과는 다르게 작동하도록 하는 문자열이다.\n",
    "모든 이스케이프 문자는 백슬래시 기호 \\ (또는 원화 기호 &#x20a9;)로 시작하며 \n",
    "다음 이스케이프 문자가 많이 사용된다.\n",
    "\n",
    "| 이스케이프 문자 | 의미 |\n",
    "| :---: | :--- |\n",
    "| `\\'` | 작은따옴표 |\n",
    "| `\\\"` | 큰따옴표 |\n",
    "| `\\\\` | 백슬래시(원화) 기호|\n",
    "| `\\n` | 줄바꿈 |\n",
    "| `\\t` | 탭추가 |"
   ]
  },
  {
   "cell_type": "markdown",
   "id": "a0d61bc3",
   "metadata": {},
   "source": [
    "**인용부호 활용**"
   ]
  },
  {
   "cell_type": "markdown",
   "id": "1251fdc7",
   "metadata": {},
   "source": [
    "이스케이프 문자를 이용하면 큰따옴표와 작은따옴표를 제한없이 활용할 수 있다.\n",
    "`print()` 함수는 또한 이스케이프 문자의 기능을 적절히 반영해서 화면에 출력한다."
   ]
  },
  {
   "cell_type": "code",
   "execution_count": 14,
   "id": "b62fede6",
   "metadata": {},
   "outputs": [
    {
     "name": "stdout",
     "output_type": "stream",
     "text": [
      "I've also said \"yes\"!\n"
     ]
    }
   ],
   "source": [
    "said_yes_1 = \"I\\'ve also said \\\"yes\\\"!\"\n",
    "print(said_yes_1)"
   ]
  },
  {
   "cell_type": "code",
   "execution_count": 15,
   "id": "335c1f2a",
   "metadata": {},
   "outputs": [
    {
     "name": "stdout",
     "output_type": "stream",
     "text": [
      "I've also said \"yes\"!\n"
     ]
    }
   ],
   "source": [
    "said_yes_2 = 'I\\'ve also said \\\"yes\\\"!'\n",
    "print(said_yes_2)"
   ]
  },
  {
   "cell_type": "markdown",
   "id": "d1fc9567",
   "metadata": {},
   "source": [
    "**백슬래시(원화) 기호**"
   ]
  },
  {
   "cell_type": "markdown",
   "id": "2480ac4a",
   "metadata": {},
   "source": [
    "백슬래시(원화) 기호를 이스케이프 문자의 기능이 아닌 백슬래시(원화) 기호 자체로 문자열에 포함시키고자 \n",
    "할 때는 백슬래시(원화) 기호를 두 번 연속 사용한다."
   ]
  },
  {
   "cell_type": "code",
   "execution_count": 16,
   "id": "c3b1a02b",
   "metadata": {},
   "outputs": [],
   "source": [
    "using_backslash = '백슬래시(원화) 기호 \\\\는 이스케이프 문자를 만들 때 사용함.'"
   ]
  },
  {
   "cell_type": "markdown",
   "id": "3a7e1d8c",
   "metadata": {},
   "source": [
    "`\\\\`에서 첫째 백슬래시(원화) 기호는 이스케이프 기능으로, 둘째 백슬래시(원화) 기호는 백슬래시(원화) 기호 자체로 이해된다."
   ]
  },
  {
   "cell_type": "code",
   "execution_count": 17,
   "id": "aec6101b",
   "metadata": {},
   "outputs": [
    {
     "name": "stdout",
     "output_type": "stream",
     "text": [
      "백슬래시(원화) 기호 \\는 이스케이프 문자를 만들 때 사용함.\n"
     ]
    }
   ],
   "source": [
    "print(using_backslash)"
   ]
  },
  {
   "cell_type": "markdown",
   "id": "fa52194a",
   "metadata": {},
   "source": [
    "**줄바꿈**"
   ]
  },
  {
   "cell_type": "markdown",
   "id": "fbd3d3a0",
   "metadata": {},
   "source": [
    "`\\n`은 줄바꿈을 의미하는 이스케이프 문자다."
   ]
  },
  {
   "cell_type": "code",
   "execution_count": 18,
   "id": "fca5cba8",
   "metadata": {},
   "outputs": [],
   "source": [
    "two_lines = '첫째줄\\n둘째줄.'"
   ]
  },
  {
   "cell_type": "markdown",
   "id": "73a1d59f",
   "metadata": {},
   "source": [
    "`print()` 함수를 이용하면 실제 의도한 대로 두 줄로 표현된다."
   ]
  },
  {
   "cell_type": "code",
   "execution_count": 19,
   "id": "999f6f1d",
   "metadata": {},
   "outputs": [
    {
     "name": "stdout",
     "output_type": "stream",
     "text": [
      "첫째줄\n",
      "둘째줄.\n"
     ]
    }
   ],
   "source": [
    "print(two_lines)"
   ]
  },
  {
   "cell_type": "markdown",
   "id": "675f05bd",
   "metadata": {},
   "source": [
    "**탭 추가**"
   ]
  },
  {
   "cell_type": "markdown",
   "id": "d5abecc9",
   "metadata": {},
   "source": [
    "`\\t`는 두 문자열 사이에 탭을 추가하는 이스케이프 문자다.\n",
    "탭은 보통 네 개의 스페이스키를 누르는 것에 해당한다."
   ]
  },
  {
   "cell_type": "code",
   "execution_count": 20,
   "id": "1dd01dc3",
   "metadata": {},
   "outputs": [],
   "source": [
    "using_tabs = '하나\\t둘\\t셋'"
   ]
  },
  {
   "cell_type": "markdown",
   "id": "a9f71e3b",
   "metadata": {},
   "source": [
    "`print()` 함수를 이용하면 탭이 두 번 사용되었음을 확인할 수 있다."
   ]
  },
  {
   "cell_type": "code",
   "execution_count": 21,
   "id": "8a541ca7",
   "metadata": {},
   "outputs": [
    {
     "name": "stdout",
     "output_type": "stream",
     "text": [
      "하나\t둘\t셋\n"
     ]
    }
   ],
   "source": [
    "print(using_tabs)"
   ]
  },
  {
   "cell_type": "markdown",
   "id": "0b44b368",
   "metadata": {},
   "source": [
    "**날 문자열**"
   ]
  },
  {
   "cell_type": "markdown",
   "id": "dfd4ffeb",
   "metadata": {},
   "source": [
    "특수 문자에 대해 백슬래시(원화) 기호를 사용할지 여부를 \n",
    "고민하는 대신 많은 경우 **날 문자열**<font size=\"2\">raw string</font>을 사용할 수도 있다.\n",
    "문자열 앞에 **가공되지 않았다** 라는 의미를 뜻하는 영어 단어 **raw** 의 \n",
    "첫 글자인 `r`을 추가하면 날 문자열이 된다.\n",
    "날 문자열은 특수 문자들의 기능을 모두 무시한다."
   ]
  },
  {
   "cell_type": "code",
   "execution_count": 22,
   "id": "bf1bb901",
   "metadata": {},
   "outputs": [
    {
     "name": "stdout",
     "output_type": "stream",
     "text": [
      "Hello\\ World\n"
     ]
    }
   ],
   "source": [
    "print(r\"Hello\\ World\")"
   ]
  },
  {
   "cell_type": "code",
   "execution_count": 23,
   "id": "19249300",
   "metadata": {},
   "outputs": [
    {
     "name": "stdout",
     "output_type": "stream",
     "text": [
      "Hello\\n World\n"
     ]
    }
   ],
   "source": [
    "print(r\"Hello\\n World\")"
   ]
  },
  {
   "cell_type": "code",
   "execution_count": 24,
   "id": "d5a8d482",
   "metadata": {},
   "outputs": [
    {
     "name": "stdout",
     "output_type": "stream",
     "text": [
      "Hello\\t World\n"
     ]
    }
   ],
   "source": [
    "print(r\"Hello\\t World\")"
   ]
  },
  {
   "cell_type": "markdown",
   "id": "90aa1898",
   "metadata": {},
   "source": [
    "날 문자열은 특히 파일과 폴더의 경로를 작성할 때 유용하다."
   ]
  },
  {
   "cell_type": "markdown",
   "id": "0a11d6d8",
   "metadata": {},
   "source": [
    "- 일반 문자열: 특수 문자의 기능 유지"
   ]
  },
  {
   "cell_type": "code",
   "execution_count": 25,
   "id": "e7f31cbe",
   "metadata": {},
   "outputs": [
    {
     "name": "stdout",
     "output_type": "stream",
     "text": [
      "C:\\some\n",
      "ame\n"
     ]
    }
   ],
   "source": [
    "print('C:\\some\\name')"
   ]
  },
  {
   "cell_type": "markdown",
   "id": "0f224829",
   "metadata": {},
   "source": [
    "-  날 문자열 사용: 특수 문자 기능 없음"
   ]
  },
  {
   "cell_type": "code",
   "execution_count": 26,
   "id": "1fe1a2bb",
   "metadata": {},
   "outputs": [
    {
     "name": "stdout",
     "output_type": "stream",
     "text": [
      "C:\\some\\name\n"
     ]
    }
   ],
   "source": [
    "print(r'C:\\some\\name')"
   ]
  },
  {
   "cell_type": "markdown",
   "id": "ebd823c4",
   "metadata": {},
   "source": [
    "## 문자열 포매팅"
   ]
  },
  {
   "cell_type": "markdown",
   "id": "11eb5ed7",
   "metadata": {},
   "source": [
    "**문자열 포매팅**<font size=\"2\">string formatting</font>은\n",
    "문자열 내부에 표현식을 사용할 수 있도록 한다.\n",
    "문자열 포매팅을 처리하는 여러 방식이 있지만 여기서는 가장 편리한 방법인 \n",
    "**f-문자열**<font size=\"2\">f-string</font>을 활용법만 소개한다."
   ]
  },
  {
   "cell_type": "markdown",
   "id": "a175c707",
   "metadata": {},
   "source": [
    "**f-문자열**"
   ]
  },
  {
   "cell_type": "markdown",
   "id": "fda23fd5",
   "metadata": {},
   "source": [
    "f-문자열은 문자열 앞에 `f`를 붙이며, \n",
    "문자열 중간에 중괄호 `{}`로 감싸인 표현식을 사용할 수 있다.\n",
    "예를 들어, 아래 코드는 `name`과 `age` 두 변수를 이용한 표현식을 문자열에 포함시킨다.\n",
    "그러면 `name`과 `age` 가 가리키는 값에 따라 다른 문자열이 지정된다."
   ]
  },
  {
   "cell_type": "code",
   "execution_count": 27,
   "id": "3682ba82",
   "metadata": {},
   "outputs": [
    {
     "name": "stdout",
     "output_type": "stream",
     "text": [
      "강현의 나이는 3살이다.\n",
      "강현의 동생은 1살이다\n"
     ]
    }
   ],
   "source": [
    "name = '강현'\n",
    "age = 3\n",
    "s = f'{name}의 나이는 {age}살이다.'\n",
    "print(s)\n",
    "\n",
    "s1 = f'{name}의 동생은 {age - 2}살이다'\n",
    "print(s1)"
   ]
  },
  {
   "cell_type": "code",
   "execution_count": 28,
   "id": "252ea1a4",
   "metadata": {},
   "outputs": [
    {
     "name": "stdout",
     "output_type": "stream",
     "text": [
      "정우의 나이는 10살이다.\n",
      "정우의 동생은 8살이다\n"
     ]
    }
   ],
   "source": [
    "name = '정우'\n",
    "age = 10\n",
    "s = f'{name}의 나이는 {age}살이다.'\n",
    "print(s)\n",
    "\n",
    "s1 = f'{name}의 동생은 {age - 2}살이다'\n",
    "print(s1)"
   ]
  },
  {
   "cell_type": "markdown",
   "id": "a1caced4",
   "metadata": {},
   "source": [
    "**문자열 좌우 정렬 출력**"
   ]
  },
  {
   "cell_type": "markdown",
   "id": "92ce6f0c",
   "metadata": {},
   "source": [
    "출력되는 문자열이 차지하는 총 길이를 지정하고 좌우로 정렬할 수 있다.\n",
    "길이가 다른 여러 개의 문자열을 출력할 때 매우 유용하다.\n",
    "아래 코드는 총 10칸의 자리를 이용할 때 길이가 2인 문자열을 좌, 우, 중앙에 위치시키는 방법을 소개한다."
   ]
  },
  {
   "cell_type": "code",
   "execution_count": 29,
   "id": "2c271e25",
   "metadata": {},
   "outputs": [],
   "source": [
    "s1 = 'hi'\n",
    "s2 = 'hello'"
   ]
  },
  {
   "cell_type": "markdown",
   "id": "3938e10e",
   "metadata": {},
   "source": [
    "- 왼쪽으로 정렬"
   ]
  },
  {
   "cell_type": "code",
   "execution_count": 30,
   "id": "d1f486d3",
   "metadata": {},
   "outputs": [
    {
     "name": "stdout",
     "output_type": "stream",
     "text": [
      "hi        \n",
      "hello     \n"
     ]
    }
   ],
   "source": [
    "print(f'{s1:<10}')\n",
    "print(f'{s2:<10}')"
   ]
  },
  {
   "cell_type": "markdown",
   "id": "ffd5c3e7",
   "metadata": {},
   "source": [
    "- 오른쪽으로 정렬"
   ]
  },
  {
   "cell_type": "code",
   "execution_count": 31,
   "id": "e49b50be",
   "metadata": {},
   "outputs": [
    {
     "name": "stdout",
     "output_type": "stream",
     "text": [
      "        hi\n",
      "     hello\n"
     ]
    }
   ],
   "source": [
    "print(f'{s1:>10}')\n",
    "print(f'{s2:>10}')"
   ]
  },
  {
   "cell_type": "markdown",
   "id": "9f4c1b56",
   "metadata": {},
   "source": [
    "- 중앙에 정렬"
   ]
  },
  {
   "cell_type": "code",
   "execution_count": 32,
   "id": "ba8bcbdb",
   "metadata": {},
   "outputs": [
    {
     "name": "stdout",
     "output_type": "stream",
     "text": [
      "    hi    \n",
      "  hello   \n"
     ]
    }
   ],
   "source": [
    "print(f'{s1:^10}')\n",
    "print(f'{s2:^10}')"
   ]
  },
  {
   "cell_type": "markdown",
   "id": "03f6e8d1",
   "metadata": {},
   "source": [
    "정렬 후 남은 빈 자리를 지정된 문자로 채울 수 있다."
   ]
  },
  {
   "cell_type": "markdown",
   "id": "2a4e4b81",
   "metadata": {},
   "source": [
    "- `+` 기호로 채우기"
   ]
  },
  {
   "cell_type": "code",
   "execution_count": 33,
   "id": "35dcafc8",
   "metadata": {},
   "outputs": [
    {
     "name": "stdout",
     "output_type": "stream",
     "text": [
      "hi++++++++\n",
      "hello+++++\n"
     ]
    }
   ],
   "source": [
    "print(f'{s1:+<10}')\n",
    "print(f'{s2:+<10}')"
   ]
  },
  {
   "cell_type": "markdown",
   "id": "b877a1b8",
   "metadata": {},
   "source": [
    "- `0` 기호로 채우기"
   ]
  },
  {
   "cell_type": "code",
   "execution_count": 34,
   "id": "fdc077bd",
   "metadata": {},
   "outputs": [
    {
     "name": "stdout",
     "output_type": "stream",
     "text": [
      "00000000hi\n",
      "00000hello\n"
     ]
    }
   ],
   "source": [
    "print(f'{s1:0>10}')\n",
    "print(f'{s2:0>10}')"
   ]
  },
  {
   "cell_type": "markdown",
   "id": "1dfae223",
   "metadata": {},
   "source": [
    "- `-` 기호로 채우기"
   ]
  },
  {
   "cell_type": "code",
   "execution_count": 35,
   "id": "994647b9",
   "metadata": {},
   "outputs": [
    {
     "name": "stdout",
     "output_type": "stream",
     "text": [
      "----hi----\n",
      "--hello---\n"
     ]
    }
   ],
   "source": [
    "print(f'{s1:-^10}')\n",
    "print(f'{s2:-^10}')"
   ]
  },
  {
   "cell_type": "markdown",
   "id": "b77c1ec1",
   "metadata": {},
   "source": [
    "**부동소수점 자릿수 지정**"
   ]
  },
  {
   "cell_type": "markdown",
   "id": "56d607f3",
   "metadata": {},
   "source": [
    "부동소수점의 소수점 이하 자릿수를 지정하려면 `{표현식:.1f}` 와 같은 형식을 사용한다."
   ]
  },
  {
   "cell_type": "code",
   "execution_count": 36,
   "id": "d5c8816f",
   "metadata": {},
   "outputs": [],
   "source": [
    "num1 = 17.153742\n",
    "num2 = 2.778"
   ]
  },
  {
   "cell_type": "code",
   "execution_count": 37,
   "id": "e7755b3b",
   "metadata": {},
   "outputs": [
    {
     "name": "stdout",
     "output_type": "stream",
     "text": [
      "소수점 둘째 자리에서 반올림: 17.2\n",
      "소수점 둘째 자리에서 반올림: 2.8\n"
     ]
    }
   ],
   "source": [
    "print(f'소수점 둘째 자리에서 반올림: {num1:.1f}')\n",
    "print(f'소수점 둘째 자리에서 반올림: {num2:.1f}')"
   ]
  },
  {
   "cell_type": "code",
   "execution_count": 38,
   "id": "09fccc2f",
   "metadata": {},
   "outputs": [
    {
     "name": "stdout",
     "output_type": "stream",
     "text": [
      "소수점 셋째 자리에서 반올림: 17.15\n",
      "소수점 셋째 자리에서 반올림: 2.78\n"
     ]
    }
   ],
   "source": [
    "print(f'소수점 셋째 자리에서 반올림: {num1:.2f}')\n",
    "print(f'소수점 셋째 자리에서 반올림: {num2:.2f}')"
   ]
  },
  {
   "cell_type": "code",
   "execution_count": 39,
   "id": "23c83285",
   "metadata": {},
   "outputs": [
    {
     "name": "stdout",
     "output_type": "stream",
     "text": [
      "소수점 넷째 자리에서 반올림: 17.154\n",
      "소수점 넷째 자리에서 반올림: 2.778\n"
     ]
    }
   ],
   "source": [
    "print(f'소수점 넷째 자리에서 반올림: {num1:.3f}')\n",
    "print(f'소수점 넷째 자리에서 반올림: {num2:.3f}')"
   ]
  },
  {
   "cell_type": "markdown",
   "id": "311a821e",
   "metadata": {},
   "source": [
    "전체 자릿수를 지정하려면 `{표현식:15.2f}` 와 같은 형식을 사용한다."
   ]
  },
  {
   "cell_type": "code",
   "execution_count": 40,
   "id": "0e4d158a",
   "metadata": {},
   "outputs": [
    {
     "name": "stdout",
     "output_type": "stream",
     "text": [
      "총 15칸을 차지할 때:           17.15\n",
      "총 15칸을 차지할 때:            2.78\n"
     ]
    }
   ],
   "source": [
    "print(f'총 15칸을 차지할 때: {num1:15.2f}')\n",
    "print(f'총 15칸을 차지할 때: {num2:15.2f}')"
   ]
  },
  {
   "cell_type": "markdown",
   "id": "50c5cc45",
   "metadata": {},
   "source": [
    "좌우 정렬, 기호로 채우기 등도 가능하다."
   ]
  },
  {
   "cell_type": "code",
   "execution_count": 41,
   "id": "2b054216",
   "metadata": {},
   "outputs": [
    {
     "name": "stdout",
     "output_type": "stream",
     "text": [
      "총 15칸 사용: 17.15374       \n",
      "총 15칸 사용: 2.77800        \n"
     ]
    }
   ],
   "source": [
    "print(f'총 15칸 사용: {num1:<15.5f}')\n",
    "print(f'총 15칸 사용: {num2:<15.5f}')"
   ]
  },
  {
   "cell_type": "code",
   "execution_count": 42,
   "id": "0ed6c156",
   "metadata": {},
   "outputs": [
    {
     "name": "stdout",
     "output_type": "stream",
     "text": [
      "총 15칸 사용: 17.153740000000\n",
      "총 15칸 사용: 2.7780000000000\n"
     ]
    }
   ],
   "source": [
    "print(f'총 15칸 사용: {num1:0<15.5f}')\n",
    "print(f'총 15칸 사용: {num2:0<15.5f}')"
   ]
  },
  {
   "cell_type": "code",
   "execution_count": 43,
   "id": "7b53908e",
   "metadata": {},
   "outputs": [
    {
     "name": "stdout",
     "output_type": "stream",
     "text": [
      "총 15칸 사용:    17.15374    \n",
      "총 15칸 사용:     2.77800    \n"
     ]
    }
   ],
   "source": [
    "print(f'총 15칸 사용: {num1:^15.5f}')\n",
    "print(f'총 15칸 사용: {num2:^15.5f}')"
   ]
  },
  {
   "cell_type": "code",
   "execution_count": 44,
   "id": "dba501bb",
   "metadata": {},
   "outputs": [
    {
     "name": "stdout",
     "output_type": "stream",
     "text": [
      "총 15칸 사용: ---17.15374----\n",
      "총 15칸 사용: ----2.77800----\n"
     ]
    }
   ],
   "source": [
    "print(f'총 15칸 사용: {num1:-^15.5f}')\n",
    "print(f'총 15칸 사용: {num2:-^15.5f}')"
   ]
  },
  {
   "cell_type": "code",
   "execution_count": 45,
   "id": "f7c97241",
   "metadata": {},
   "outputs": [
    {
     "name": "stdout",
     "output_type": "stream",
     "text": [
      "총 15칸 사용:        17.15374\n",
      "총 15칸 사용:         2.77800\n"
     ]
    }
   ],
   "source": [
    "print(f'총 15칸 사용: {num1:>15.5f}')\n",
    "print(f'총 15칸 사용: {num2:>15.5f}')"
   ]
  },
  {
   "cell_type": "code",
   "execution_count": 46,
   "id": "1e78359c",
   "metadata": {},
   "outputs": [
    {
     "name": "stdout",
     "output_type": "stream",
     "text": [
      "총 15칸 사용: +++++++17.15374\n",
      "총 15칸 사용: ++++++++2.77800\n"
     ]
    }
   ],
   "source": [
    "print(f'총 15칸 사용: {num1:+>15.5f}')\n",
    "print(f'총 15칸 사용: {num2:+>15.5f}')"
   ]
  },
  {
   "cell_type": "markdown",
   "id": "34d02622",
   "metadata": {},
   "source": [
    "## 문자열 연산"
   ]
  },
  {
   "cell_type": "markdown",
   "id": "5f5043ed",
   "metadata": {},
   "source": [
    "**`+`와 `*` 연산자**"
   ]
  },
  {
   "cell_type": "markdown",
   "id": "ce837913",
   "metadata": {},
   "source": [
    "| 연산자 | 의미 |\n",
    "| :---: | :--- |\n",
    "| `+` | 이어붙이기 |\n",
    "| `*` | 복제 후 이어붙이기 |"
   ]
  },
  {
   "cell_type": "markdown",
   "id": "78959a30",
   "metadata": {},
   "source": [
    "`+` 연산자는 두 문자열을 이어붙인다."
   ]
  },
  {
   "cell_type": "code",
   "execution_count": 47,
   "id": "d8409423",
   "metadata": {},
   "outputs": [
    {
     "data": {
      "text/plain": [
       "'hellopython'"
      ]
     },
     "execution_count": 47,
     "metadata": {},
     "output_type": "execute_result"
    }
   ],
   "source": [
    "'hello' + 'python'"
   ]
  },
  {
   "cell_type": "code",
   "execution_count": 48,
   "id": "489e30fa",
   "metadata": {},
   "outputs": [
    {
     "data": {
      "text/plain": [
       "'hello, python'"
      ]
     },
     "execution_count": 48,
     "metadata": {},
     "output_type": "execute_result"
    }
   ],
   "source": [
    "'hello, ' + 'python'"
   ]
  },
  {
   "cell_type": "markdown",
   "id": "95ec1082",
   "metadata": {},
   "source": [
    "`*` 연산자는 정수와 문자열을 인자로 받아 정수 만큼 복제해서 이어붙인다."
   ]
  },
  {
   "cell_type": "code",
   "execution_count": 49,
   "id": "6dc1be0b",
   "metadata": {},
   "outputs": [
    {
     "data": {
      "text/plain": [
       "'hellohellohello'"
      ]
     },
     "execution_count": 49,
     "metadata": {},
     "output_type": "execute_result"
    }
   ],
   "source": [
    "3 * 'hello'"
   ]
  },
  {
   "cell_type": "code",
   "execution_count": 50,
   "id": "870f0cb8",
   "metadata": {},
   "outputs": [
    {
     "data": {
      "text/plain": [
       "'hello, hello, python'"
      ]
     },
     "execution_count": 50,
     "metadata": {},
     "output_type": "execute_result"
    }
   ],
   "source": [
    "2 * 'hello, ' + \"python\""
   ]
  },
  {
   "cell_type": "markdown",
   "id": "6e8d53d3-81eb-446d-b4d6-1f7c82484699",
   "metadata": {},
   "source": [
    "**`in` 연산자** \n",
    "\n",
    "문자열의 일부로 포함된 부분 문자열인지 여부를 판단하는 논리 연산자이다. "
   ]
  },
  {
   "cell_type": "code",
   "execution_count": 51,
   "id": "089fbce8-65ff-4ea0-8ad3-a671758de90d",
   "metadata": {},
   "outputs": [
    {
     "data": {
      "text/plain": [
       "True"
      ]
     },
     "execution_count": 51,
     "metadata": {},
     "output_type": "execute_result"
    }
   ],
   "source": [
    "'app' in 'apple'"
   ]
  },
  {
   "cell_type": "code",
   "execution_count": 52,
   "id": "837c97f7-8f37-4813-9057-f5d21e6af336",
   "metadata": {},
   "outputs": [
    {
     "data": {
      "text/plain": [
       "False"
      ]
     },
     "execution_count": 52,
     "metadata": {},
     "output_type": "execute_result"
    }
   ],
   "source": [
    "'h' in 'banana' "
   ]
  },
  {
   "cell_type": "code",
   "execution_count": 53,
   "id": "47af3f0c-9ba7-426b-b313-5a9ae5582ae6",
   "metadata": {},
   "outputs": [
    {
     "data": {
      "text/plain": [
       "True"
      ]
     },
     "execution_count": 53,
     "metadata": {},
     "output_type": "execute_result"
    }
   ],
   "source": [
    "'ca' not in 'coconut'"
   ]
  },
  {
   "cell_type": "markdown",
   "id": "7d78d685",
   "metadata": {},
   "source": [
    "빈 문자열과 함께 `in` 연산자를 사용하면 항상 거짓이 된다."
   ]
  },
  {
   "cell_type": "code",
   "execution_count": 54,
   "id": "ffaa0a03",
   "metadata": {},
   "outputs": [
    {
     "data": {
      "text/plain": [
       "False"
      ]
     },
     "execution_count": 54,
     "metadata": {},
     "output_type": "execute_result"
    }
   ],
   "source": [
    "'a' in \"\""
   ]
  },
  {
   "cell_type": "code",
   "execution_count": 55,
   "id": "43122d98",
   "metadata": {},
   "outputs": [
    {
     "data": {
      "text/plain": [
       "False"
      ]
     },
     "execution_count": 55,
     "metadata": {},
     "output_type": "execute_result"
    }
   ],
   "source": [
    "'b' in str()"
   ]
  },
  {
   "cell_type": "markdown",
   "id": "4e6995d4",
   "metadata": {},
   "source": [
    "**크기 비교 연산**"
   ]
  },
  {
   "cell_type": "markdown",
   "id": "a15a03b9",
   "metadata": {},
   "source": [
    "두 문자열의 크기비교는 사전식 알파벳 순서를 사용한다. \n",
    "대문자가 소문자보다 작음에 주의한다."
   ]
  },
  {
   "cell_type": "code",
   "execution_count": 56,
   "id": "6f82b898",
   "metadata": {},
   "outputs": [
    {
     "data": {
      "text/plain": [
       "True"
      ]
     },
     "execution_count": 56,
     "metadata": {},
     "output_type": "execute_result"
    }
   ],
   "source": [
    "'A' <= 'a'"
   ]
  },
  {
   "cell_type": "code",
   "execution_count": 57,
   "id": "8cbb87a2",
   "metadata": {},
   "outputs": [
    {
     "data": {
      "text/plain": [
       "False"
      ]
     },
     "execution_count": 57,
     "metadata": {},
     "output_type": "execute_result"
    }
   ],
   "source": [
    "'apple' < 'Hello, World!'"
   ]
  },
  {
   "cell_type": "code",
   "execution_count": 58,
   "id": "37c4c4ce",
   "metadata": {},
   "outputs": [
    {
     "data": {
      "text/plain": [
       "False"
      ]
     },
     "execution_count": 58,
     "metadata": {},
     "output_type": "execute_result"
    }
   ],
   "source": [
    "'Hello, World!' < ' hello'"
   ]
  },
  {
   "cell_type": "markdown",
   "id": "0871084c",
   "metadata": {},
   "source": [
    "빈 문자열은 다른 문자열보다 항상 작다."
   ]
  },
  {
   "cell_type": "code",
   "execution_count": 59,
   "id": "8a776be0",
   "metadata": {},
   "outputs": [
    {
     "data": {
      "text/plain": [
       "True"
      ]
     },
     "execution_count": 59,
     "metadata": {},
     "output_type": "execute_result"
    }
   ],
   "source": [
    "'' < 'a'"
   ]
  },
  {
   "cell_type": "markdown",
   "id": "afc68940-a4e2-42f5-92ea-a0adf8b2dc8e",
   "metadata": {},
   "source": [
    "**`len()` 함수**\n",
    "\n",
    "문자열의 길이, 즉 문자열에 포함된 기호의 개수를 반환한다."
   ]
  },
  {
   "cell_type": "code",
   "execution_count": 65,
   "id": "356e853e-8468-4f8d-8a85-139433dab0f1",
   "metadata": {},
   "outputs": [
    {
     "data": {
      "text/plain": [
       "5"
      ]
     },
     "execution_count": 65,
     "metadata": {},
     "output_type": "execute_result"
    }
   ],
   "source": [
    "len('apple')"
   ]
  },
  {
   "cell_type": "code",
   "execution_count": 66,
   "id": "bfd270c5-95ca-4ecb-8454-ec35c55fc52f",
   "metadata": {},
   "outputs": [
    {
     "data": {
      "text/plain": [
       "13"
      ]
     },
     "execution_count": 66,
     "metadata": {},
     "output_type": "execute_result"
    }
   ],
   "source": [
    "len('hello, world!')"
   ]
  },
  {
   "cell_type": "markdown",
   "id": "7322d96a",
   "metadata": {},
   "source": [
    "화이트 스페이스는 모두 하나의 기호로 간주된다."
   ]
  },
  {
   "cell_type": "code",
   "execution_count": 67,
   "id": "0652648d",
   "metadata": {},
   "outputs": [
    {
     "data": {
      "text/plain": [
       "' \\t\\n\\r\\x0b\\x0c'"
      ]
     },
     "execution_count": 67,
     "metadata": {},
     "output_type": "execute_result"
    }
   ],
   "source": [
    "import string\n",
    "\n",
    "whites = string.whitespace\n",
    "whites"
   ]
  },
  {
   "cell_type": "code",
   "execution_count": 68,
   "id": "b2fc7615",
   "metadata": {},
   "outputs": [
    {
     "data": {
      "text/plain": [
       "6"
      ]
     },
     "execution_count": 68,
     "metadata": {},
     "output_type": "execute_result"
    }
   ],
   "source": [
    "len('whites')"
   ]
  },
  {
   "cell_type": "markdown",
   "id": "d384dcf7",
   "metadata": {},
   "source": [
    "빈 문자열의 길이는 0이다."
   ]
  },
  {
   "cell_type": "code",
   "execution_count": 69,
   "id": "1950846d",
   "metadata": {},
   "outputs": [
    {
     "data": {
      "text/plain": [
       "0"
      ]
     },
     "execution_count": 69,
     "metadata": {},
     "output_type": "execute_result"
    }
   ],
   "source": [
    "len('')"
   ]
  },
  {
   "cell_type": "markdown",
   "id": "4dbe7a8b",
   "metadata": {},
   "source": [
    "## 순차 자료형: 문자열"
   ]
  },
  {
   "cell_type": "markdown",
   "id": "e21eb2f1",
   "metadata": {},
   "source": [
    "문자열은 포함된 문자와 기호의 순서를 중요하게 여기는\n",
    "**순차 자료형**<font size='2'>sequence type</font>이다.\n",
    "따라서 문자열의 항목으로 포함된 문자와 기호의 순서가 다르거나\n",
    "사용된 문자열의 길이가 다르면 서로 다른 문자열로 처리된다."
   ]
  },
  {
   "cell_type": "code",
   "execution_count": 70,
   "id": "37d0c38e",
   "metadata": {},
   "outputs": [
    {
     "data": {
      "text/plain": [
       "False"
      ]
     },
     "execution_count": 70,
     "metadata": {},
     "output_type": "execute_result"
    }
   ],
   "source": [
    "'ab' == 'ba'"
   ]
  },
  {
   "cell_type": "code",
   "execution_count": 71,
   "id": "852a5115",
   "metadata": {},
   "outputs": [
    {
     "data": {
      "text/plain": [
       "False"
      ]
     },
     "execution_count": 71,
     "metadata": {},
     "output_type": "execute_result"
    }
   ],
   "source": [
    "'aa' == 'aaa'"
   ]
  },
  {
   "cell_type": "markdown",
   "id": "8c4140e3",
   "metadata": {},
   "source": [
    "대소문자도 구별된다."
   ]
  },
  {
   "cell_type": "code",
   "execution_count": 72,
   "id": "14ff89d1",
   "metadata": {},
   "outputs": [
    {
     "data": {
      "text/plain": [
       "False"
      ]
     },
     "execution_count": 72,
     "metadata": {},
     "output_type": "execute_result"
    }
   ],
   "source": [
    "\"python\" == \"Python\""
   ]
  },
  {
   "cell_type": "markdown",
   "id": "a85e268b-49a7-4d42-9738-96c6d5e004fa",
   "metadata": {},
   "source": [
    "### 문자열 인덱싱"
   ]
  },
  {
   "cell_type": "markdown",
   "id": "9c38cc2c-8ab3-4a97-a414-e63a1ada4305",
   "metadata": {},
   "source": [
    "문자열은 문자 여러 개의 나열이며 문자들 사이의 순서가 중요하다.\n",
    "이때 문자열 왼편에 위치한 문자부터 차례대로 0, 1, 2, 3 등의\n",
    "**인덱스**<font size=\"2\">index</font>를 부여받는다.\n",
    "**인덱싱**<font size=\"2\">indexing</font>은 \n",
    "인덱스를 이용하여 문자열의 항목을 확인하는 기능이다."
   ]
  },
  {
   "cell_type": "code",
   "execution_count": 73,
   "id": "1632af09",
   "metadata": {},
   "outputs": [],
   "source": [
    "colors = 'red, blue, yellow'"
   ]
  },
  {
   "cell_type": "markdown",
   "id": "3d30091a",
   "metadata": {},
   "source": [
    "- 0 번 인덱스 값"
   ]
  },
  {
   "cell_type": "code",
   "execution_count": 74,
   "id": "d596653f",
   "metadata": {},
   "outputs": [
    {
     "data": {
      "text/plain": [
       "'r'"
      ]
     },
     "execution_count": 74,
     "metadata": {},
     "output_type": "execute_result"
    }
   ],
   "source": [
    "colors[0]"
   ]
  },
  {
   "cell_type": "markdown",
   "id": "8ed50898",
   "metadata": {},
   "source": [
    "- 3 번 인덱스 값"
   ]
  },
  {
   "cell_type": "code",
   "execution_count": 75,
   "id": "e256b856-af80-42d6-a0ce-2d9d787a7e05",
   "metadata": {},
   "outputs": [
    {
     "data": {
      "text/plain": [
       "','"
      ]
     },
     "execution_count": 75,
     "metadata": {},
     "output_type": "execute_result"
    }
   ],
   "source": [
    "colors[3]"
   ]
  },
  {
   "cell_type": "markdown",
   "id": "931036c1-1df6-406c-990d-7c23627730a2",
   "metadata": {},
   "source": [
    "인덱스를 문자열 오른쪽에서부터 차례대로 -1, -2, -3 등 음수로 지정할 수도 있다."
   ]
  },
  {
   "cell_type": "code",
   "execution_count": 76,
   "id": "7ac4b3da-194f-4540-9ed2-1ecd0b20bb4c",
   "metadata": {},
   "outputs": [
    {
     "data": {
      "text/plain": [
       "'w'"
      ]
     },
     "execution_count": 76,
     "metadata": {},
     "output_type": "execute_result"
    }
   ],
   "source": [
    "colors[-1] # 오른쪽 끝에 위치한 문자"
   ]
  },
  {
   "cell_type": "code",
   "execution_count": 77,
   "id": "279d307c-5d35-4ac2-ab78-374351634612",
   "metadata": {},
   "outputs": [
    {
     "data": {
      "text/plain": [
       "'o'"
      ]
     },
     "execution_count": 77,
     "metadata": {},
     "output_type": "execute_result"
    }
   ],
   "source": [
    "colors[-2] # 오른쪽 끝에서 두 번째 문자"
   ]
  },
  {
   "cell_type": "markdown",
   "id": "742a52f8",
   "metadata": {},
   "source": [
    "문자열의 길이에 따라 사용할 수 있는 인덱스의 기간이 정해진다.\n",
    "`colors` 변수가 가리키는 문자열은 길이가 17이기에 \n",
    "0부터 16까지의 정수 또는 -1부터 -17까지의 정수를 인덱스로 사용할 수 있다."
   ]
  },
  {
   "cell_type": "code",
   "execution_count": 78,
   "id": "220c0f46",
   "metadata": {},
   "outputs": [
    {
     "data": {
      "text/plain": [
       "17"
      ]
     },
     "execution_count": 78,
     "metadata": {},
     "output_type": "execute_result"
    }
   ],
   "source": [
    "len(colors)"
   ]
  },
  {
   "cell_type": "markdown",
   "id": "80e95693",
   "metadata": {},
   "source": [
    "-17보다 작거나 16보다 큰 경우 `IndexError` 오류가 발생한다."
   ]
  },
  {
   "cell_type": "code",
   "execution_count": 79,
   "id": "cb1875cb",
   "metadata": {},
   "outputs": [
    {
     "ename": "IndexError",
     "evalue": "string index out of range",
     "output_type": "error",
     "traceback": [
      "\u001b[0;31m---------------------------------------------------------------------------\u001b[0m",
      "\u001b[0;31mIndexError\u001b[0m                                Traceback (most recent call last)",
      "Cell \u001b[0;32mIn[79], line 1\u001b[0m\n\u001b[0;32m----> 1\u001b[0m colors[\u001b[38;5;241m50\u001b[39m]\n",
      "\u001b[0;31mIndexError\u001b[0m: string index out of range"
     ]
    }
   ],
   "source": [
    "colors[50]"
   ]
  },
  {
   "cell_type": "code",
   "execution_count": 80,
   "id": "6b896f1e",
   "metadata": {},
   "outputs": [
    {
     "ename": "IndexError",
     "evalue": "string index out of range",
     "output_type": "error",
     "traceback": [
      "\u001b[0;31m---------------------------------------------------------------------------\u001b[0m",
      "\u001b[0;31mIndexError\u001b[0m                                Traceback (most recent call last)",
      "Cell \u001b[0;32mIn[80], line 1\u001b[0m\n\u001b[0;32m----> 1\u001b[0m colors[\u001b[38;5;241m-\u001b[39m\u001b[38;5;241m20\u001b[39m]\n",
      "\u001b[0;31mIndexError\u001b[0m: string index out of range"
     ]
    }
   ],
   "source": [
    "colors[-20]"
   ]
  },
  {
   "cell_type": "markdown",
   "id": "1483771a",
   "metadata": {},
   "source": [
    "### 문자열 슬라이싱"
   ]
  },
  {
   "cell_type": "markdown",
   "id": "6ff7500f-0825-4ea7-8096-8c0072e7235e",
   "metadata": {
    "tags": []
   },
   "source": [
    "인덱스의 특정 구간에 해당하는 부분 문자열을 확인하려 할 때는 \n",
    "**슬라이싱**<font size = \"2\">slicing</font>을 사용한다.\n",
    "슬라이싱은 다음과 같이 실행한다.\n",
    "\n",
    "```python\n",
    "문자열[시작인덱스:끝인덱스:보폭]\n",
    "```\n",
    "\n",
    "시작과 끝은 슬라이싱 구간의 시작과 끝 인덱스를 가리키며 보폭은\n",
    "항목 선택 규칙을 의미한다.\n",
    "\n",
    "* 시작인덱스 : 시작 인덱스부터 문자 확인\n",
    "* 끝인덱스 : 끝 인덱스 이전까지의 문자 확인\n",
    "* 보폭: 시작 인덱스부터 몇 보폭씩 건너뛰며 문자를 추출할지 결정. \n",
    "    보폭의 크기가 1이면 생략 가능."
   ]
  },
  {
   "cell_type": "markdown",
   "id": "5ebc0f6f",
   "metadata": {},
   "source": [
    "`colors`에서 `red`를 추출하고 싶다면 다음과 같이 하면 된다. \n",
    "이유는 `r`의 인덱스는 0이고, `d`의 인덱스는 2이기 때문이다. "
   ]
  },
  {
   "cell_type": "code",
   "execution_count": 81,
   "id": "a8a02eab-a16d-4b62-a7f9-fd6675368f55",
   "metadata": {},
   "outputs": [
    {
     "data": {
      "text/plain": [
       "'red'"
      ]
     },
     "execution_count": 81,
     "metadata": {},
     "output_type": "execute_result"
    }
   ],
   "source": [
    "colors = 'red, blue, yellow'\n",
    "\n",
    "colors[0:3]"
   ]
  },
  {
   "cell_type": "markdown",
   "id": "fed9bf31",
   "metadata": {},
   "source": [
    "보폭을 1로 지정해도 동일한 결과를 얻는다."
   ]
  },
  {
   "cell_type": "code",
   "execution_count": 82,
   "id": "751e319e",
   "metadata": {},
   "outputs": [
    {
     "data": {
      "text/plain": [
       "'red'"
      ]
     },
     "execution_count": 82,
     "metadata": {},
     "output_type": "execute_result"
    }
   ],
   "source": [
    "colors[0:3:1]"
   ]
  },
  {
   "cell_type": "markdown",
   "id": "e9235d41-72ce-469f-b71f-5f2ee9f12b93",
   "metadata": {},
   "source": [
    "`colors`에서 5번 인덱스의 문자인 `b`부터 끝까지 하나씩 건너 뛰면서 추출하려면 다음과 같이 하면 된다. "
   ]
  },
  {
   "cell_type": "code",
   "execution_count": 83,
   "id": "b9016767-c4b3-4f19-aa57-37f3baf0167e",
   "metadata": {},
   "outputs": [
    {
     "data": {
      "text/plain": [
       "'bu,ylo'"
      ]
     },
     "execution_count": 83,
     "metadata": {},
     "output_type": "execute_result"
    }
   ],
   "source": [
    "colors[5:len(colors):2]"
   ]
  },
  {
   "cell_type": "markdown",
   "id": "d2500f09-12fe-407c-b396-09c94da53578",
   "metadata": {},
   "source": [
    "양의 정수와 음의 정수를 섞어서 인덱스로 사용할 수 있다.\n",
    "-1은 오른쪽 끝의 문자를 가리키는 인덱스임에 주의한다."
   ]
  },
  {
   "cell_type": "code",
   "execution_count": 84,
   "id": "b0d3b26d-5f98-49e6-ae6f-f32d2b42875b",
   "metadata": {},
   "outputs": [
    {
     "data": {
      "text/plain": [
       "'bu,ylo'"
      ]
     },
     "execution_count": 84,
     "metadata": {},
     "output_type": "execute_result"
    }
   ],
   "source": [
    "colors[5:-1:2]"
   ]
  },
  {
   "cell_type": "markdown",
   "id": "d0ff5eda",
   "metadata": {},
   "source": [
    "**슬라이싱 인덱스의 기본값**"
   ]
  },
  {
   "cell_type": "markdown",
   "id": "b7f8c0ba-3e3b-45c2-ad2c-9f911cb6aa8d",
   "metadata": {},
   "source": [
    "시작인덱스, 끝인덱스, 보폭 각각의 인자는 경우에 따라 생략될 수도 있다. \n",
    "그럴 때는 다음과 같이 지정된 기본값이 적용된다.\n",
    "\n",
    "* `시작인덱스`의 기본값 : `0`  \n",
    "* `끝인덱스`의 기본값 : 문자열의 길이  \n",
    "* `보폭`의 기본값 : `1`"
   ]
  },
  {
   "cell_type": "markdown",
   "id": "e329f477",
   "metadata": {},
   "source": [
    "- `colors[0:3:1]`"
   ]
  },
  {
   "cell_type": "code",
   "execution_count": 85,
   "id": "c26ea62e-c1d2-46fa-b4c3-09cdf756b032",
   "metadata": {},
   "outputs": [
    {
     "data": {
      "text/plain": [
       "'red'"
      ]
     },
     "execution_count": 85,
     "metadata": {},
     "output_type": "execute_result"
    }
   ],
   "source": [
    "colors[:3:]"
   ]
  },
  {
   "cell_type": "markdown",
   "id": "5062ea70",
   "metadata": {},
   "source": [
    "보폭을 생략할 떄는 둘 째 콜론(:)도 함께 생략할 수 있다."
   ]
  },
  {
   "cell_type": "markdown",
   "id": "426701e5",
   "metadata": {},
   "source": [
    "- `colors[0:3]`"
   ]
  },
  {
   "cell_type": "code",
   "execution_count": 86,
   "id": "0ab0f20a-f247-4baf-8d55-d9bdf4024594",
   "metadata": {},
   "outputs": [
    {
     "data": {
      "text/plain": [
       "'red'"
      ]
     },
     "execution_count": 86,
     "metadata": {},
     "output_type": "execute_result"
    }
   ],
   "source": [
    "colors[:3]"
   ]
  },
  {
   "cell_type": "markdown",
   "id": "5160146f",
   "metadata": {},
   "source": [
    "- `colors[5:len(colors):2]`"
   ]
  },
  {
   "cell_type": "code",
   "execution_count": 87,
   "id": "80f73adf-2d2c-4d05-8c73-ec6a482c7335",
   "metadata": {},
   "outputs": [
    {
     "data": {
      "text/plain": [
       "'bu,ylo'"
      ]
     },
     "execution_count": 87,
     "metadata": {},
     "output_type": "execute_result"
    }
   ],
   "source": [
    "colors[5::2]"
   ]
  },
  {
   "cell_type": "markdown",
   "id": "11f86b5c",
   "metadata": {},
   "source": [
    "**슬라이싱 인덱스의 범위**"
   ]
  },
  {
   "cell_type": "markdown",
   "id": "99428d4f",
   "metadata": {},
   "source": [
    "문자열의 인덱스 범위를 벗어나는 값으로 슬라이싱을 실행해도 오류가 발생하지 않는다.\n",
    "대신 문자열의 좌 또는 우 끝까지만 슬라이싱이 적용된다."
   ]
  },
  {
   "cell_type": "code",
   "execution_count": 88,
   "id": "5306c6e2",
   "metadata": {},
   "outputs": [
    {
     "data": {
      "text/plain": [
       "'red, blue, yellow'"
      ]
     },
     "execution_count": 88,
     "metadata": {},
     "output_type": "execute_result"
    }
   ],
   "source": [
    "colors[-30:100]"
   ]
  },
  {
   "cell_type": "code",
   "execution_count": 89,
   "id": "efbe5905",
   "metadata": {},
   "outputs": [
    {
     "data": {
      "text/plain": [
       "'beyl'"
      ]
     },
     "execution_count": 89,
     "metadata": {},
     "output_type": "execute_result"
    }
   ],
   "source": [
    "colors[5:100:3]"
   ]
  },
  {
   "cell_type": "markdown",
   "id": "3f6dc168",
   "metadata": {},
   "source": [
    "**역순 슬라이싱**\n",
    "\n",
    "슬라이싱은 기본적으로 작은 인덱스에서 큰 인덱스 방향으로 확인한다. \n",
    "하지만 보폭을 음의 정수로 지정하면 역순으로 항목을 확인한다.\n",
    "역순으로 슬라이싱을 지정하려면 시작인덱스가 끝인덱스보다 크면 된다."
   ]
  },
  {
   "cell_type": "code",
   "execution_count": 90,
   "id": "331faabb",
   "metadata": {},
   "outputs": [
    {
     "data": {
      "text/plain": [
       "'oe'"
      ]
     },
     "execution_count": 90,
     "metadata": {},
     "output_type": "execute_result"
    }
   ],
   "source": [
    "colors[-2:-8:-3]"
   ]
  },
  {
   "cell_type": "markdown",
   "id": "086a978f",
   "metadata": {},
   "source": [
    "보폭이 `-1`이고, 시작 인덱스와 끝 인덱스를 생략하면 문자열 전체를 역순으로 확인한다."
   ]
  },
  {
   "cell_type": "code",
   "execution_count": 91,
   "id": "ff7ed75c",
   "metadata": {},
   "outputs": [
    {
     "data": {
      "text/plain": [
       "'wolley ,eulb ,der'"
      ]
     },
     "execution_count": 91,
     "metadata": {},
     "output_type": "execute_result"
    }
   ],
   "source": [
    "colors[::-1]"
   ]
  },
  {
   "cell_type": "markdown",
   "id": "e736e8b4",
   "metadata": {},
   "source": [
    "### 불변 자료형: 문자열"
   ]
  },
  {
   "cell_type": "markdown",
   "id": "f4e4c102",
   "metadata": {},
   "source": [
    "문자열은 불변<font size='2'>immutable</font> 자료형이다.\n",
    "즉, 한 번 생성된 문자열은 수정할 수 없다. \n",
    "따라서 인덱싱 또는 슬라이싱을 사용하여 값의 일부를 변경하려 시도하면 \n",
    "수정을 허용하지 않는 자료형을 수정하려 시도한다는 의미에서 `TypeError`가 발생한다.\n",
    "\n",
    "예를 들어 아래 코드는 소문자 `h`를 인덱싱을 이용하여 대문자 `H`로 수정하려 하지만\n",
    "허용되지 않는다."
   ]
  },
  {
   "cell_type": "code",
   "execution_count": 92,
   "id": "8d648835",
   "metadata": {},
   "outputs": [
    {
     "ename": "TypeError",
     "evalue": "'str' object does not support item assignment",
     "output_type": "error",
     "traceback": [
      "\u001b[0;31m---------------------------------------------------------------------------\u001b[0m",
      "\u001b[0;31mTypeError\u001b[0m                                 Traceback (most recent call last)",
      "Cell \u001b[0;32mIn[92], line 2\u001b[0m\n\u001b[1;32m      1\u001b[0m word \u001b[38;5;241m=\u001b[39m \u001b[38;5;124m'\u001b[39m\u001b[38;5;124mhello\u001b[39m\u001b[38;5;124m'\u001b[39m\n\u001b[0;32m----> 2\u001b[0m word[\u001b[38;5;241m0\u001b[39m] \u001b[38;5;241m=\u001b[39m \u001b[38;5;124m'\u001b[39m\u001b[38;5;124mH\u001b[39m\u001b[38;5;124m'\u001b[39m\n",
      "\u001b[0;31mTypeError\u001b[0m: 'str' object does not support item assignment"
     ]
    }
   ],
   "source": [
    "word = 'hello'\n",
    "word[0] = 'H'"
   ]
  },
  {
   "cell_type": "markdown",
   "id": "55ec5f41",
   "metadata": {},
   "source": [
    "소문자를 대문자로 교체하는 일이 허용되지 않지만 \n",
    "주어진 문자열을 이용하여 새로운 문자열을 생성하는 방식으로 원하는 모양의 문자열을 생성할 수 있다.\n",
    "이를 위해 문자열 인덱싱과 슬라이싱, 그리고 문자열 연산을 활용한다.\n",
    "\n",
    "예를 들어 대문자 `H`로 시작하는 `Hello`를 `word` 변수를 이용하여 다음과 같이 생성할 수 있다."
   ]
  },
  {
   "cell_type": "code",
   "execution_count": 93,
   "id": "905ce524",
   "metadata": {},
   "outputs": [
    {
     "data": {
      "text/plain": [
       "'Hello'"
      ]
     },
     "execution_count": 93,
     "metadata": {},
     "output_type": "execute_result"
    }
   ],
   "source": [
    "'H' + word[1:]"
   ]
  },
  {
   "cell_type": "markdown",
   "id": "55989729",
   "metadata": {},
   "source": [
    "## 문자열 메서드 "
   ]
  },
  {
   "cell_type": "markdown",
   "id": "d12183aa-af4a-4207-9c4f-49b2419f75cc",
   "metadata": {},
   "source": [
    "문자열 자료형에만 사용하는 함수들이 있다. \n",
    "이와같이 특정 자료형에만 사용하는 함수들을 **메서드**<font size = \"2\">method</font>라 부른다.\n",
    "메서드는 일반적인 함수와는 달리\n",
    "특정 자료형의 값을 먼저 언급하고 바로 이어서 점(`.`)을 찍은 다음 호출한다."
   ]
  },
  {
   "cell_type": "markdown",
   "id": "b5f17304",
   "metadata": {},
   "source": [
    "문자열 자료형은 다양한 메서드를 제공한다.\n",
    "여기서는 아래 메서드의 기능만 살펴 본다."
   ]
  },
  {
   "cell_type": "markdown",
   "id": "79185a79-a39c-4306-9be3-ab280dc40e13",
   "metadata": {},
   "source": [
    ":::{list-table} 문자열 주요 메서드\n",
    ":widths: 12 10 38\n",
    ":header-rows: 1\n",
    ":name: string-methods\n",
    "\n",
    "*   - 기능\n",
    "    - 메서드\n",
    "    - 설명\n",
    "*   - 탐색\n",
    "    - `count()`\n",
    "    - 지정된 문자열이 등장한 횟수 반환\n",
    "*   - \n",
    "    - `find()`\n",
    "    - 지정된 문자열이 시작하는 인덱스 반환. 지정된 문자열이 없다면 -1 반환\n",
    "*   - \n",
    "    - `index()`\n",
    "    - 지정된 문자열이 시작하는 인덱스 반환. 지정된 문자열이 없다면 오류 발생\n",
    "*   - \n",
    "    - `startswith()`\n",
    "    - 지정된 문자열로 시작하는지 여부 판단\n",
    "*   - \n",
    "    - `endswith()`\n",
    "    - 지정된 문자열로 끝나는지 여부 판단\n",
    "*   - 소문자/대문자\n",
    "    - `lower()`\n",
    "    - 모든 영어 알파벳을 소문자로 바꾼 문자열 반환\n",
    "*   - \n",
    "    - `upper()`\n",
    "    - 모든 영어 알파벳을 대문자로 바꾼 문자열 반환\n",
    "*   - 교체/삭제\n",
    "    - `replace()`\n",
    "    - 지정된 부분 문자열이 다른 문자열로 교체된 문자열 반환\n",
    "*   - \n",
    "    - `strip()`\n",
    "    - 양끝에서 지정된 모든 문자가 최대한 많이 삭제된 문자열 반환. \n",
    "*   - 쪼개기/결합\n",
    "    - `split()`\n",
    "    - 문자열을 쪼개서 생성된 부분 문자열들로 구성된 리스트 반환. \n",
    "*   - \n",
    "    - `join()`\n",
    "    - 여러 개의 문자열을 결합해서 생성한 문자열 반환\n",
    ":::"
   ]
  },
  {
   "cell_type": "markdown",
   "id": "c963dad6",
   "metadata": {},
   "source": [
    "### 탐색"
   ]
  },
  {
   "cell_type": "markdown",
   "id": "cf3fdc4e",
   "metadata": {},
   "source": [
    "아래 문자열을 이용하여 먼저 탐색과 관련된 메서드의 기능을 살펴 본다."
   ]
  },
  {
   "cell_type": "code",
   "execution_count": 94,
   "id": "4277eb07",
   "metadata": {},
   "outputs": [],
   "source": [
    "words = \" \\tMy life is so so cool! \\n\""
   ]
  },
  {
   "cell_type": "markdown",
   "id": "63a58d25",
   "metadata": {},
   "source": [
    "**`count()` 메서드**"
   ]
  },
  {
   "cell_type": "markdown",
   "id": "df2c7e42",
   "metadata": {},
   "source": [
    "인자로 지정된 문자열이 몇 번 등장하는지를 확인한다.\n",
    "예를 들어 `'so'` 문자열은 `words`에 두 번 등장한다."
   ]
  },
  {
   "cell_type": "code",
   "execution_count": 95,
   "id": "45340a57",
   "metadata": {},
   "outputs": [
    {
     "data": {
      "text/plain": [
       "2"
      ]
     },
     "execution_count": 95,
     "metadata": {},
     "output_type": "execute_result"
    }
   ],
   "source": [
    "words.count('so')"
   ]
  },
  {
   "cell_type": "markdown",
   "id": "53600e46",
   "metadata": {},
   "source": [
    "반면에 `'soo'` 문자열은 `words` 문자열에 등장하지 않는다."
   ]
  },
  {
   "cell_type": "code",
   "execution_count": 96,
   "id": "998ac659",
   "metadata": {},
   "outputs": [
    {
     "data": {
      "text/plain": [
       "0"
      ]
     },
     "execution_count": 96,
     "metadata": {},
     "output_type": "execute_result"
    }
   ],
   "source": [
    "words.count('soo')"
   ]
  },
  {
   "cell_type": "markdown",
   "id": "b9731a07",
   "metadata": {},
   "source": [
    "**`find()` 메서드**"
   ]
  },
  {
   "cell_type": "markdown",
   "id": "ddd2ae13",
   "metadata": {},
   "source": [
    "지정된 문자열이 처음 시작하는 곳의 인덱스를 확인한다.\n",
    "예를들어, `'cool'` 문자열은 `words` 문자열의 13 번 인덱스부터 시작한다."
   ]
  },
  {
   "cell_type": "code",
   "execution_count": 97,
   "id": "f9cc9acd",
   "metadata": {},
   "outputs": [
    {
     "data": {
      "text/plain": [
       "19"
      ]
     },
     "execution_count": 97,
     "metadata": {},
     "output_type": "execute_result"
    }
   ],
   "source": [
    "words.find('cool')"
   ]
  },
  {
   "cell_type": "markdown",
   "id": "294de34d",
   "metadata": {},
   "source": [
    "등장하지 않으면 -1을 반환한다. \n",
    "예를 들어 `'col'` 문자열은 `words` 문자열에 등장하지 않는다."
   ]
  },
  {
   "cell_type": "code",
   "execution_count": 98,
   "id": "f61e5758",
   "metadata": {},
   "outputs": [
    {
     "data": {
      "text/plain": [
       "-1"
      ]
     },
     "execution_count": 98,
     "metadata": {},
     "output_type": "execute_result"
    }
   ],
   "source": [
    "words.find('col')"
   ]
  },
  {
   "cell_type": "markdown",
   "id": "cfc1e51b",
   "metadata": {},
   "source": [
    "**`index()` 메서드**"
   ]
  },
  {
   "cell_type": "markdown",
   "id": "e31b4f47",
   "metadata": {},
   "source": [
    "지정된 문자열이 처음 시작하는 곳의 인덱스를 확인한다.\n",
    "`'cool'` 문자열은 `words` 문자열의 13 번 인덱스부터 시작한다."
   ]
  },
  {
   "cell_type": "code",
   "execution_count": 99,
   "id": "66c527c5",
   "metadata": {},
   "outputs": [
    {
     "data": {
      "text/plain": [
       "19"
      ]
     },
     "execution_count": 99,
     "metadata": {},
     "output_type": "execute_result"
    }
   ],
   "source": [
    "words.index('cool')"
   ]
  },
  {
   "cell_type": "markdown",
   "id": "8089644d",
   "metadata": {},
   "source": [
    "등장하지 않으면 오류가 발생한다. \n",
    "예를 들어 `'col'` 문자열은 `words` 문자열에 등장하지 않는다."
   ]
  },
  {
   "cell_type": "code",
   "execution_count": 100,
   "id": "3c58c27b",
   "metadata": {},
   "outputs": [
    {
     "ename": "ValueError",
     "evalue": "substring not found",
     "output_type": "error",
     "traceback": [
      "\u001b[0;31m---------------------------------------------------------------------------\u001b[0m",
      "\u001b[0;31mValueError\u001b[0m                                Traceback (most recent call last)",
      "Cell \u001b[0;32mIn[100], line 1\u001b[0m\n\u001b[0;32m----> 1\u001b[0m words\u001b[38;5;241m.\u001b[39mindex(\u001b[38;5;124m'\u001b[39m\u001b[38;5;124mcol\u001b[39m\u001b[38;5;124m'\u001b[39m)\n",
      "\u001b[0;31mValueError\u001b[0m: substring not found"
     ]
    }
   ],
   "source": [
    "words.index('col')"
   ]
  },
  {
   "cell_type": "markdown",
   "id": "60f1fe49",
   "metadata": {},
   "source": [
    "**`startswith()` 메서드**"
   ]
  },
  {
   "cell_type": "markdown",
   "id": "3714d630",
   "metadata": {},
   "source": [
    "지정된 문자열로 시작하는지 여부를 판정한다.\n",
    "예를 들어 `words` 문자열은 `' \\tMy'` 문자열로 시작한다."
   ]
  },
  {
   "cell_type": "code",
   "execution_count": 116,
   "id": "60f1c32f",
   "metadata": {},
   "outputs": [
    {
     "data": {
      "text/plain": [
       "True"
      ]
     },
     "execution_count": 116,
     "metadata": {},
     "output_type": "execute_result"
    }
   ],
   "source": [
    "words.startswith(' \\tMy')"
   ]
  },
  {
   "cell_type": "markdown",
   "id": "cf150239",
   "metadata": {},
   "source": [
    "반면에 `'My'` 문자열로 시작하진 않는다."
   ]
  },
  {
   "cell_type": "code",
   "execution_count": 120,
   "id": "4892cab8",
   "metadata": {},
   "outputs": [
    {
     "data": {
      "text/plain": [
       "False"
      ]
     },
     "execution_count": 120,
     "metadata": {},
     "output_type": "execute_result"
    }
   ],
   "source": [
    "words.startswith('My')"
   ]
  },
  {
   "cell_type": "markdown",
   "id": "53e977cc",
   "metadata": {},
   "source": [
    "**`endswith()` 메서드**"
   ]
  },
  {
   "cell_type": "markdown",
   "id": "16085841",
   "metadata": {},
   "source": [
    "지정된 문자열로 끝나는지 여부를 판정한다.\n",
    "예를 들어 `words` 문자열은 `'cool!'` 문자열로 끝나지 않는다."
   ]
  },
  {
   "cell_type": "code",
   "execution_count": 118,
   "id": "17f3c146",
   "metadata": {},
   "outputs": [
    {
     "data": {
      "text/plain": [
       "False"
      ]
     },
     "execution_count": 118,
     "metadata": {},
     "output_type": "execute_result"
    }
   ],
   "source": [
    "words.endswith('cool!')"
   ]
  },
  {
   "cell_type": "markdown",
   "id": "a26c08f1",
   "metadata": {},
   "source": [
    "대신 `'cool! \\n'` 문자열로 끝난다."
   ]
  },
  {
   "cell_type": "code",
   "execution_count": 119,
   "id": "e64b2cf4",
   "metadata": {},
   "outputs": [
    {
     "data": {
      "text/plain": [
       "True"
      ]
     },
     "execution_count": 119,
     "metadata": {},
     "output_type": "execute_result"
    }
   ],
   "source": [
    "words.endswith('cool! \\n')"
   ]
  },
  {
   "cell_type": "markdown",
   "id": "b0433cb6",
   "metadata": {},
   "source": [
    "### 문자열 생성"
   ]
  },
  {
   "cell_type": "markdown",
   "id": "83fc9ac9",
   "metadata": {},
   "source": [
    "지금부터 언급되는 메서드는 `word` 문자열 자체를 수정하는 게 아니라 새로운 문자열을 생성한다.\n",
    "앞서 언급한 대로 문자열 자체는 수정될 수 없음에 주의한다."
   ]
  },
  {
   "cell_type": "code",
   "execution_count": 1,
   "id": "fddfd8a7",
   "metadata": {},
   "outputs": [],
   "source": [
    "words = \" \\tMy life is so so cool! \\n\""
   ]
  },
  {
   "cell_type": "markdown",
   "id": "c9aba52e",
   "metadata": {},
   "source": [
    "**`lower()` 메서드**"
   ]
  },
  {
   "cell_type": "markdown",
   "id": "45820347",
   "metadata": {},
   "source": [
    "모든 영어 알파벳을 소문자로 변경한 문자열을 반환한다.\n",
    "예를 들어 아래 코드는 `word` 문자열에 포함된 모든 문자열을 소문자로 변경한 문자열을 생성한다."
   ]
  },
  {
   "cell_type": "code",
   "execution_count": 2,
   "id": "2a2c9d04",
   "metadata": {},
   "outputs": [
    {
     "data": {
      "text/plain": [
       "' \\tmy life is so so cool! \\n'"
      ]
     },
     "execution_count": 2,
     "metadata": {},
     "output_type": "execute_result"
    }
   ],
   "source": [
    "words.lower()"
   ]
  },
  {
   "cell_type": "markdown",
   "id": "502f4b2e",
   "metadata": {},
   "source": [
    "**`upper()` 메서드**"
   ]
  },
  {
   "cell_type": "markdown",
   "id": "981b59da",
   "metadata": {},
   "source": [
    "모든 영어 알파벳을 소문자로 변경한 문자열을 반환한다.\n",
    "예를 들어 아래 코드는 `word` 문자열에 포함된 모든 문자열을 대문자로 변경한 문자열을 생성한다."
   ]
  },
  {
   "cell_type": "code",
   "execution_count": 3,
   "id": "42cad500",
   "metadata": {},
   "outputs": [
    {
     "data": {
      "text/plain": [
       "' \\tMY LIFE IS SO SO COOL! \\n'"
      ]
     },
     "execution_count": 3,
     "metadata": {},
     "output_type": "execute_result"
    }
   ],
   "source": [
    "words.upper()"
   ]
  },
  {
   "cell_type": "markdown",
   "id": "fdfd47b4",
   "metadata": {},
   "source": [
    "**`replace()` 메서드**"
   ]
  },
  {
   "cell_type": "markdown",
   "id": "d25554aa",
   "metadata": {},
   "source": [
    "지정된 부분 문자열이 지정된 다른 문자열로 교체된 문자열을 반환한다.\n",
    "예를 들어 아래 코드는 `word` 문자열에 포함된 `so` 문자열을 모두 `that` 으로 변경한 문자열을 생성한다."
   ]
  },
  {
   "cell_type": "code",
   "execution_count": 4,
   "id": "f4480c4c",
   "metadata": {},
   "outputs": [
    {
     "data": {
      "text/plain": [
       "' \\tMy life is that that cool! \\n'"
      ]
     },
     "execution_count": 4,
     "metadata": {},
     "output_type": "execute_result"
    }
   ],
   "source": [
    "words.replace('so', 'that')"
   ]
  },
  {
   "cell_type": "markdown",
   "id": "b6e3eeaa",
   "metadata": {},
   "source": [
    "**`strip()` 메서드**"
   ]
  },
  {
   "cell_type": "markdown",
   "id": "b7cb6f4c",
   "metadata": {},
   "source": [
    "인자를 지정하지 않으면 문자열 양끝에 위치한 모든 화이트 스페이스를 삭제한 문자열을 반환한다."
   ]
  },
  {
   "cell_type": "code",
   "execution_count": 18,
   "id": "fa399768",
   "metadata": {},
   "outputs": [
    {
     "data": {
      "text/plain": [
       "'My life is so so cool!'"
      ]
     },
     "execution_count": 18,
     "metadata": {},
     "output_type": "execute_result"
    }
   ],
   "source": [
    "words_stripped = words.strip()\n",
    "words_stripped"
   ]
  },
  {
   "cell_type": "markdown",
   "id": "ec6c1a93",
   "metadata": {},
   "source": [
    "새로운 문자열을 생성하는 메서드에 다른 문자열 메서드를 연속해서 적용할 수도 있다.\n",
    "예를 들어, 아래 코드는 문자열 양끝에서 화이트 스페이스를 제거하면 `'My'`로 시작함을 확인해준다."
   ]
  },
  {
   "cell_type": "code",
   "execution_count": 19,
   "id": "270fc404",
   "metadata": {},
   "outputs": [
    {
     "data": {
      "text/plain": [
       "True"
      ]
     },
     "execution_count": 19,
     "metadata": {},
     "output_type": "execute_result"
    }
   ],
   "source": [
    "words.strip().startswith('My')"
   ]
  },
  {
   "cell_type": "markdown",
   "id": "87a3342c",
   "metadata": {},
   "source": [
    "인자 문자열을 지정하면 인자에 포함된 모든 기호를 문자열 양끝에서 최대한 많이 삭제한 문자열을 반환한다.\n",
    "아래 코드는 양끝에서 공백 `' '`, 탭 `'\\t'`, 줄바꿈 `'\\n'`, 느낌표 `'!'`, \n",
    "소문자 와이 `'y'`, 대문자 엠 `'M'`을 최대한 많이 삭제한다."
   ]
  },
  {
   "cell_type": "code",
   "execution_count": 28,
   "id": "f66ef372",
   "metadata": {},
   "outputs": [
    {
     "data": {
      "text/plain": [
       "'life is so so cool'"
      ]
     },
     "execution_count": 28,
     "metadata": {},
     "output_type": "execute_result"
    }
   ],
   "source": [
    "words.strip(' \\t\\n!yM')"
   ]
  },
  {
   "cell_type": "markdown",
   "id": "e597a1d5",
   "metadata": {},
   "source": [
    "**`split()` 메서드**"
   ]
  },
  {
   "cell_type": "markdown",
   "id": "deedc843",
   "metadata": {},
   "source": [
    "인자를 지정하지 않으면 공백 기준으로 쪼갠 문자열들로 구성된 리스트를 반환한다.\n",
    "이 과정에서 문자열 양끝에 있는 화이트 스페이스는 모두 제거된다."
   ]
  },
  {
   "cell_type": "code",
   "execution_count": 29,
   "id": "c98572a8",
   "metadata": {},
   "outputs": [
    {
     "data": {
      "text/plain": [
       "['My', 'life', 'is', 'so', 'so', 'cool!']"
      ]
     },
     "execution_count": 29,
     "metadata": {},
     "output_type": "execute_result"
    }
   ],
   "source": [
    "words.split()"
   ]
  },
  {
   "cell_type": "markdown",
   "id": "13c8b8ef",
   "metadata": {},
   "source": [
    "문자열을 인자로 지정하면 해당 문자열을 기준으로 쪼개진 단어들의 리스트를 생성한다.\n",
    "예를 들어 아래 문자열은 단어들 사이에 하이픈 `\"-\"`이 위치한다."
   ]
  },
  {
   "cell_type": "code",
   "execution_count": 8,
   "id": "4f428352",
   "metadata": {},
   "outputs": [],
   "source": [
    "hyphen_words = 'My-life-is-so-so-cool!'"
   ]
  },
  {
   "cell_type": "markdown",
   "id": "b70922bd",
   "metadata": {},
   "source": [
    "위 문자열을 `\"-\"`을 기준으로 쪼개면 다음과 같다."
   ]
  },
  {
   "cell_type": "code",
   "execution_count": 36,
   "id": "5a30b78a",
   "metadata": {},
   "outputs": [
    {
     "data": {
      "text/plain": [
       "['My', 'life', 'is', 'so', 'so', 'cool!']"
      ]
     },
     "execution_count": 36,
     "metadata": {},
     "output_type": "execute_result"
    }
   ],
   "source": [
    "hyphen_words.split(\"-\")"
   ]
  },
  {
   "cell_type": "markdown",
   "id": "8ce09a8b",
   "metadata": {},
   "source": [
    "**`join()` 메서드**"
   ]
  },
  {
   "cell_type": "markdown",
   "id": "3fb2c913",
   "metadata": {},
   "source": [
    "여러 개의 문자열을 결합한다.\n",
    "인자로 문자열을 포함하여 문자열로 구성된 리스트, 튜플 등이 사용된다.\n",
    "`join()` 메서드를 호출하는 문자열은 지정된 항목들을 이어붙이는 연결고리 역할을 수행한다."
   ]
  },
  {
   "cell_type": "markdown",
   "id": "9ba99a49",
   "metadata": {},
   "source": [
    "예를 들어 아래 코드는 `hello` 문자열에 포함된 모든 문자열들 사이에 별표 기호를 추가하여 새로운 문자열을 생성한다."
   ]
  },
  {
   "cell_type": "code",
   "execution_count": 6,
   "id": "7d47d820",
   "metadata": {},
   "outputs": [
    {
     "data": {
      "text/plain": [
       "'h*e*l*l*o'"
      ]
     },
     "execution_count": 6,
     "metadata": {},
     "output_type": "execute_result"
    }
   ],
   "source": [
    "'*'.join('hello')"
   ]
  },
  {
   "cell_type": "markdown",
   "id": "da7bd3ad",
   "metadata": {},
   "source": [
    "문자열로 구성된 리스트가 인자로 사용되면\n",
    "항목으로 포함된 모든 문자열을 결합한다.\n",
    "예를 들어 아래 코드는 하이픈을 공백으로 대체하여\n",
    "정상적인 문자열을 생성한다."
   ]
  },
  {
   "cell_type": "code",
   "execution_count": 10,
   "id": "ff37382a",
   "metadata": {},
   "outputs": [
    {
     "data": {
      "text/plain": [
       "['My', 'life', 'is', 'so', 'so', 'cool!']"
      ]
     },
     "execution_count": 10,
     "metadata": {},
     "output_type": "execute_result"
    }
   ],
   "source": [
    "words_splitted = hyphen_words.split(\"-\")\n",
    "words_splitted"
   ]
  },
  {
   "cell_type": "code",
   "execution_count": 11,
   "id": "990b0402",
   "metadata": {},
   "outputs": [
    {
     "data": {
      "text/plain": [
       "'My life is so so cool!'"
      ]
     },
     "execution_count": 11,
     "metadata": {},
     "output_type": "execute_result"
    }
   ],
   "source": [
    "' '.join(words_splitted)"
   ]
  },
  {
   "cell_type": "markdown",
   "id": "06714d5e",
   "metadata": {},
   "source": [
    "아래처럼 한 줄 표현식도 가능하다."
   ]
  },
  {
   "cell_type": "code",
   "execution_count": 12,
   "id": "3f4dd11c",
   "metadata": {},
   "outputs": [
    {
     "data": {
      "text/plain": [
       "'My life is so so cool!'"
      ]
     },
     "execution_count": 12,
     "metadata": {},
     "output_type": "execute_result"
    }
   ],
   "source": [
    "' '.join(hyphen_words.split(\"-\"))"
   ]
  },
  {
   "cell_type": "markdown",
   "id": "fc919de1",
   "metadata": {},
   "source": [
    "## 필수 예제"
   ]
  },
  {
   "cell_type": "markdown",
   "id": "92c74268",
   "metadata": {},
   "source": [
    "참고: [(필수 예제) 문자열](https://colab.research.google.com/github/codingalzi/pybook/blob/master/examples/examples-strings.ipynb)"
   ]
  },
  {
   "cell_type": "markdown",
   "id": "3856cb4a",
   "metadata": {},
   "source": [
    "## 연습문제"
   ]
  },
  {
   "cell_type": "markdown",
   "id": "17fcce4f",
   "metadata": {},
   "source": [
    "참고: [(실습) 문자열](https://colab.research.google.com/github/codingalzi/pybook/blob/master/practices/practice-strings.ipynb)"
   ]
  }
 ],
 "metadata": {
  "kernelspec": {
   "display_name": "Python 3 (ipykernel)",
   "language": "python",
   "name": "python3"
  },
  "language_info": {
   "codemirror_mode": {
    "name": "ipython",
    "version": 3
   },
   "file_extension": ".py",
   "mimetype": "text/x-python",
   "name": "python",
   "nbconvert_exporter": "python",
   "pygments_lexer": "ipython3",
   "version": "3.11.5"
  },
  "toc-autonumbering": true,
  "vscode": {
   "interpreter": {
    "hash": "6c86b3592b6800d985c04531f2c445f0fa6967131b8dd6395a925f7622e55602"
   }
  }
 },
 "nbformat": 4,
 "nbformat_minor": 5
}

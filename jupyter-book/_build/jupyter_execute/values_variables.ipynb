{
 "cells": [
  {
   "cell_type": "markdown",
   "metadata": {},
   "source": [
    "# 값과 변수"
   ]
  },
  {
   "cell_type": "markdown",
   "metadata": {},
   "source": [
    "**추가 사항:** `in` 연산자와 인덱싱 관련 예제와 연습문제 추가 필요"
   ]
  },
  {
   "cell_type": "markdown",
   "metadata": {},
   "source": [
    "프로그래밍언어의 핵심 기능 중의 하나가 \n",
    "바로 컴퓨터에 저장된 값을 조작하는 일이다.\n",
    "값을 저장하고 조작하기 위해 값을 가리키는 이름이 필요한데\n",
    "이를 위해 변수를 사용한다.\n",
    "\n",
    "이번 장에서는 변수의 활용법과 함께 \n",
    "파이썬에서 기본으로 제공하는 값의 종류와 값을 표현하는 표현식에 대해 알아본다."
   ]
  },
  {
   "cell_type": "markdown",
   "metadata": {},
   "source": [
    "## 값"
   ]
  },
  {
   "cell_type": "markdown",
   "metadata": {},
   "source": [
    "**값**<font size=\"2\">values</font>은 컴퓨터에 저장해서\n",
    "활용할 수 있는 대상이다.\n",
    "정수, 부동소수점, 문자열 이 대표적인 값들이며\n",
    "이외에 부울값과 리스트 등 다양한 값들이 사용된다."
   ]
  },
  {
   "cell_type": "markdown",
   "metadata": {},
   "source": [
    "**정수**"
   ]
  },
  {
   "cell_type": "markdown",
   "metadata": {},
   "source": [
    "정수는 ..., -2, -1, 0, 1, 2, ... 등 이미 알고 있는 것과 동일한 숫자를 가리킨다."
   ]
  },
  {
   "cell_type": "markdown",
   "metadata": {},
   "source": [
    "**부동소수점**"
   ]
  },
  {
   "cell_type": "markdown",
   "metadata": {},
   "source": [
    "무리수를 포함한 모든 실수는 컴퓨터의 용향 한계로 인해 불완전하게 다뤄진다.\n",
    "파이썬을 포함하여 모든 프로그래밍 언어는 유한소수와 무한소수 모두 \n",
    "소수점 이하 적당한 자리에서 끊어 저장한다.\n",
    "소수점 이하 자릿수를 얼마로 할 것인가는 프로그램이 실행되는 환경에 따라 달라진다.\n",
    "이런 의미에서 유한소수의 자료형을\n",
    "**부동소수점**<font size='2'>floating points</font>이라 부른다."
   ]
  },
  {
   "cell_type": "markdown",
   "metadata": {},
   "source": [
    "**문자열**"
   ]
  },
  {
   "cell_type": "markdown",
   "metadata": {},
   "source": [
    "정수, 부동소수점과 더불어 \n",
    "`a`, `b`, `c`, ..., `가`, `나`, `다`, ..., `!`, `:`, `;`, `_`, `(`, `)`, ... 처럼\n",
    "컴퓨터 키보드를 이용하여 입력할 수 있는 임의의 문자, 숫자, 기호로 \n",
    "구성된 문자열도 값이다.\n",
    "예를 들어, `파이썬 좋아요;-)`, `Hello, World!` 등과 같은 문자열도 값이다.\n",
    "이외에 파이썬은 리스트, 튜플, 집합, 사전 등 다양한 종류의 값을 제공하며,\n",
    "앞으로 하나씩 상세히 살펴볼 것이다."
   ]
  },
  {
   "cell_type": "markdown",
   "metadata": {},
   "source": [
    "**부울값**"
   ]
  },
  {
   "cell_type": "markdown",
   "metadata": {},
   "source": [
    "참과 거짓을 의미하는 `True`와 `False`를 \n",
    "**부울값**<font size=\"2\">Boolean value</font>\n",
    "또는 **진릿값**이라 한다."
   ]
  },
  {
   "cell_type": "markdown",
   "metadata": {},
   "source": [
    "**리스트**"
   ]
  },
  {
   "cell_type": "markdown",
   "metadata": {},
   "source": [
    "**리스트**<font size=\"2\">list</font>는 여러 개의 값을 항목으로 갖는 목록을 가리키는 값이다.\n",
    "리스트는 대괄호 `[]` 로 항목들의 목록을 감싸고, 각각의 항목은 쉼표 `,` 로 구분한다. \n",
    "예를 들어, 1부터 5까지의 정수로 구성된 리스트를 가리키는 변수를 다음과 같이 선언한다."
   ]
  },
  {
   "cell_type": "code",
   "execution_count": 1,
   "metadata": {},
   "outputs": [],
   "source": [
    "one2five = [1, 2, 3, 4, 5]"
   ]
  },
  {
   "cell_type": "markdown",
   "metadata": {},
   "source": [
    "아래 `name_list` 변수는 사람들의 이름, 즉 문자열로 구성된 리스트를 가리킨다."
   ]
  },
  {
   "cell_type": "code",
   "execution_count": 2,
   "metadata": {},
   "outputs": [],
   "source": [
    "name_list = ['김강현', '황현', '남세원', '최흥선', '김현선', '함중아']"
   ]
  },
  {
   "cell_type": "markdown",
   "metadata": {},
   "source": [
    "리스트의 항목은 서로 다른 종류의 값이 사용될 수도 있다.\n",
    "예를 들어 아래 리스트는 김강현의 이름, 전화번호, 나이, 키, 출생지로 구성된 \n",
    "리스트를 정의한다."
   ]
  },
  {
   "cell_type": "code",
   "execution_count": 3,
   "metadata": {},
   "outputs": [],
   "source": [
    "kgh = ['김강현', '010-1234-5678', 20, 172.3, '제주']"
   ]
  },
  {
   "cell_type": "markdown",
   "metadata": {},
   "source": [
    "**기타 등등**"
   ]
  },
  {
   "cell_type": "markdown",
   "metadata": {},
   "source": [
    "정수, 부동소수점, 문자열, 부울값, 리스트 이외에 튜플, 사전, 파일 등 보다 복잡한 종류의 값도 사용한다.\n",
    "앞으로 필요에 따라 하나씩 살펴볼 예정이다."
   ]
  },
  {
   "cell_type": "markdown",
   "metadata": {},
   "source": [
    "## 기초 명령문: 조건문"
   ]
  },
  {
   "cell_type": "markdown",
   "metadata": {},
   "source": [
    "컴퓨터 프로그램은 값을 저장하고 조작하여 새로운 값을 계산하여 활용하는 방법을 묘사한다.\n",
    "그리고 새로운 값을 계산할 때 주어진 값에 따라 다른 방법으로 일을 하도록 할 수 있다."
   ]
  },
  {
   "cell_type": "markdown",
   "metadata": {},
   "source": [
    "**if ... 조건문**"
   ]
  },
  {
   "cell_type": "markdown",
   "metadata": {},
   "source": [
    "예를 들어 아래 코드는 파이썬을 좋아하는 경우에만 '안녕!'과 '파이썬 좋아요.' 두 문자열이 출력되도록 한다."
   ]
  },
  {
   "cell_type": "code",
   "execution_count": 4,
   "metadata": {},
   "outputs": [
    {
     "name": "stdout",
     "output_type": "stream",
     "text": [
      "안녕!\n",
      "파이썬 좋아요.\n"
     ]
    }
   ],
   "source": [
    "love_python = True\n",
    "\n",
    "if love_python:\n",
    "    print(\"안녕!\")\n",
    "    print(\"파이썬 좋아요.\")"
   ]
  },
  {
   "cell_type": "markdown",
   "metadata": {},
   "source": [
    "`if love_python`은 `love_python`이 참인지 여부를 확인하도록 하는 명령문이다.\n",
    "그런데 1번 줄에서 `love_python = True`라고 작성되어 있기에 \n",
    "`love_python`이 참으로 확인되고, \n",
    "따라서 들여쓰기된 `print(\"안녕!\")`와 `print('파이썬 좋아요.')` 두 명령문이 차례대로 실행된다."
   ]
  },
  {
   "cell_type": "markdown",
   "metadata": {},
   "source": [
    ":::{admonition} 들여쓰기와 코드 블록\n",
    ":class: note\n",
    "\n",
    "`if love_python:`에 콜론 기호 `:` 사용되고 이어지는 두 개의 명령문은 들여쓰기 이후에 작성되었음에 주의한다.\n",
    "파이썬은 들여쓰기를 이용하여 명령문들로 구성된 코드 블록을 지정한다.\n",
    "\n",
    "이렇게 동일한 정도의 들여쓰기 이후에 작성된 명령문으로 구성된 코드 블록은 특정 조건 하에서만 실행된다.\n",
    "예를 들어 위 코드에서는 `love_python`이 참이기에 들여쓰기된 코드 블록이 실행되었다.\n",
    "\n",
    "들여쓰기는 일반적으로 <kbd>Tab</kbd> 키를 이용하며, 일반적으로 <kbd>Space</kbd> 키를 \n",
    "4번 또는 2번 타입핑한 결과로 처리된다.\n",
    "사용하는 편집기에 따라 들여쓰기 정도를 지정하는 옵션이 제공된다.\n",
    ":::"
   ]
  },
  {
   "cell_type": "markdown",
   "metadata": {},
   "source": [
    "반면에 아래 코드를 실행하면 아무 것도 출력되지 않는다.\n",
    "이유는 1번 줄에서 `love_python`이 거짓으로 확인되어 들여쓰기된 코드 블록이 실행되지 않기 때문이다."
   ]
  },
  {
   "cell_type": "code",
   "execution_count": 5,
   "metadata": {},
   "outputs": [],
   "source": [
    "love_python = False\n",
    "\n",
    "if love_python:\n",
    "    print(\"안녕!\")\n",
    "    print(\"파이썬 좋아요.\")"
   ]
  },
  {
   "cell_type": "markdown",
   "metadata": {},
   "source": [
    "**if ... else ... 조건문**"
   ]
  },
  {
   "cell_type": "markdown",
   "metadata": {},
   "source": [
    "위 코드의 `if lov_python` 조건문에서 `love_python`이 거짓이어서 들여쓰기된 코드 블록이 실행되지 않았다.\n",
    "그런데 그런 경우, 즉 `if` 다음이 거짓으로 판정될 때 실행되는 다른 코드 블록을 `else` 키워드를 이용하여 지정할 수 있다.\n",
    "예를 들어 아래 코드는 파이썬을 좋아하지 않는 경우에 파이썬을 사랑해주면 행복진다는 문장을 출력한다."
   ]
  },
  {
   "cell_type": "code",
   "execution_count": 6,
   "metadata": {},
   "outputs": [
    {
     "name": "stdout",
     "output_type": "stream",
     "text": [
      "파이썬을 사랑해주세요!\n",
      "그러면 행복해집니다.\n"
     ]
    }
   ],
   "source": [
    "love_python = False\n",
    "\n",
    "if love_python:\n",
    "    print(\"안녕!\")\n",
    "    print(\"파이썬 좋아요.\")\n",
    "else:\n",
    "    print(\"파이썬을 사랑해주세요!\")\n",
    "    print(\"그러면 행복해집니다.\")"
   ]
  },
  {
   "cell_type": "markdown",
   "metadata": {},
   "source": [
    "`else` 키워드 또한 콜론 기호 `:`로 끝나고 줄바꿈 후에 들여쓰기로 코드 블록을 지정함에 주의한다."
   ]
  },
  {
   "cell_type": "markdown",
   "metadata": {},
   "source": [
    "## 연산자와 값"
   ]
  },
  {
   "cell_type": "markdown",
   "metadata": {},
   "source": [
    "일반적으로 사칙연산은 정수, 유리수, 실수 등을 대상으로 하는 수학 계산을 의미한다.\n",
    "반면에 프로그래밍에서는 정수, 부동소수점 이외에 문자열, 리스트 등에 대해서도 연산이 지원된다."
   ]
  },
  {
   "cell_type": "markdown",
   "metadata": {},
   "source": [
    "**연산자**"
   ]
  },
  {
   "cell_type": "markdown",
   "metadata": {},
   "source": [
    "**연산자**<font size=\"2\">operator</font>는\n",
    "연산을 위해 사용되는 기호를 가리킨다.\n",
    "프로그래밍에서 가장 많이 사용되는 연산자는 다음과 같다.\n",
    "\n",
    "* 사칙 연산자: `+`, `-`, `*`, `/`\n",
    "* 거듭제곱 연산자: `**`\n",
    "* 비교 연산자: `<`, `>`, `<=`, `>=`, `==`"
   ]
  },
  {
   "cell_type": "markdown",
   "metadata": {},
   "source": [
    "언급된 연산자들이 정수와 부동소수점의 연산에 사용되면 수학에서의 연산과 동일하다.\n",
    "그런데 다른 종류의 값에는 다르게 계산된다."
   ]
  },
  {
   "cell_type": "markdown",
   "metadata": {},
   "source": [
    "**부울값 연산**"
   ]
  },
  {
   "cell_type": "markdown",
   "metadata": {},
   "source": [
    "등식, 부등식은 부울값으로 계산된다.\n",
    "등식, 부등식처럼 부울값으로 계산되는 수식을 **논리식**이라 부른다.\n",
    "아래 표는 기본 논리식과 의미를 담고 있다.\n",
    "나중에 보다 복잡한 논리식을 정의하는 방법을 다룰 것이다."
   ]
  },
  {
   "cell_type": "markdown",
   "metadata": {},
   "source": [
    "| 기본 논리식 | 의미 |\n",
    "| :---: | :--- |\n",
    "| a < b | a가 가리키는 값이 b가 가리키는 값보다 작을 때 참 |\n",
    "| a <= b | a가 가리키는 값이 b가 가리키는 값보다 작거나 같을 때 참 |\n",
    "| a > b | a가 가리키는 값이 b가 가리키는 값보다 클 때 참 |\n",
    "| a >= b | a가 가리키는 값이 b가 가리키는 값보다 크거나 같을 때 참 |\n",
    "| a == b | a와 b가 동일한 값을 가리킬 때 참 |\n",
    "| a != b | a와 b가 동일하지 않은 값을 가리킬 때 참 |"
   ]
  },
  {
   "cell_type": "markdown",
   "metadata": {},
   "source": [
    "기본 논리식의 의미는 일반적으로 알려진 것과 동일하다."
   ]
  },
  {
   "cell_type": "markdown",
   "metadata": {},
   "source": [
    "- 큰지 여부 판단"
   ]
  },
  {
   "cell_type": "code",
   "execution_count": 7,
   "metadata": {},
   "outputs": [
    {
     "data": {
      "text/plain": [
       "False"
      ]
     },
     "execution_count": 7,
     "metadata": {},
     "output_type": "execute_result"
    }
   ],
   "source": [
    "3 > 4"
   ]
  },
  {
   "cell_type": "markdown",
   "metadata": {},
   "source": [
    "- 크거나 같은지 여부 판단"
   ]
  },
  {
   "cell_type": "code",
   "execution_count": 8,
   "metadata": {},
   "outputs": [
    {
     "data": {
      "text/plain": [
       "True"
      ]
     },
     "execution_count": 8,
     "metadata": {},
     "output_type": "execute_result"
    }
   ],
   "source": [
    "3 >= 4 - 1"
   ]
  },
  {
   "cell_type": "markdown",
   "metadata": {},
   "source": [
    "- 작은지 여부 판단"
   ]
  },
  {
   "cell_type": "code",
   "execution_count": 9,
   "metadata": {},
   "outputs": [
    {
     "data": {
      "text/plain": [
       "False"
      ]
     },
     "execution_count": 9,
     "metadata": {},
     "output_type": "execute_result"
    }
   ],
   "source": [
    "5/3 + 1.2 < 3/2"
   ]
  },
  {
   "cell_type": "markdown",
   "metadata": {},
   "source": [
    "- 작거나 같은지 여부 판단"
   ]
  },
  {
   "cell_type": "code",
   "execution_count": 10,
   "metadata": {},
   "outputs": [
    {
     "data": {
      "text/plain": [
       "True"
      ]
     },
     "execution_count": 10,
     "metadata": {},
     "output_type": "execute_result"
    }
   ],
   "source": [
    "2.3 <= 2.3 + 3.0 "
   ]
  },
  {
   "cell_type": "markdown",
   "metadata": {},
   "source": [
    "- 동치 여부 판단: 두 값이 동일할 때 `True`로 계산됨."
   ]
  },
  {
   "cell_type": "code",
   "execution_count": 11,
   "metadata": {},
   "outputs": [
    {
     "data": {
      "text/plain": [
       "True"
      ]
     },
     "execution_count": 11,
     "metadata": {},
     "output_type": "execute_result"
    }
   ],
   "source": [
    "1 == 4/4.0"
   ]
  },
  {
   "cell_type": "markdown",
   "metadata": {},
   "source": [
    "- 비동치 여부 판단: 두 값이 서로 다를 때 `True`로 계산됨."
   ]
  },
  {
   "cell_type": "code",
   "execution_count": 12,
   "metadata": {},
   "outputs": [
    {
     "data": {
      "text/plain": [
       "True"
      ]
     },
     "execution_count": 12,
     "metadata": {},
     "output_type": "execute_result"
    }
   ],
   "source": [
    "1 != 2"
   ]
  },
  {
   "cell_type": "markdown",
   "metadata": {},
   "source": [
    ":::{admonition} `=` vs. `==`\n",
    ":class: note\n",
    "\n",
    "기호 `=` 는 변수 할당에 사용되는 기호이다.\n",
    "기호 왼편에는 변수가, 오른편에는 특정 값을 표현하는 식이 사용된다.\n",
    "예를 들어 `z = 1+3`은 변수 `z`가 1+3, 즉 4를 가리키도록 하는 명령문이다.\n",
    "\n",
    "반면에 기호 `==`는 두 개의 값이 동일한 값을 가리키는지 여부를 판단할 때 사용된다.\n",
    "예를 들어 `z == 2 * 3 - 2`은 변수 `z`가 가리키는 값과 2+3-2가  동일한 값을 가리키는지 여부를 판단한다.\n",
    ":::"
   ]
  },
  {
   "cell_type": "markdown",
   "metadata": {},
   "source": [
    "**리스트 연산: 이어붙이기와 복제**"
   ]
  },
  {
   "cell_type": "markdown",
   "metadata": {},
   "source": [
    "`+`, `*` 등이 문자열, 리스트 등에 대해서도 특별한 방식으로 활용된다.\n",
    "설명을 위해 아래 두 리스트를 이용한다."
   ]
  },
  {
   "cell_type": "code",
   "execution_count": 13,
   "metadata": {},
   "outputs": [],
   "source": [
    "first_languages = ['파이썬', 'C', '자바']\n",
    "second_languages = ['C++', 'C#', '자바스크립트', 'Node.js']"
   ]
  },
  {
   "cell_type": "markdown",
   "metadata": {},
   "source": [
    "- 리스트와 `+` 연산자: 두 개의 리스트를 이어붙여 하나의 리스트로 계산"
   ]
  },
  {
   "cell_type": "code",
   "execution_count": 14,
   "metadata": {},
   "outputs": [
    {
     "data": {
      "text/plain": [
       "['파이썬', 'C', '자바', 'C++', 'C#', '자바스크립트', 'Node.js']"
      ]
     },
     "execution_count": 14,
     "metadata": {},
     "output_type": "execute_result"
    }
   ],
   "source": [
    "languages = first_languages + second_languages\n",
    "languages"
   ]
  },
  {
   "cell_type": "markdown",
   "metadata": {},
   "source": [
    "- 리스트와 `*` 연산자: 주어진 리스트를 지정된 정수만큼 복제해서 이어붙인 리스트로 계산"
   ]
  },
  {
   "cell_type": "code",
   "execution_count": 15,
   "metadata": {},
   "outputs": [
    {
     "data": {
      "text/plain": [
       "['파이썬',\n",
       " 'C',\n",
       " '자바',\n",
       " 'C++',\n",
       " 'C#',\n",
       " '자바스크립트',\n",
       " 'Node.js',\n",
       " '파이썬',\n",
       " 'C',\n",
       " '자바',\n",
       " 'C++',\n",
       " 'C#',\n",
       " '자바스크립트',\n",
       " 'Node.js']"
      ]
     },
     "execution_count": 15,
     "metadata": {},
     "output_type": "execute_result"
    }
   ],
   "source": [
    "languages * 2"
   ]
  },
  {
   "cell_type": "markdown",
   "metadata": {},
   "source": [
    "**문자열 연산: 이어붙이기와 복제**"
   ]
  },
  {
   "cell_type": "markdown",
   "metadata": {},
   "source": [
    "문자열에 대해서도 유사한 방식으로 `+`, `*` 연산자가 기능한다."
   ]
  },
  {
   "cell_type": "code",
   "execution_count": 16,
   "metadata": {},
   "outputs": [],
   "source": [
    "first = '파이썬, '\n",
    "second = '안녕!'"
   ]
  },
  {
   "cell_type": "markdown",
   "metadata": {},
   "source": [
    "- 문자열과 `+` 연산자: 두 개의 문자열을 그대로 이어붙인 문자열로 계산"
   ]
  },
  {
   "cell_type": "code",
   "execution_count": 17,
   "metadata": {},
   "outputs": [
    {
     "data": {
      "text/plain": [
       "'파이썬, 안녕!'"
      ]
     },
     "execution_count": 17,
     "metadata": {},
     "output_type": "execute_result"
    }
   ],
   "source": [
    "greetings = first + second\n",
    "greetings"
   ]
  },
  {
   "cell_type": "markdown",
   "metadata": {},
   "source": [
    "- 문자열과 `*` 연산자: 주어진 문자열을 지정된 정수만큼 복제해서 이어붙인 문자열로 계산"
   ]
  },
  {
   "cell_type": "code",
   "execution_count": 18,
   "metadata": {},
   "outputs": [
    {
     "data": {
      "text/plain": [
       "'파이썬, 안녕!파이썬, 안녕!파이썬, 안녕!'"
      ]
     },
     "execution_count": 18,
     "metadata": {},
     "output_type": "execute_result"
    }
   ],
   "source": [
    "greetings * 3"
   ]
  },
  {
   "cell_type": "markdown",
   "metadata": {},
   "source": [
    "**리스트 `in` 연산자**"
   ]
  },
  {
   "cell_type": "markdown",
   "metadata": {},
   "source": [
    "리스트에 항목으로 포함되어 있는지 여부는 `in` 연산자를 이용하며 결과는\n",
    "부울값으로 계산된다.\n",
    "예를 들어 파이썬은 `first_languages`가 가리키는 리스트에 포함되어 있고,\n",
    "자바는 `second_languages`가 가리키는 리스트에 포함되어 있지 않다."
   ]
  },
  {
   "cell_type": "code",
   "execution_count": 19,
   "metadata": {},
   "outputs": [
    {
     "data": {
      "text/plain": [
       "True"
      ]
     },
     "execution_count": 19,
     "metadata": {},
     "output_type": "execute_result"
    }
   ],
   "source": [
    "'파이썬' in first_languages"
   ]
  },
  {
   "cell_type": "code",
   "execution_count": 20,
   "metadata": {},
   "outputs": [
    {
     "data": {
      "text/plain": [
       "False"
      ]
     },
     "execution_count": 20,
     "metadata": {},
     "output_type": "execute_result"
    }
   ],
   "source": [
    "'자바' in second_languages"
   ]
  },
  {
   "cell_type": "markdown",
   "metadata": {},
   "source": [
    "**문자열 `in` 연산자**"
   ]
  },
  {
   "cell_type": "markdown",
   "metadata": {},
   "source": [
    "문자열에 대해서도 `in` 연산자를 사용할 수 있다.\n",
    "아래 코드는  다양한 예제를 통해 `greetings`가 가리키는 문자열에 포함된\n",
    "지정된 기호와 문장의 포함여부를 판정해 준다."
   ]
  },
  {
   "cell_type": "code",
   "execution_count": 21,
   "metadata": {},
   "outputs": [
    {
     "data": {
      "text/plain": [
       "True"
      ]
     },
     "execution_count": 21,
     "metadata": {},
     "output_type": "execute_result"
    }
   ],
   "source": [
    "'!' in greetings"
   ]
  },
  {
   "cell_type": "code",
   "execution_count": 22,
   "metadata": {},
   "outputs": [
    {
     "data": {
      "text/plain": [
       "False"
      ]
     },
     "execution_count": 22,
     "metadata": {},
     "output_type": "execute_result"
    }
   ],
   "source": [
    "'?' in greetings"
   ]
  },
  {
   "cell_type": "code",
   "execution_count": 23,
   "metadata": {},
   "outputs": [
    {
     "data": {
      "text/plain": [
       "True"
      ]
     },
     "execution_count": 23,
     "metadata": {},
     "output_type": "execute_result"
    }
   ],
   "source": [
    "'파' in greetings"
   ]
  },
  {
   "cell_type": "code",
   "execution_count": 24,
   "metadata": {},
   "outputs": [
    {
     "data": {
      "text/plain": [
       "True"
      ]
     },
     "execution_count": 24,
     "metadata": {},
     "output_type": "execute_result"
    }
   ],
   "source": [
    "'파이썬' in greetings"
   ]
  },
  {
   "cell_type": "code",
   "execution_count": 25,
   "metadata": {},
   "outputs": [
    {
     "data": {
      "text/plain": [
       "True"
      ]
     },
     "execution_count": 25,
     "metadata": {},
     "output_type": "execute_result"
    }
   ],
   "source": [
    "', ' in greetings"
   ]
  },
  {
   "cell_type": "code",
   "execution_count": 26,
   "metadata": {},
   "outputs": [
    {
     "data": {
      "text/plain": [
       "False"
      ]
     },
     "execution_count": 26,
     "metadata": {},
     "output_type": "execute_result"
    }
   ],
   "source": [
    "'파이썬 안녕' in greetings"
   ]
  },
  {
   "cell_type": "markdown",
   "metadata": {},
   "source": [
    "**리스트 인덱싱**"
   ]
  },
  {
   "cell_type": "markdown",
   "metadata": {},
   "source": [
    "리스트에 포함된 각각의 항목은 고유의 **인덱스**<font size='2'>index</font>를 갖는다.\n",
    "인덱스는 가장 왼쪽에 위치한 항목부터 차례대로 0, 1, 2, 3 ... 로 지정된다.\n",
    "그리고 인덱스를 이용하여 해당 인덱스의 항목을 확인하여 활용할 수 있는데 이를\n",
    "**인덱싱**<font size='2'>indexing</font>이라 부른다."
   ]
  },
  {
   "cell_type": "markdown",
   "metadata": {},
   "source": [
    "설명을 위해 `name_list`가 가리키는 리스트를 활용한다."
   ]
  },
  {
   "cell_type": "code",
   "execution_count": 27,
   "metadata": {},
   "outputs": [
    {
     "name": "stdout",
     "output_type": "stream",
     "text": [
      "['김강현', '황현', '남세원', '최흥선', '김현선', '함중아']\n"
     ]
    }
   ],
   "source": [
    "print(name_list)"
   ]
  },
  {
   "cell_type": "markdown",
   "metadata": {},
   "source": [
    "가장 왼쪽에 위치한 항목, 즉 0번 인덱스의 항목을 확인하는 방법은 다음과 같다."
   ]
  },
  {
   "cell_type": "code",
   "execution_count": 28,
   "metadata": {},
   "outputs": [
    {
     "name": "stdout",
     "output_type": "stream",
     "text": [
      "김강현\n"
     ]
    }
   ],
   "source": [
    "print(name_list[0])"
   ]
  },
  {
   "cell_type": "markdown",
   "metadata": {},
   "source": [
    "왼쪽에서 세번째 항목은 인덱스가 2이기에 다음과 같이 확인한다."
   ]
  },
  {
   "cell_type": "code",
   "execution_count": 29,
   "metadata": {},
   "outputs": [
    {
     "name": "stdout",
     "output_type": "stream",
     "text": [
      "남세원\n"
     ]
    }
   ],
   "source": [
    "print(name_list[2])"
   ]
  },
  {
   "cell_type": "markdown",
   "metadata": {},
   "source": [
    "인덱스는 음의 정수로도 표현할 수 있다.\n",
    "맨 오른쪽에 위치한 항목부터 왼쪽으로 이동하면서 차례대로 -1, -2, -3 등의 음의 인덱스를 갖는다.\n",
    "따라서 가장 오른쪽에 위치한, 즉 리스트의 맨 끝에 위치한 항목은 다음과 같다."
   ]
  },
  {
   "cell_type": "code",
   "execution_count": 30,
   "metadata": {},
   "outputs": [
    {
     "name": "stdout",
     "output_type": "stream",
     "text": [
      "함중아\n"
     ]
    }
   ],
   "source": [
    "print(name_list[-1])"
   ]
  },
  {
   "cell_type": "markdown",
   "metadata": {},
   "source": [
    "변수 `one2five`처럼 숫자로 구성된 리스트를 많이 활용한다.\n",
    "예를 들어 변수 `scores`는 세 개의 시험점수로 구성된 리스트를 할당받는다."
   ]
  },
  {
   "cell_type": "code",
   "execution_count": 31,
   "metadata": {},
   "outputs": [],
   "source": [
    "scores = [92, 87, 100]"
   ]
  },
  {
   "cell_type": "markdown",
   "metadata": {},
   "source": [
    "변수 `scores`가 시험점수로 구성된 리스트를 가리키기에\n",
    "아래 코드에서처럼 시험점수의 평균값을 인덱싱을 이용하여 계산할 수 있다.\n",
    "참고로 정수의 나누셈 결과는 항상 부동소수점으로 처리됨에 주의한다."
   ]
  },
  {
   "cell_type": "code",
   "execution_count": 32,
   "metadata": {},
   "outputs": [
    {
     "name": "stdout",
     "output_type": "stream",
     "text": [
      "93.0\n"
     ]
    }
   ],
   "source": [
    "mean = (scores[0] + scores[1] + scores[2])/3\n",
    "print(mean)"
   ]
  },
  {
   "cell_type": "markdown",
   "metadata": {},
   "source": [
    "**문자열 인덱싱**"
   ]
  },
  {
   "cell_type": "markdown",
   "metadata": {},
   "source": [
    "파이썬은 문자열을 여러 개의 문자 또는 기호로 구성된 값으로 간주한다.\n",
    "따라서 리스트의 인덱스와 인덱싱 기능을 문자열에 대해서도 동일하게 적용할 수 있다.\n",
    "즉, 문자열 가장 왼편에 위치한 문자 또는 기호부터 오른쪽으로 이동하면서 \n",
    "차례대로 0. 1, 2 등의 인덱스를 가지며 이를 이용하여 문자열 인덱싱을 사용할 수 있다.\n",
    "\n",
    "예를 들어 `name_list` 리스트의 첫재 항목, 즉 0번 인덱스의 값인 `김강현`을\n",
    "변수 `kgh`에 할당해보자."
   ]
  },
  {
   "cell_type": "code",
   "execution_count": 33,
   "metadata": {},
   "outputs": [
    {
     "name": "stdout",
     "output_type": "stream",
     "text": [
      "김강현\n"
     ]
    }
   ],
   "source": [
    "kgh = name_list[0]\n",
    "print(kgh)"
   ]
  },
  {
   "cell_type": "markdown",
   "metadata": {},
   "source": [
    "김강현의 성인 김은 0번 인덱스의 항목이다."
   ]
  },
  {
   "cell_type": "code",
   "execution_count": 34,
   "metadata": {},
   "outputs": [
    {
     "data": {
      "text/plain": [
       "'김'"
      ]
     },
     "execution_count": 34,
     "metadata": {},
     "output_type": "execute_result"
    }
   ],
   "source": [
    "kgh[0]"
   ]
  },
  {
   "cell_type": "markdown",
   "metadata": {},
   "source": [
    "반면에 현은 김강현 문자열의 2번 인덱스의 항목이다."
   ]
  },
  {
   "cell_type": "code",
   "execution_count": 35,
   "metadata": {},
   "outputs": [
    {
     "data": {
      "text/plain": [
       "'현'"
      ]
     },
     "execution_count": 35,
     "metadata": {},
     "output_type": "execute_result"
    }
   ],
   "source": [
    "kgh[2]"
   ]
  },
  {
   "cell_type": "markdown",
   "metadata": {},
   "source": [
    "**연산자 우선순위**"
   ]
  },
  {
   "cell_type": "markdown",
   "metadata": {},
   "source": [
    "여러 종류의 연산자를 이용할 경우 연산자들 사이의 우선순위를 고려해야 \n",
    "의도한 대로 계산된다.\n",
    "정수와 부동소수점 관련 연산자들의 우선순위는 수학에서 배운 것과 동일하다.\n",
    "\n",
    "괄호 안에 있는 표현식을 가장 먼저 계산한다. \n",
    "\n",
    "```python\n",
    "2 * (3 1) => 2 * 2 => 4\n",
    "(1 + 1) ** (5 2) => 2 ** (5 2) => 2 ** 3 => 8\n",
    "```\n",
    "\n",
    "거듭제곱이 사칙연산보다 우선순위가 높다.\n",
    "\n",
    "```python\n",
    "3 ** 2 * 2 => (3 ** 2) * 2 => 9 * 2 => 18\n",
    "3 * 2 ** 2 => 3 * (2 ** 2) => 3 * 4 => 12\n",
    "```\n",
    "\n",
    "곱셈과 나눗셈이 덧셈과 뺄셈보다 우선순위가 높다.\n",
    "\n",
    "```python\n",
    "2 * 3 1 => (2 * 3) 1 => 6 1 => 5\n",
    "6 + 4 / 2 => 6 + (4 / 2) => 6 + 2.0 => 8.0\n",
    "```\n",
    "\n",
    "곱셈과 나눗셈은 서로 우선순위가 같다.\n",
    "덧셈과 뺄쎔도 서로 우선순위가 같다.\n",
    "같은 우선순위를 갖는 사칙 연산자가 연속해서 사용되면 왼쪽에 위치한 연산부터 먼저 실행된다.\n",
    "\n",
    "```python\n",
    "60 / 2 * 3 => (60 / 2) * 3 => 30.0 * 3 => 90.0\n",
    "```\n",
    "\n",
    "만약에 오른쪽에 위치한 곱셈을 먼저 실행하면 다른 결과가 나온다.\n",
    "\n",
    "```python\n",
    "60 / (2 * 3) => 60 / 6 => 10.0\n",
    "```\n",
    "\n",
    "\n",
    "거듭제곱이 연속해서 나오면 오른쪽 거듭제곱부터 실행된다.\n",
    "\n",
    "```python\n",
    "2 ** 3 ** 2 => 2 ** (3 ** 2) => 2 ** 9 => 512\n",
    "```\n",
    "\n",
    "만약에 왼쪽부터 거듭제곱을 계산하면 다른 결과가 나온다.\n",
    "\n",
    "```python\n",
    "(2 ** 3) ** 2 => 8 ** 2 => 64\n",
    "```    "
   ]
  },
  {
   "cell_type": "markdown",
   "metadata": {},
   "source": [
    "**연산 결과값**"
   ]
  },
  {
   "cell_type": "markdown",
   "metadata": {},
   "source": [
    "연산의 결과 또한 하나의 값이며, 따라서 저장하여 필요에 따라 활용된다.\n",
    "예를 들어, 아래 코드는 1 더하기 2가 짝수인지 여부를 화면에 출력한다.\n",
    "정수의 짝수 여부는 2로 나눈 값이 0인지 또는 1인지에 따라 결정되는 성질을 이용한다.\n",
    "\n",
    "코드에 포함된 `else:` 명령문은 변수 `whether_even`가 거짓, 즉 `False`를 가리킬 때만\n",
    "아랫쪽에 들여쓰기로 지정된 코드블록이 실행되도록 한다.\n",
    "`if whether_even:`의 경우처럼 \n",
    "`else:`로 시작하는 코드 또한 콜론 `:`과 들여쓰기로 코드블록이 지정되었음에 주의한다."
   ]
  },
  {
   "cell_type": "code",
   "execution_count": 36,
   "metadata": {},
   "outputs": [
    {
     "name": "stdout",
     "output_type": "stream",
     "text": [
      "홀수\n"
     ]
    }
   ],
   "source": [
    "onePtwo = 1 + 2\n",
    "whether_even = onePtwo % 2 == 0\n",
    "\n",
    "if whether_even:\n",
    "    print(\"짝수\")\n",
    "else:\n",
    "    print(\"홀수\")"
   ]
  },
  {
   "cell_type": "markdown",
   "metadata": {},
   "source": [
    "반면에 아래 코드는 2 더하기 2가 짝수인지 여부를 화면에 출력한다."
   ]
  },
  {
   "cell_type": "code",
   "execution_count": 37,
   "metadata": {},
   "outputs": [
    {
     "name": "stdout",
     "output_type": "stream",
     "text": [
      "짝수\n"
     ]
    }
   ],
   "source": [
    "twoPtwo = 2 + 2\n",
    "whether_even = twoPtwo % 2 == 0\n",
    "\n",
    "if whether_even:\n",
    "    print(\"짝수\")\n",
    "else:\n",
    "    print(\"홀수\")"
   ]
  },
  {
   "cell_type": "markdown",
   "metadata": {},
   "source": [
    "## 예제"
   ]
  },
  {
   "cell_type": "markdown",
   "metadata": {},
   "source": [
    "**예제 1**"
   ]
  },
  {
   "cell_type": "markdown",
   "metadata": {},
   "source": [
    "아래 코드를 실행했을 때 부동소수점 `27.1`이 어떻게 이해되는지를 설명하라."
   ]
  },
  {
   "cell_type": "code",
   "execution_count": 38,
   "metadata": {},
   "outputs": [
    {
     "name": "stdout",
     "output_type": "stream",
     "text": [
      "참인 경우라서 실행됨!\n"
     ]
    }
   ],
   "source": [
    "if 27.1:\n",
    "    print(\"참인 경우라서 실행됨!\")"
   ]
  },
  {
   "cell_type": "markdown",
   "metadata": {},
   "source": [
    "답"
   ]
  },
  {
   "cell_type": "markdown",
   "metadata": {},
   "source": [
    "파이썬에서 0은 `False`로, 다른 값은 `True`로 간주된다.\n",
    "이런 의미로 `if 27.1`에 사용된 `27.1`은 부동소수점이면서 0이 아니기에 \n",
    "`True`로 간주되어 조건문의 본문에 포함된 `print()` 함수가 실행된다."
   ]
  },
  {
   "cell_type": "markdown",
   "metadata": {
    "id": "xygzJ5410LMv"
   },
   "source": [
    "**예제 2**"
   ]
  },
  {
   "cell_type": "markdown",
   "metadata": {
    "id": "oMsxIe_500xd"
   },
   "source": [
    "아래 내용의 논리식을 할당받는 변수 `p1`을 선언한 후에 `p1`에 할당된 진리값을 확인한다.\n",
    "\n",
    "> 3과 4가 다른지 여부 판단"
   ]
  },
  {
   "cell_type": "markdown",
   "metadata": {},
   "source": [
    "답"
   ]
  },
  {
   "cell_type": "markdown",
   "metadata": {},
   "source": [
    "아래 코드는 두 값이 다른지 여부는 `!=` 연산자를 이용하여 표현한다."
   ]
  },
  {
   "cell_type": "code",
   "execution_count": 39,
   "metadata": {},
   "outputs": [
    {
     "name": "stdout",
     "output_type": "stream",
     "text": [
      "True\n"
     ]
    }
   ],
   "source": [
    "p1 = 3 != 4\n",
    "print(p1)"
   ]
  },
  {
   "cell_type": "markdown",
   "metadata": {
    "id": "xygzJ5410LMv"
   },
   "source": [
    "**예제 3**"
   ]
  },
  {
   "cell_type": "markdown",
   "metadata": {
    "id": "oMsxIe_500xd"
   },
   "source": [
    "아래 내용의 논리식을 할당받는 변수 `p2`를 선언한 후에 `p2`에 할당된 진리값을 확인한다.\n",
    "\n",
    "> \"hello\"와 \"hi\"가 같은지 여부 판단"
   ]
  },
  {
   "cell_type": "markdown",
   "metadata": {},
   "source": [
    "답"
   ]
  },
  {
   "cell_type": "markdown",
   "metadata": {},
   "source": [
    "아래 코드는 두 값이 동일한지 여부는 `==` 연산자를 이용하여 표현한다."
   ]
  },
  {
   "cell_type": "code",
   "execution_count": 40,
   "metadata": {},
   "outputs": [
    {
     "name": "stdout",
     "output_type": "stream",
     "text": [
      "False\n"
     ]
    }
   ],
   "source": [
    "p2 = \"hello\" == \"hi\"\n",
    "print(p2)"
   ]
  },
  {
   "cell_type": "markdown",
   "metadata": {
    "id": "xygzJ5410LMv"
   },
   "source": [
    "**예제 4**"
   ]
  },
  {
   "cell_type": "markdown",
   "metadata": {
    "id": "jLCnfgsk06WQ"
   },
   "source": [
    "15, 28이 각각 짝수인지 또는 홀수인지를 판별하는 코드를 작성한다.\n",
    "출력된 결과는 아래와 같은 형식이어야 한다.\n",
    "\n",
    "> 15는 짝수인가요? False  \n",
    "> 28은 짝수인가요? True\n",
    "\n",
    "힌트: 짝수는 2로 나눴을 때 나머지가 0이다."
   ]
  },
  {
   "cell_type": "markdown",
   "metadata": {},
   "source": [
    "답"
   ]
  },
  {
   "cell_type": "markdown",
   "metadata": {},
   "source": [
    "15가 짝수인지 여부는 `15 % 2 == 0` 가 `True`로 계산되는지로 확인한다."
   ]
  },
  {
   "cell_type": "code",
   "execution_count": 41,
   "metadata": {},
   "outputs": [
    {
     "name": "stdout",
     "output_type": "stream",
     "text": [
      "15는 짝수인가요? False\n",
      "28는 짝수인가요? True\n"
     ]
    }
   ],
   "source": [
    "print(\"15는 짝수인가요?\", 15 % 2 == 0)\n",
    "print(\"28는 짝수인가요?\", 28 % 2 == 0)"
   ]
  },
  {
   "cell_type": "markdown",
   "metadata": {},
   "source": [
    "변수를 사용하면 좀 더 편리할 수도 있다."
   ]
  },
  {
   "cell_type": "code",
   "execution_count": 42,
   "metadata": {},
   "outputs": [
    {
     "name": "stdout",
     "output_type": "stream",
     "text": [
      "15는 짝수인가요? False\n",
      "28는 짝수인가요? True\n"
     ]
    }
   ],
   "source": [
    "even15 = 15 % 2 == 0\n",
    "even28 = 28 % 2 == 0\n",
    "\n",
    "print(\"15는 짝수인가요?\", even15)\n",
    "print(\"28는 짝수인가요?\", even28)"
   ]
  },
  {
   "cell_type": "markdown",
   "metadata": {
    "id": "SjFpmZ5r0_zh"
   },
   "source": [
    "**예제 5**"
   ]
  },
  {
   "cell_type": "markdown",
   "metadata": {
    "id": "ZH4Xviwf0O_s"
   },
   "source": [
    "우유 가격은 820원이고, 아이스크림 가격은 1500원이다.\n",
    "아이스크림은 3개 이상 구입하면 5% 할인해준다.\n",
    "우유 2개와 아이스크림 3개를 구입할 때 지불해야 하는 가격을 다양한 변수를 활용하여 계산하는 코드를 작성한다.\n",
    "\n",
    "힌트: 할인율이 5%이면 할인을 적용할 때 구입 가격에 (1 - 0.05)를 곱한다."
   ]
  },
  {
   "cell_type": "markdown",
   "metadata": {},
   "source": [
    "답"
   ]
  },
  {
   "cell_type": "markdown",
   "metadata": {},
   "source": [
    "우유 가격과 개수, 아이스크림 가격과 개수, 할인율을 변수로 활용해서\n",
    "간단한 연산을 실행한다."
   ]
  },
  {
   "cell_type": "code",
   "execution_count": 43,
   "metadata": {},
   "outputs": [],
   "source": [
    "milk_price = 820\n",
    "icecream_price = 1500\n",
    "discount = 0.05  # 아이스크림 3개 이상 구입시 할인율\n",
    "\n",
    "milk = 2\n",
    "icecream = 3"
   ]
  },
  {
   "cell_type": "markdown",
   "metadata": {},
   "source": [
    "할인을 받을 수 있는 경우와 그렇지 않은 경우를\n",
    "구분해서 코드를 실행할 수 있다.\n",
    "이를 위해 `if ... else ...` 조건문을 이용한다.\n",
    "최종 가격은 정수로 지정한다.\n",
    "이유는 할인을 적용하면 즉, 할인율을 곱하면 부동소수점으로 계산되기 때문이다."
   ]
  },
  {
   "cell_type": "code",
   "execution_count": 44,
   "metadata": {},
   "outputs": [
    {
     "name": "stdout",
     "output_type": "stream",
     "text": [
      "우유 2 개 아이스크림 3 개 가격: 5915 원\n"
     ]
    }
   ],
   "source": [
    "if icecream < 3:\n",
    "    total_price = milk_price * milk + icecream_price * icecream                # 할인 없음\n",
    "else:\n",
    "    total_price = milk_price * milk + icecream_price * icecream * (1-discount) # 할인 적용\n",
    "    \n",
    "print(\"우유\", milk, \"개\", \"아이스크림\", icecream, \"개\", \"가격:\", int(total_price), \"원\")"
   ]
  },
  {
   "cell_type": "markdown",
   "metadata": {
    "id": "oMsxIe_500xd"
   },
   "source": [
    "**예제 6**"
   ]
  },
  {
   "cell_type": "markdown",
   "metadata": {
    "id": "DxP4L1g30ZpC"
   },
   "source": [
    "연이자 5%인 정기예금에 1천만원을 10년간 은행에 맡겼을 때\n",
    "10년 후에 수령할 금액을 계산하는 코드를 다양한 변수를 활용하여 구현한다.\n",
    "단, 다음 형식으로 출력하라.\n",
    "\n",
    "> 10년 후 받을 원금 + 이자는 OOO 원입니다."
   ]
  },
  {
   "cell_type": "markdown",
   "metadata": {},
   "source": [
    "원리합계 계산은 아래 식을 따른다."
   ]
  },
  {
   "cell_type": "markdown",
   "metadata": {},
   "source": [
    "> 원리합계 ＝ 원금 *  (1 ＋ 연금리 * 기간)"
   ]
  },
  {
   "cell_type": "markdown",
   "metadata": {},
   "source": [
    "힌트:"
   ]
  },
  {
   "cell_type": "markdown",
   "metadata": {},
   "source": [
    "아래 변수를 활용해서 원리합계 수식을 간단하게 구현할 수 있다.\n",
    "\n",
    "- principal = 원금\n",
    "- rate = 연이자율\n",
    "- period = 저축기간(년)\n",
    "- savings = 원리합계"
   ]
  },
  {
   "cell_type": "markdown",
   "metadata": {},
   "source": [
    "답"
   ]
  },
  {
   "cell_type": "code",
   "execution_count": 45,
   "metadata": {},
   "outputs": [
    {
     "name": "stdout",
     "output_type": "stream",
     "text": [
      "10년 후 받는 원금 + 이자는 15000000.0 원입니다.\n"
     ]
    }
   ],
   "source": [
    "principal = 10000000\n",
    "rate = 0.05\n",
    "period = 10\n",
    "\n",
    "savings = principal * (1 + rate * period)\n",
    "\n",
    "print(\"10년 후 받는 원금 + 이자는\", savings, \"원입니다.\")"
   ]
  },
  {
   "cell_type": "markdown",
   "metadata": {},
   "source": [
    "## 연습문제"
   ]
  },
  {
   "cell_type": "markdown",
   "metadata": {},
   "source": [
    "1. [(연습) 값과 변수](https://colab.research.google.com/github/codingalzi/42H/blob/master/practices/practice-values_variables.ipynb)에 포함된 문제들을 풀어보세요."
   ]
  }
 ],
 "metadata": {
  "kernelspec": {
   "display_name": "Python 3 (ipykernel)",
   "language": "python",
   "name": "python3"
  },
  "language_info": {
   "codemirror_mode": {
    "name": "ipython",
    "version": 3
   },
   "file_extension": ".py",
   "mimetype": "text/x-python",
   "name": "python",
   "nbconvert_exporter": "python",
   "pygments_lexer": "ipython3",
   "version": "3.12.2"
  },
  "toc": {
   "base_numbering": 1,
   "nav_menu": {},
   "number_sections": false,
   "sideBar": true,
   "skip_h1_title": false,
   "title_cell": "목차",
   "title_sidebar": "Contents",
   "toc_cell": true,
   "toc_position": {},
   "toc_section_display": true,
   "toc_window_display": true
  },
  "vscode": {
   "interpreter": {
    "hash": "6c86b3592b6800d985c04531f2c445f0fa6967131b8dd6395a925f7622e55602"
   }
  }
 },
 "nbformat": 4,
 "nbformat_minor": 4
}
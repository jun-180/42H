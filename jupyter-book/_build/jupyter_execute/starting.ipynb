{
 "cells": [
  {
   "cell_type": "markdown",
   "metadata": {},
   "source": [
    "(ch:starting)=\n",
    "# 프로그래밍 맛보기"
   ]
  },
  {
   "cell_type": "markdown",
   "metadata": {},
   "source": [
    "## Hello, world! 문자열 출력"
   ]
  },
  {
   "cell_type": "markdown",
   "metadata": {},
   "source": [
    "많은 프로그래밍 입문서가 아래 문장을 화면에 출력하는 것으로 시작한다.\n",
    "\n",
    "    Hello, world!\n",
    "    \n",
    "이유는 위 문장을 출력하는 코드를 작성할 때 주요 프로그램 요소를 함께 소개할 수 있기 때문이다."
   ]
  },
  {
   "cell_type": "markdown",
   "metadata": {},
   "source": [
    "**`print()` 함수**"
   ]
  },
  {
   "cell_type": "markdown",
   "metadata": {},
   "source": [
    "파이썬은 아래와 같이 매우 단순한 명령문을 이용하여 위 문장을 화면에 출력시킬 수 있다.\n",
    "다만 문장을 큰따옴표 또는 작은 따옴표로 감싸야 한다.\n",
    "따옴표의 종류는 상관 없지만 동일한 종류의 따옴표로 감싸야 함에 주의한다."
   ]
  },
  {
   "cell_type": "code",
   "execution_count": 1,
   "metadata": {},
   "outputs": [
    {
     "name": "stdout",
     "output_type": "stream",
     "text": [
      "Hello, world!\n"
     ]
    }
   ],
   "source": [
    "print(\"Hello, world!\")"
   ]
  },
  {
   "cell_type": "markdown",
   "metadata": {},
   "source": [
    "또는"
   ]
  },
  {
   "cell_type": "code",
   "execution_count": 2,
   "metadata": {},
   "outputs": [
    {
     "name": "stdout",
     "output_type": "stream",
     "text": [
      "Hello, world!\n"
     ]
    }
   ],
   "source": [
    "print('Hello, world!')"
   ]
  },
  {
   "cell_type": "markdown",
   "metadata": {},
   "source": [
    "위 코드에 사용된 `print`는 괄호 안에 인자로 지정된 문장을 화면에 출력하도록 하는 명령문 기능을 갖는 함수다.\n",
    "프로그래밍에서의 함수는 매우 중요하기에 나중에 자세히 소개한다.\n",
    "여기서는 `print` 함수의 기초 사용법만 기억해둔다.\n",
    "앞으로 다양한 함수를 소개할 예정인데\n",
    "함수는 `print()` 처럼 함수 이름과 괄호를 함께 표기하는 방식으로 언급될 것이다."
   ]
  },
  {
   "cell_type": "markdown",
   "metadata": {},
   "source": [
    ":::{admonition} 주의사항\n",
    ":class: note\n",
    "\n",
    "`print()` 함수를 실행했을 때 \n",
    "문장과 함께 사용된 따옴표 기호는 함께 출력되지 않는다.\n",
    "하지만 그렇다고 해서 사용된 따옴표가 컴퓨터에서 사라지는 것은 아니고 편의상 화면에 보이지 않을 뿐이다.\n",
    ":::"
   ]
  },
  {
   "cell_type": "markdown",
   "metadata": {},
   "source": [
    "**문자열**"
   ]
  },
  {
   "cell_type": "markdown",
   "metadata": {},
   "source": [
    "`\"Hello, world!\"`처럼 문자와 기호의 나열로 구성된 문장을 프로그래밍 분야에서는 **문자열**<font size='2'>string</font>이라 부른다.\n",
    "문자열은 아래에 언급된 것들처럼 일반적으로 임의의 기호로 구성될 수 있다."
   ]
  },
  {
   "cell_type": "markdown",
   "metadata": {},
   "source": [
    "```python\n",
    "\"^_^;;;\"\n",
    "\"우.... ㅎㅎㅎ\"\n",
    "'영어 ㅠㅠㅠ English!!!'\n",
    "'+++---+++...+++'\n",
    "```"
   ]
  },
  {
   "cell_type": "markdown",
   "metadata": {},
   "source": [
    "문자열은 그 자체로 어떤 의미도 갖지 않는다.\n",
    "예를 들어 숫자 3과 숫자 기호 3으로 구성된 문자열 `'3'`은 엄연히 다르다.\n",
    "숫자 3은 연산에 사용되지만 문자열 `'3'`은 일반적으로 연산에 허용되지 않는다."
   ]
  },
  {
   "cell_type": "markdown",
   "metadata": {},
   "source": [
    "## 기초 명령문: 변수 할당"
   ]
  },
  {
   "cell_type": "markdown",
   "metadata": {},
   "source": [
    "컴퓨터 프로그램은 **명령문**<font size=\"2\">statement</font>들의 목록으로 구성된다.\n",
    "각각의 프로그래밍 언어는 **구문**<font size='2'>syntax</font>이라 불리는 \n",
    "프로그래밍 언어 고유의 명령문 작성법을 제공한다.\n",
    "\n",
    "파이썬을 포함한 대다수의 프로그래밍 언어에서\n",
    "다음 네 개의 기초 명령문의 조합으로 명령문을 생성한다.\n",
    "\n",
    "* 변수 할당\n",
    "* `if` 조건문\n",
    "* `for` 반복문\n",
    "* `while` 반복문\n",
    "\n",
    "프로그래밍 언어 구문의 엄밀한 정의는 일반적으로 매우 복잡하기에 초보자가 이해하기 어렵다.\n",
    "특히 프로그래밍에 입문하는 경우 언어의 구문을 정확히 아는 것보다는 \n",
    "원하는 기능을 옳바르게 수행하는 프로그램을 구현하는 훈련이 보다 중요하다.\n",
    "\n",
    "앞으로 다양한 파이썬 명령문을 작성하는 방식을 하나씩 소개한다. \n",
    "프로그래밍을 잘한다 함은 바로 문제 해결에 적절한 명령문을 작성한다는 의미이다. \n",
    "여기서는 자세한 설명 없이 간단하지만 매우 기본적인 \n",
    "변수 할당 명령문을 활용법을 살펴본다."
   ]
  },
  {
   "cell_type": "markdown",
   "metadata": {},
   "source": [
    "**변수**"
   ]
  },
  {
   "cell_type": "markdown",
   "metadata": {},
   "source": [
    "단순하게 말해 컴퓨터 프로그램은 값을 저장하고 조작하여 새로운 값을 계산하여 활용하는\n",
    "방법을 묘사한다.\n",
    "이런 의미에서 값을 컴퓨터에 저장하는 기능이 프로그램의 기본이다.\n",
    "값의 저장과 활용은 반드시 **변수**<font size='2'>variable</font>를 이용해야 한다.\n",
    "변수는 저장된 값을 가리키는 일종의 이름이며,\n",
    "코드 어디에서든 자신이 가리키는 값을 대신하여 활용될 수 있다.\n",
    "\n",
    "변수는 키보드에서 한글 또는 영어 문자 기호, 숫자 기호, 밑줄 기호 `_`를 이용한 임의의 조합으로 지정될 수 있다.\n",
    "앞서 사용한 `love_python` 또한 하나의 변수이며 참을 의미하는 `True`라는 값을 가리킨다."
   ]
  },
  {
   "cell_type": "markdown",
   "metadata": {},
   "source": [
    "**변수 할당 명령문**"
   ]
  },
  {
   "cell_type": "markdown",
   "metadata": {},
   "source": [
    "값을 저장하고 저장된 변수를 선언하는 과정은 변수 할당 명령문을 지정하는 방식으로 이뤄진다.\n",
    "예를 들어 아래 코드는 3을 저장하면서 동시에 변수 `a`가 저장된 값 3을 가리키도록 한다."
   ]
  },
  {
   "cell_type": "code",
   "execution_count": 3,
   "metadata": {},
   "outputs": [],
   "source": [
    "a = 3"
   ]
  },
  {
   "cell_type": "markdown",
   "metadata": {},
   "source": [
    "이처럼 변수와 값을 연결시키는 명령문이 **변수 할당**<font size=\"2\">variable assignment</font> 명령문이다.\n",
    "이제 변수 `a`가 가리키는 값을 `print()` 함수를 이용하여 확인하면 3이 출력된다."
   ]
  },
  {
   "cell_type": "code",
   "execution_count": 4,
   "metadata": {},
   "outputs": [
    {
     "name": "stdout",
     "output_type": "stream",
     "text": [
      "3\n"
     ]
    }
   ],
   "source": [
    "print(a)"
   ]
  },
  {
   "cell_type": "markdown",
   "metadata": {},
   "source": [
    "변수는 저장된 값을 대신하여 활용될 수 있다.\n",
    "예를 들어 아래 코드는 변수 `a`가 가리키는 값에 2를 곱한 결과를 변수 `b`가 가리키도록 한다."
   ]
  },
  {
   "cell_type": "code",
   "execution_count": 5,
   "metadata": {},
   "outputs": [],
   "source": [
    "b = 2 * a"
   ]
  },
  {
   "cell_type": "markdown",
   "metadata": {},
   "source": [
    "변수 `b`가 가리키는 값을 확인하면 6이 출력된다."
   ]
  },
  {
   "cell_type": "code",
   "execution_count": 6,
   "metadata": {},
   "outputs": [
    {
     "name": "stdout",
     "output_type": "stream",
     "text": [
      "6\n"
     ]
    }
   ],
   "source": [
    "print(b)"
   ]
  },
  {
   "cell_type": "markdown",
   "metadata": {},
   "source": [
    "`print()` 함수는 두 개 이상의 값을 동시에 출력할 수 있다.\n",
    "아래 코드는 `a`와 `b` 두 변수가 가리키는 값을 공백(스페이스)으로 구분하여 출력한다."
   ]
  },
  {
   "cell_type": "code",
   "execution_count": 7,
   "metadata": {},
   "outputs": [
    {
     "name": "stdout",
     "output_type": "stream",
     "text": [
      "3 6\n"
     ]
    }
   ],
   "source": [
    "print(a, b)"
   ]
  },
  {
   "cell_type": "markdown",
   "metadata": {},
   "source": [
    "변수 할당을 포함한 모든 명령문을 줄바꿈을 이용하여 동시에 실행시킬 수 있다.\n",
    "예를 들어 아래 코드는 변수 `a`가 가리키는 값과 변수 `b`가 가리키는 값을 이용하여\n",
    "두 개의 새로운 변수를 선언한다.\n",
    "\n",
    "아래 코드에서는 한글 문자 또한 변수를 지정할 때 사용될 수 있다는 것을 보여주기 위해 일부러 한글과 영어를 섞어 변수를 선언하였다.\n",
    "하지만 한글 문자를 변수 선언에 활용하는 경우는 많지 않다."
   ]
  },
  {
   "cell_type": "code",
   "execution_count": 8,
   "metadata": {},
   "outputs": [
    {
     "name": "stdout",
     "output_type": "stream",
     "text": [
      "-3 18\n"
     ]
    }
   ],
   "source": [
    "a빼기b = a - b\n",
    "b곱하기a = b * a\n",
    "print(a빼기b, b곱하기a)"
   ]
  },
  {
   "cell_type": "markdown",
   "metadata": {},
   "source": [
    "`print()` 함수의 인자는 변수, 문자열, 수식 등이 동시에 사용될 수 있다."
   ]
  },
  {
   "cell_type": "code",
   "execution_count": 9,
   "metadata": {},
   "outputs": [
    {
     "name": "stdout",
     "output_type": "stream",
     "text": [
      "a 빼기 b: -3\n",
      "b 곱하기 a: 18\n"
     ]
    }
   ],
   "source": [
    "print(\"a 빼기 b:\", a빼기b)\n",
    "print(\"b 곱하기 a:\", b곱하기a)"
   ]
  },
  {
   "cell_type": "markdown",
   "metadata": {},
   "source": [
    ":::{admonition} 여러 줄의 코드 실행\n",
    ":class: note\n",
    "\n",
    "파이썬에서 명령문은 줄바꿈으로 구분한다.\n",
    "여러 줄의 명령문으로 구성된 코드는 맨 윗줄의 명령문부터 차례대로 실행된다.\n",
    "또한 윗 줄에서 실행됨 명령문의 결과는 아랫 줄의 명령문에서 활용될 수 있다.\n",
    ":::"
   ]
  },
  {
   "cell_type": "markdown",
   "metadata": {},
   "source": [
    "## 변수 작성법"
   ]
  },
  {
   "cell_type": "markdown",
   "metadata": {},
   "source": [
    "변수는 할당되는 값과 연관된 이름을 사용하는 게 좋다.\n",
    "예를 들어, 농구 시합에서 A 팀의 점수 72와 B 팀의 점수 80을 \n",
    "가리키는 두 개의 변수를 아래와 같이 `x`와 `y`로 하면 \n",
    "코드만 보고서는 변수의 의미를 파악하기 어렵다."
   ]
  },
  {
   "cell_type": "code",
   "execution_count": 10,
   "metadata": {},
   "outputs": [],
   "source": [
    "x = 72\n",
    "y = 80"
   ]
  },
  {
   "cell_type": "markdown",
   "metadata": {},
   "source": [
    "반면에 아래처럼 `A_score`, `B_score` 등으로 변수를 정하면\n",
    "코드에 사용된 변수의 의미를 보다 잘 이해할 수 있다."
   ]
  },
  {
   "cell_type": "code",
   "execution_count": 11,
   "metadata": {},
   "outputs": [],
   "source": [
    "A_score = 72\n",
    "B_score = 80"
   ]
  },
  {
   "cell_type": "markdown",
   "metadata": {},
   "source": [
    "**변수 작성 규칙**"
   ]
  },
  {
   "cell_type": "markdown",
   "metadata": {},
   "source": [
    "변수을 지정할 때 지켜야 하는 몇 가지 규칙이 있다.\n",
    "\n",
    "- 알파벳, 숫자, 밑줄 기호 `_` 등을 임의로 조합한다.\n",
    "- 다음 기호들은 사용할 수 없다.\n",
    "\n",
    "    ```\n",
    "    ., !, +, -, *, /, %, @, ~\n",
    "    ````\n",
    "\n",
    "- 공백<font size='2'>space</font>을 포함할 수 없다.\n",
    "- 숫자로 시작할 수 없다.\n",
    "- 파이썬에서 특별한 역할을 수행하는 아래 **키워드**<font size=\"2\">keyword</font>를\n",
    "    그대로 변수로 사용할 수 없다. \n",
    "    파이썬 프로그래밍 언어의 키워드는 파이썬 최신 버전 기준으로 총 35개이다.\n",
    "    각 키워드의 역할은 필요할 때마다 설명될 것이다. \n",
    "\n",
    "    ```\n",
    "    False      await      else       import     pass\n",
    "    None       break      except     in         raise\n",
    "    True       class      finally    is         return\n",
    "    and        continue   for        lambda     try\n",
    "    as         def        from       nonlocal   while\n",
    "    assert     del        global     not        with\n",
    "    async      elif       if         or         yield\n",
    "    ```"
   ]
  },
  {
   "cell_type": "markdown",
   "metadata": {},
   "source": [
    "**변수로 허용되지 않는 사례**"
   ]
  },
  {
   "cell_type": "markdown",
   "metadata": {},
   "source": [
    "- 숫자로 시작: 숫자로 시작하면 안된다는 규칙을 어겼기에 구문 오류(`SyntaxError`)가 발생한다."
   ]
  },
  {
   "cell_type": "code",
   "execution_count": 12,
   "metadata": {},
   "outputs": [
    {
     "ename": "SyntaxError",
     "evalue": "invalid decimal literal (2112157922.py, line 1)",
     "output_type": "error",
     "traceback": [
      "\u001b[0;36m  Cell \u001b[0;32mIn[12], line 1\u001b[0;36m\u001b[0m\n\u001b[0;31m    3dogs = '강아지 세 마리'\u001b[0m\n\u001b[0m    ^\u001b[0m\n\u001b[0;31mSyntaxError\u001b[0m\u001b[0;31m:\u001b[0m invalid decimal literal\n"
     ]
    }
   ],
   "source": [
    "3dogs = '강아지 세 마리'"
   ]
  },
  {
   "cell_type": "markdown",
   "metadata": {},
   "source": [
    "- 마침표 활용: `first.second`를 변수로 지정하면 마침표로 인해 `first`와 `second`가 구분된다.\n",
    "    그런데 `first`의 의미가 미리 지정되지 않았다는 의미의 이름 오류(`NameError`)가 발생한다."
   ]
  },
  {
   "cell_type": "code",
   "execution_count": 13,
   "metadata": {},
   "outputs": [
    {
     "ename": "NameError",
     "evalue": "name 'first' is not defined",
     "output_type": "error",
     "traceback": [
      "\u001b[0;31m---------------------------------------------------------------------------\u001b[0m",
      "\u001b[0;31mNameError\u001b[0m                                 Traceback (most recent call last)",
      "Cell \u001b[0;32mIn[13], line 1\u001b[0m\n\u001b[0;32m----> 1\u001b[0m first\u001b[38;5;241m.\u001b[39msecond \u001b[38;5;241m=\u001b[39m \u001b[38;5;124m\"\u001b[39m\u001b[38;5;124m1, 2\u001b[39m\u001b[38;5;124m\"\u001b[39m\n",
      "\u001b[0;31mNameError\u001b[0m: name 'first' is not defined"
     ]
    }
   ],
   "source": [
    "first.second = \"1, 2\""
   ]
  },
  {
   "cell_type": "markdown",
   "metadata": {},
   "source": [
    "- 공백 사용: 변수에 공백이 허용되지 않기에 구문 오류(`SyntaxError`)가 발생한다."
   ]
  },
  {
   "cell_type": "code",
   "execution_count": 14,
   "metadata": {},
   "outputs": [
    {
     "ename": "SyntaxError",
     "evalue": "invalid syntax (4202336010.py, line 1)",
     "output_type": "error",
     "traceback": [
      "\u001b[0;36m  Cell \u001b[0;32mIn[14], line 1\u001b[0;36m\u001b[0m\n\u001b[0;31m    big number = 100000000\u001b[0m\n\u001b[0m        ^\u001b[0m\n\u001b[0;31mSyntaxError\u001b[0m\u001b[0;31m:\u001b[0m invalid syntax\n"
     ]
    }
   ],
   "source": [
    "big number = 100000000"
   ]
  },
  {
   "cell_type": "markdown",
   "metadata": {},
   "source": [
    "- 파이썬 키워드 사용: 예를 들어, `False`는 거짓을 나타내는 부울값(진릿값)이기에 \n",
    "    다른 의미로 사용되어서는 안된다. 따라서 구문 오류(`SyntaxError`)가 발생한다."
   ]
  },
  {
   "cell_type": "code",
   "execution_count": 15,
   "metadata": {},
   "outputs": [
    {
     "ename": "SyntaxError",
     "evalue": "cannot assign to False (1160946929.py, line 1)",
     "output_type": "error",
     "traceback": [
      "\u001b[0;36m  Cell \u001b[0;32mIn[15], line 1\u001b[0;36m\u001b[0m\n\u001b[0;31m    False = 0\u001b[0m\n\u001b[0m    ^\u001b[0m\n\u001b[0;31mSyntaxError\u001b[0m\u001b[0;31m:\u001b[0m cannot assign to False\n"
     ]
    }
   ],
   "source": [
    "False = 0"
   ]
  },
  {
   "cell_type": "markdown",
   "metadata": {},
   "source": [
    "**소문자와 대문자**"
   ]
  },
  {
   "cell_type": "markdown",
   "metadata": {},
   "source": [
    "프로그래밍에서 영어 알파벳의 소문자와 대문자는 엄연히 구분된다.\n",
    "예를 들어, 아래 두 개의 변수는 서로 다른 값을 가리킨다."
   ]
  },
  {
   "cell_type": "code",
   "execution_count": 16,
   "metadata": {},
   "outputs": [],
   "source": [
    "v = 'v'\n",
    "V = 'V'"
   ]
  },
  {
   "cell_type": "code",
   "execution_count": 17,
   "metadata": {},
   "outputs": [
    {
     "name": "stdout",
     "output_type": "stream",
     "text": [
      "소문자 브이: v\n",
      "대문자 브이: V\n"
     ]
    }
   ],
   "source": [
    "print(\"소문자 브이:\", v)\n",
    "print(\"대문자 브이:\", V)"
   ]
  },
  {
   "cell_type": "markdown",
   "metadata": {},
   "source": [
    "## 변수 재할당과 업데이트"
   ]
  },
  {
   "cell_type": "markdown",
   "metadata": {},
   "source": [
    "**등호 기호 `=`의 의미**"
   ]
  },
  {
   "cell_type": "markdown",
   "metadata": {},
   "source": [
    "아래처럼 변수 `x`에 정수 5를 할당하자."
   ]
  },
  {
   "cell_type": "code",
   "execution_count": 72,
   "metadata": {},
   "outputs": [],
   "source": [
    "x = 5"
   ]
  },
  {
   "cell_type": "markdown",
   "metadata": {},
   "source": [
    "위 명령문은 변수 `x`가 컴퓨터 어딘가에 저장된 정수 5를 가리킨다고 말한다.\n",
    "그런데 이는 수학에 사용하는 `x = 5`의 의미와 전혀 다르다.\n",
    "\n",
    "수학에서는 변수의 값을 지정하면 그 변수가 사용되는 수식에서의 의미가 절대로 달라지지 않는다.\n",
    "반면에 프로그래밍에서는 변수가 가리키는 값을 언제든지 임의로 변경시킬 수 있다."
   ]
  },
  {
   "cell_type": "markdown",
   "metadata": {},
   "source": [
    "**변수 재할당**"
   ]
  },
  {
   "cell_type": "markdown",
   "metadata": {},
   "source": [
    "변수가 가리키는 값을 변경하는 일을 **변수 재할당**이라 한다.\n",
    "예를 들어 변수 할당 명령문을 아래처럼 다시 실행해본다."
   ]
  },
  {
   "cell_type": "code",
   "execution_count": 73,
   "metadata": {},
   "outputs": [],
   "source": [
    "x = 7"
   ]
  },
  {
   "cell_type": "markdown",
   "metadata": {},
   "source": [
    "그러면 변수 `x`는 더 이상 정수 5가 아닌 정수 7을 가리킨다."
   ]
  },
  {
   "cell_type": "code",
   "execution_count": 74,
   "metadata": {},
   "outputs": [
    {
     "name": "stdout",
     "output_type": "stream",
     "text": [
      "7\n"
     ]
    }
   ],
   "source": [
    "print(x)"
   ]
  },
  {
   "cell_type": "markdown",
   "metadata": {},
   "source": [
    "**변수 업데이트**"
   ]
  },
  {
   "cell_type": "markdown",
   "metadata": {},
   "source": [
    "**변수 업데이트**<font size=\"2\">variable update</font>는\n",
    "이미 선언된 변수에 대해 변수 재할당을 실행할 때 변수에 이미 할당되어 있던 값을 이용하는 방식이다.\n",
    "예를 들어 아래 코드는 변수 `x`가 기존에 가리키던 값 7에 1을 더한 값 8을 다시 변수 `x`에 재할당한다."
   ]
  },
  {
   "cell_type": "code",
   "execution_count": 21,
   "metadata": {},
   "outputs": [
    {
     "name": "stdout",
     "output_type": "stream",
     "text": [
      "8\n"
     ]
    }
   ],
   "source": [
    "x = x + 1\n",
    "print(x)"
   ]
  },
  {
   "cell_type": "markdown",
   "metadata": {},
   "source": [
    "반면에 아래 명령문은 변수 `x`가 가리키던 값 8에서 1을 뺀 값인 7을 다시 변수 `x`에 할당한다."
   ]
  },
  {
   "cell_type": "code",
   "execution_count": 22,
   "metadata": {},
   "outputs": [
    {
     "name": "stdout",
     "output_type": "stream",
     "text": [
      "7\n"
     ]
    }
   ],
   "source": [
    "x = x - 1\n",
    "print(x)"
   ]
  },
  {
   "cell_type": "markdown",
   "metadata": {},
   "source": [
    "변수 업데이트 명령문을 보다 간편하게 표현할 수 있다.\n",
    "예를 들어 아래 명령문은 `x = x+1`을 대신한다."
   ]
  },
  {
   "cell_type": "code",
   "execution_count": 23,
   "metadata": {},
   "outputs": [
    {
     "name": "stdout",
     "output_type": "stream",
     "text": [
      "8\n"
     ]
    }
   ],
   "source": [
    "x += 1\n",
    "print(x)"
   ]
  },
  {
   "cell_type": "markdown",
   "metadata": {},
   "source": [
    "반면에 아래 명령문은 `x = x / 2`를 대신한다."
   ]
  },
  {
   "cell_type": "code",
   "execution_count": 24,
   "metadata": {},
   "outputs": [
    {
     "name": "stdout",
     "output_type": "stream",
     "text": [
      "4.0\n"
     ]
    }
   ],
   "source": [
    "x /= 2\n",
    "print(x)"
   ]
  },
  {
   "cell_type": "markdown",
   "metadata": {},
   "source": [
    "프로그래밍에서 많이 사용되는 간편한 변수 업데이트 형식은 다음과 같다.\n",
    "\n",
    "| 간편 변수 업데이트 | 실제 의미 |\n",
    "| :---: | :---: |\n",
    "|`x += k` |`x = x + k`|\n",
    "| `x -= k` | `x = x - k`|\n",
    "| `x *= k` | `x = x * k`|\n",
    "|`x /= k`|`x = x / k`|\n",
    "|`x **= k`|`x = x ** k`|\n",
    "|`x //= k`|`x = x // k`|\n",
    "|`x %= k`|`x = x % k`|"
   ]
  },
  {
   "cell_type": "markdown",
   "metadata": {},
   "source": [
    "## 파이썬 계산기"
   ]
  },
  {
   "cell_type": "markdown",
   "metadata": {},
   "source": [
    "파이썬을 계산기로 활용할 수 있다.\n",
    "또한 변수를 연산에 사용할 수 있고,\n",
    "변수에 저장된 값을 조작하여 다른 값을 계산할 수도 있다.\n",
    "파이썬이 제공하는 기초 연산을 정리하면 아래와 같다. \n",
    "\n",
    "| 연산자 | 의미 |\n",
    "| :---: | :---: |\n",
    "| `+` | 덧셈 |\n",
    "| `-` | 뺄셈 |\n",
    "| `*` | 곱셈 |\n",
    "| `/` | 나눗셈 |\n",
    "| `**` | 거듭제곱 |\n",
    "| `//` | 몫 |\n",
    "| `%` | 나머지 |"
   ]
  },
  {
   "cell_type": "markdown",
   "metadata": {},
   "source": [
    "다음 세 개의 변수를 이용하여 각 연산자의 사용법을 확인한다."
   ]
  },
  {
   "cell_type": "code",
   "execution_count": 25,
   "metadata": {},
   "outputs": [],
   "source": [
    "a = 7\n",
    "b = 3\n",
    "c = b + 4"
   ]
  },
  {
   "cell_type": "markdown",
   "metadata": {},
   "source": [
    "사칙연산을 자유롭게 사용할 수 있으며\n",
    "연산 결과를 변수에 할당할 수도 있다."
   ]
  },
  {
   "cell_type": "markdown",
   "metadata": {},
   "source": [
    "- 덧셈"
   ]
  },
  {
   "cell_type": "code",
   "execution_count": 26,
   "metadata": {},
   "outputs": [
    {
     "data": {
      "text/plain": [
       "10"
      ]
     },
     "execution_count": 26,
     "metadata": {},
     "output_type": "execute_result"
    }
   ],
   "source": [
    "a + b"
   ]
  },
  {
   "cell_type": "code",
   "execution_count": 27,
   "metadata": {},
   "outputs": [
    {
     "name": "stdout",
     "output_type": "stream",
     "text": [
      "10\n"
     ]
    }
   ],
   "source": [
    "d = a + b\n",
    "print(d)"
   ]
  },
  {
   "cell_type": "markdown",
   "metadata": {},
   "source": [
    "- 뺄셈"
   ]
  },
  {
   "cell_type": "code",
   "execution_count": 28,
   "metadata": {},
   "outputs": [
    {
     "data": {
      "text/plain": [
       "-4"
      ]
     },
     "execution_count": 28,
     "metadata": {},
     "output_type": "execute_result"
    }
   ],
   "source": [
    "b - a"
   ]
  },
  {
   "cell_type": "code",
   "execution_count": 29,
   "metadata": {},
   "outputs": [
    {
     "name": "stdout",
     "output_type": "stream",
     "text": [
      "-4\n"
     ]
    }
   ],
   "source": [
    "e = b - a\n",
    "print(e)"
   ]
  },
  {
   "cell_type": "markdown",
   "metadata": {},
   "source": [
    "- 곱셈"
   ]
  },
  {
   "cell_type": "code",
   "execution_count": 30,
   "metadata": {},
   "outputs": [
    {
     "data": {
      "text/plain": [
       "21"
      ]
     },
     "execution_count": 30,
     "metadata": {},
     "output_type": "execute_result"
    }
   ],
   "source": [
    "a * b"
   ]
  },
  {
   "cell_type": "code",
   "execution_count": 31,
   "metadata": {},
   "outputs": [
    {
     "name": "stdout",
     "output_type": "stream",
     "text": [
      "21\n"
     ]
    }
   ],
   "source": [
    "d = a * b\n",
    "print(d)"
   ]
  },
  {
   "cell_type": "markdown",
   "metadata": {},
   "source": [
    "- 나눗셈"
   ]
  },
  {
   "cell_type": "code",
   "execution_count": 32,
   "metadata": {},
   "outputs": [
    {
     "data": {
      "text/plain": [
       "0.42857142857142855"
      ]
     },
     "execution_count": 32,
     "metadata": {},
     "output_type": "execute_result"
    }
   ],
   "source": [
    "b / a"
   ]
  },
  {
   "cell_type": "code",
   "execution_count": 33,
   "metadata": {},
   "outputs": [
    {
     "name": "stdout",
     "output_type": "stream",
     "text": [
      "0.42857142857142855\n"
     ]
    }
   ],
   "source": [
    "e = b / a\n",
    "print(e)"
   ]
  },
  {
   "cell_type": "markdown",
   "metadata": {},
   "source": [
    "- 거듭제곱"
   ]
  },
  {
   "cell_type": "code",
   "execution_count": 34,
   "metadata": {},
   "outputs": [
    {
     "data": {
      "text/plain": [
       "50"
      ]
     },
     "execution_count": 34,
     "metadata": {},
     "output_type": "execute_result"
    }
   ],
   "source": [
    "a ** 2 + 1 "
   ]
  },
  {
   "cell_type": "code",
   "execution_count": 35,
   "metadata": {},
   "outputs": [
    {
     "name": "stdout",
     "output_type": "stream",
     "text": [
      "50\n"
     ]
    }
   ],
   "source": [
    "f = a ** 2 + 1 \n",
    "print(f)"
   ]
  },
  {
   "cell_type": "markdown",
   "metadata": {},
   "source": [
    "- 정수 나눗셈의 몫: `//`은 몫 계산"
   ]
  },
  {
   "cell_type": "code",
   "execution_count": 36,
   "metadata": {},
   "outputs": [
    {
     "data": {
      "text/plain": [
       "3"
      ]
     },
     "execution_count": 36,
     "metadata": {},
     "output_type": "execute_result"
    }
   ],
   "source": [
    "8 // b + 3//2 "
   ]
  },
  {
   "cell_type": "code",
   "execution_count": 37,
   "metadata": {},
   "outputs": [
    {
     "name": "stdout",
     "output_type": "stream",
     "text": [
      "3\n"
     ]
    }
   ],
   "source": [
    "f = 8 // b + 3//2\n",
    "print(f)"
   ]
  },
  {
   "cell_type": "markdown",
   "metadata": {},
   "source": [
    "- 정수 나눗셈의 나머지: `%`는 나머지 계산"
   ]
  },
  {
   "cell_type": "code",
   "execution_count": 38,
   "metadata": {},
   "outputs": [
    {
     "data": {
      "text/plain": [
       "4"
      ]
     },
     "execution_count": 38,
     "metadata": {},
     "output_type": "execute_result"
    }
   ],
   "source": [
    "c % b + f "
   ]
  },
  {
   "cell_type": "code",
   "execution_count": 39,
   "metadata": {},
   "outputs": [
    {
     "name": "stdout",
     "output_type": "stream",
     "text": [
      "4\n"
     ]
    }
   ],
   "source": [
    "g = c % b + f \n",
    "print(g)"
   ]
  },
  {
   "cell_type": "markdown",
   "metadata": {},
   "source": [
    "**몫 연산 vs. 나눗셈 연산:정수 vs. 부동소수점**"
   ]
  },
  {
   "cell_type": "markdown",
   "metadata": {},
   "source": [
    "몫 연산과 나눗셈 연산은 다름에 주의한다.\n",
    "몫 연산의 결과는 정수인 반면에 나눗셈의 결과는 유리수로 표현된다.\n",
    "프로그래밍 분야에서 유리수는 **부동소수점**<font size='2'>floating point</font>이라 불린다."
   ]
  },
  {
   "cell_type": "code",
   "execution_count": 40,
   "metadata": {},
   "outputs": [
    {
     "data": {
      "text/plain": [
       "2.3333333333333335"
      ]
     },
     "execution_count": 40,
     "metadata": {},
     "output_type": "execute_result"
    }
   ],
   "source": [
    "c / b "
   ]
  },
  {
   "cell_type": "markdown",
   "metadata": {},
   "source": [
    "나눗셈을 제외하고 정수를 이용한 다른 연산은 기본적으로 정수로 계산된다.\n",
    "하지만 정수에 점 `.`을 찍으면 유리수, 즉 부동소수점으로 취급되어 모든 연산의 결과가 부동소수점으로 계산된다.\n",
    "예를 들어 아래 코드에서 `3.`은 정수 3이 아닌 부동소수점 3.0으로 취급되어\n",
    "관련된 모든 연산이 부동소수점으로 표현된다."
   ]
  },
  {
   "cell_type": "code",
   "execution_count": 41,
   "metadata": {},
   "outputs": [
    {
     "name": "stdout",
     "output_type": "stream",
     "text": [
      "10.0\n",
      "4.0\n",
      "21.0\n",
      "2.3333333333333335\n"
     ]
    }
   ],
   "source": [
    "print(a + 3.)\n",
    "print(a - 3.)\n",
    "print(a * 3.)\n",
    "print(a / 3.)"
   ]
  },
  {
   "cell_type": "markdown",
   "metadata": {},
   "source": [
    "**주의사항**"
   ]
  },
  {
   "cell_type": "markdown",
   "metadata": {},
   "source": [
    "정수를 가리키는 변수에 점을 찍어 부동소수점으로 강제로 계산되도록 하는 일은 허용되지 않는다.\n",
    "아래 코드를 실행하면 변수에 점을 찍는 일은 문법적으로 허용되지 않는다는 의미의 \n",
    "`SyntaxError` 라는 구문 오류가 발생한다. \n",
    "\n",
    "오류 메시지에 포함된 내용은 다음과 같다.\n",
    "\n",
    "- `Cell In[00], line 2`: 코드의 2번 줄에 위치한 명령문에서 오류가 발생\n",
    "- `^`: 오류가 발생한 명령문의 위치 표시\n",
    "- `SyntaxError: invalid syntax`: 허용되지 않은 구문이 사용되었다는 의미의 구문 오류를 가리키는 `SyntaxError` 정보 표기"
   ]
  },
  {
   "cell_type": "code",
   "execution_count": 42,
   "metadata": {},
   "outputs": [
    {
     "ename": "SyntaxError",
     "evalue": "invalid syntax (3042087045.py, line 2)",
     "output_type": "error",
     "traceback": [
      "\u001b[0;36m  Cell \u001b[0;32mIn[42], line 2\u001b[0;36m\u001b[0m\n\u001b[0;31m    a * d.\u001b[0m\n\u001b[0m          ^\u001b[0m\n\u001b[0;31mSyntaxError\u001b[0m\u001b[0;31m:\u001b[0m invalid syntax\n"
     ]
    }
   ],
   "source": [
    "d = 7\n",
    "a * d."
   ]
  },
  {
   "cell_type": "markdown",
   "metadata": {},
   "source": [
    "## 예제"
   ]
  },
  {
   "cell_type": "markdown",
   "metadata": {},
   "source": [
    "**예제 1**"
   ]
  },
  {
   "cell_type": "markdown",
   "metadata": {},
   "source": [
    "아래 명령문들을 실행해서 오류가 발생하는 경우 오류의 종류와 원인을 설명하고 수정한다.\n",
    "오류가 발생하지 않으면 실행 결과를 설명한다."
   ]
  },
  {
   "cell_type": "markdown",
   "metadata": {},
   "source": [
    "(1)"
   ]
  },
  {
   "cell_type": "code",
   "execution_count": 43,
   "metadata": {},
   "outputs": [
    {
     "ename": "SyntaxError",
     "evalue": "incomplete input (353226650.py, line 1)",
     "output_type": "error",
     "traceback": [
      "\u001b[0;36m  Cell \u001b[0;32mIn[43], line 1\u001b[0;36m\u001b[0m\n\u001b[0;31m    print(\"Hello World\"\u001b[0m\n\u001b[0m                       ^\u001b[0m\n\u001b[0;31mSyntaxError\u001b[0m\u001b[0;31m:\u001b[0m incomplete input\n"
     ]
    }
   ],
   "source": [
    "print(\"Hello World\""
   ]
  },
  {
   "cell_type": "markdown",
   "metadata": {},
   "source": [
    "답"
   ]
  },
  {
   "cell_type": "markdown",
   "metadata": {},
   "source": [
    "- 오류 종류: SyntaxError(구문 오류)\n",
    "\n",
    "- 오류 원인: print() 함수의 인자는 소괄호로 감싸져야 하는데 닫는 괄호가 없음."
   ]
  },
  {
   "cell_type": "code",
   "execution_count": 44,
   "metadata": {},
   "outputs": [
    {
     "name": "stdout",
     "output_type": "stream",
     "text": [
      "Hello World\n"
     ]
    }
   ],
   "source": [
    "# 오류가 수정된 코드\n",
    "\n",
    "print(\"Hello World\")"
   ]
  },
  {
   "cell_type": "markdown",
   "metadata": {},
   "source": [
    "(2)"
   ]
  },
  {
   "cell_type": "code",
   "execution_count": 45,
   "metadata": {},
   "outputs": [
    {
     "ename": "SyntaxError",
     "evalue": "unterminated string literal (detected at line 1) (2803455855.py, line 1)",
     "output_type": "error",
     "traceback": [
      "\u001b[0;36m  Cell \u001b[0;32mIn[45], line 1\u001b[0;36m\u001b[0m\n\u001b[0;31m    print('Hello World\")\u001b[0m\n\u001b[0m          ^\u001b[0m\n\u001b[0;31mSyntaxError\u001b[0m\u001b[0;31m:\u001b[0m unterminated string literal (detected at line 1)\n"
     ]
    }
   ],
   "source": [
    "print('Hello World\")"
   ]
  },
  {
   "cell_type": "markdown",
   "metadata": {},
   "source": [
    "답"
   ]
  },
  {
   "cell_type": "markdown",
   "metadata": {},
   "source": [
    "- 오류 종류: SyntaxError(구문 오류)\n",
    "\n",
    "- 오류 원인: 문자열은 동일한 따옴표로 감싸져야 함. 여는 따옴표는 작은따옴표인데 닫는 따옴표는 큰따옴표임. 동일한 따옴표를 사용해야 함."
   ]
  },
  {
   "cell_type": "code",
   "execution_count": 46,
   "metadata": {},
   "outputs": [
    {
     "name": "stdout",
     "output_type": "stream",
     "text": [
      "Hello World\n"
     ]
    }
   ],
   "source": [
    "# 오류가 수정된 코드\n",
    "\n",
    "print('Hello World')"
   ]
  },
  {
   "cell_type": "markdown",
   "metadata": {},
   "source": [
    "또는"
   ]
  },
  {
   "cell_type": "code",
   "execution_count": 47,
   "metadata": {},
   "outputs": [
    {
     "name": "stdout",
     "output_type": "stream",
     "text": [
      "Hello World\n"
     ]
    }
   ],
   "source": [
    "print(\"Hello World\")"
   ]
  },
  {
   "cell_type": "markdown",
   "metadata": {},
   "source": [
    "(3)"
   ]
  },
  {
   "cell_type": "code",
   "execution_count": 48,
   "metadata": {},
   "outputs": [
    {
     "name": "stdout",
     "output_type": "stream",
     "text": [
      "2\n"
     ]
    }
   ],
   "source": [
    "print(+2)"
   ]
  },
  {
   "cell_type": "markdown",
   "metadata": {},
   "source": [
    "답"
   ]
  },
  {
   "cell_type": "markdown",
   "metadata": {},
   "source": [
    "오류가 발생하지 않음. `+2`는 양의 정수 2로 처리됨."
   ]
  },
  {
   "cell_type": "markdown",
   "metadata": {},
   "source": [
    "(4)"
   ]
  },
  {
   "cell_type": "code",
   "execution_count": 49,
   "metadata": {},
   "outputs": [
    {
     "ename": "SyntaxError",
     "evalue": "leading zeros in decimal integer literals are not permitted; use an 0o prefix for octal integers (1292398223.py, line 1)",
     "output_type": "error",
     "traceback": [
      "\u001b[0;36m  Cell \u001b[0;32mIn[49], line 1\u001b[0;36m\u001b[0m\n\u001b[0;31m    print(023)\u001b[0m\n\u001b[0m          ^\u001b[0m\n\u001b[0;31mSyntaxError\u001b[0m\u001b[0;31m:\u001b[0m leading zeros in decimal integer literals are not permitted; use an 0o prefix for octal integers\n"
     ]
    }
   ],
   "source": [
    "print(023)"
   ]
  },
  {
   "cell_type": "markdown",
   "metadata": {},
   "source": [
    "답"
   ]
  },
  {
   "cell_type": "markdown",
   "metadata": {},
   "source": [
    "- 오류 종류: SyntaxError(구문 오류)\n",
    "\n",
    "- 오류 원인: 정수, 부동소수점 등은 0으로 시작할 수 없음."
   ]
  },
  {
   "cell_type": "code",
   "execution_count": 50,
   "metadata": {},
   "outputs": [
    {
     "name": "stdout",
     "output_type": "stream",
     "text": [
      "23\n"
     ]
    }
   ],
   "source": [
    "# 오류가 수정된 코드\n",
    "\n",
    "print(23)"
   ]
  },
  {
   "cell_type": "markdown",
   "metadata": {},
   "source": [
    "또는 숫자가 아닌 기호들의 나열인 `\"023\"`을 의도했지만 미처 따옴표를 사용하지 않은 경우일 수도 있음.\n",
    "이처럼 따옴표로 감싸이면 어떠한 기호의 나열도 허용됨."
   ]
  },
  {
   "cell_type": "code",
   "execution_count": 51,
   "metadata": {},
   "outputs": [
    {
     "name": "stdout",
     "output_type": "stream",
     "text": [
      "023\n"
     ]
    }
   ],
   "source": [
    "# 오류가 수정된 코드\n",
    "\n",
    "print('023')"
   ]
  },
  {
   "cell_type": "markdown",
   "metadata": {},
   "source": [
    "**예제 2**"
   ]
  },
  {
   "cell_type": "markdown",
   "metadata": {},
   "source": [
    "변수 할당 명령문과 관련하여 주의해야할 점들을 다룬다.\n",
    "아래 명령문들을 실행해서 오류가 발생하는 경우 오류의 종류와 원인을 설명하고 수정한다."
   ]
  },
  {
   "cell_type": "markdown",
   "metadata": {},
   "source": [
    "(1)"
   ]
  },
  {
   "cell_type": "code",
   "execution_count": 52,
   "metadata": {},
   "outputs": [
    {
     "ename": "SyntaxError",
     "evalue": "cannot assign to literal here. Maybe you meant '==' instead of '='? (2807011745.py, line 1)",
     "output_type": "error",
     "traceback": [
      "\u001b[0;36m  Cell \u001b[0;32mIn[52], line 1\u001b[0;36m\u001b[0m\n\u001b[0;31m    23 = n\u001b[0m\n\u001b[0m    ^\u001b[0m\n\u001b[0;31mSyntaxError\u001b[0m\u001b[0;31m:\u001b[0m cannot assign to literal here. Maybe you meant '==' instead of '='?\n"
     ]
    }
   ],
   "source": [
    "23 = n"
   ]
  },
  {
   "cell_type": "markdown",
   "metadata": {},
   "source": [
    "답"
   ]
  },
  {
   "cell_type": "markdown",
   "metadata": {},
   "source": [
    "- 오류 종류: SyntaxError(구문 오류)\n",
    "\n",
    "- 오류 원인: 변수 할당 명령문의 등호 기호 왼쪽에 변수가, 오른쪽에 할당되는 값이 위치해야 함.\n",
    "    변수는 숫자로 시작할 수 없음."
   ]
  },
  {
   "cell_type": "code",
   "execution_count": 53,
   "metadata": {},
   "outputs": [],
   "source": [
    "# 오류가 수정된 코드 작성\n",
    "\n",
    "n = 23"
   ]
  },
  {
   "cell_type": "markdown",
   "metadata": {},
   "source": [
    "(2)"
   ]
  },
  {
   "cell_type": "code",
   "execution_count": 54,
   "metadata": {},
   "outputs": [],
   "source": [
    "x = y = 1"
   ]
  },
  {
   "cell_type": "markdown",
   "metadata": {},
   "source": [
    "답"
   ]
  },
  {
   "cell_type": "markdown",
   "metadata": {},
   "source": [
    "오류 발생하지 않음. x, y 모두 1을 할당 받음.\n",
    "즉 아래 코드를 간단하게 표현한 것임.\n",
    "하지만 추천되지 않음. \n",
    "이유는 한줄에 하나의 변수를 선언하면 나중에 코드를 이해할 때 보다 쉽게 이해됨.\n",
    "즉, 한줄에 하나의 명령문만 사용하기 추천."
   ]
  },
  {
   "cell_type": "code",
   "execution_count": 55,
   "metadata": {},
   "outputs": [],
   "source": [
    "x = 1\n",
    "y = 1"
   ]
  },
  {
   "cell_type": "markdown",
   "metadata": {},
   "source": [
    "(3)"
   ]
  },
  {
   "cell_type": "code",
   "execution_count": 56,
   "metadata": {},
   "outputs": [
    {
     "ename": "NameError",
     "evalue": "name 'k' is not defined",
     "output_type": "error",
     "traceback": [
      "\u001b[0;31m---------------------------------------------------------------------------\u001b[0m",
      "\u001b[0;31mNameError\u001b[0m                                 Traceback (most recent call last)",
      "Cell \u001b[0;32mIn[56], line 1\u001b[0m\n\u001b[0;32m----> 1\u001b[0m y \u001b[38;5;241m=\u001b[39m k \u001b[38;5;241m+\u001b[39m \u001b[38;5;241m1.\u001b[39m\n",
      "\u001b[0;31mNameError\u001b[0m: name 'k' is not defined"
     ]
    }
   ],
   "source": [
    "y = k + 1."
   ]
  },
  {
   "cell_type": "markdown",
   "metadata": {},
   "source": [
    "답"
   ]
  },
  {
   "cell_type": "markdown",
   "metadata": {},
   "source": [
    "- 오류 종류: NameError(이름 오류)\n",
    "\n",
    "- 오류 원인: 선언되지 않은 변수 `k` 가 사용됨. 즉 `k` 가리키는 값이 지정되지 않았음."
   ]
  },
  {
   "cell_type": "markdown",
   "metadata": {},
   "source": [
    "`k`를 먼저 선언하면 해결된다.\n",
    "예를 들어 아래 코드는 변수 `k`가 3을 가리키도록 한다."
   ]
  },
  {
   "cell_type": "code",
   "execution_count": 57,
   "metadata": {},
   "outputs": [],
   "source": [
    "# 오류가 수정된 코드 작성\n",
    "\n",
    "# k를 먼저 선언\n",
    "k = 3\n",
    "\n",
    "y = k + 1"
   ]
  },
  {
   "cell_type": "markdown",
   "metadata": {},
   "source": [
    "**예제 3**"
   ]
  },
  {
   "cell_type": "markdown",
   "metadata": {
    "id": "6jxFns8v0EeE"
   },
   "source": [
    "먼저 아래와 같이 변수를 선언한다."
   ]
  },
  {
   "cell_type": "code",
   "execution_count": 58,
   "metadata": {},
   "outputs": [],
   "source": [
    "number = 17"
   ]
  },
  {
   "cell_type": "markdown",
   "metadata": {},
   "source": [
    "언급된 값을 표현하는 수식을 `number` 변수를 이용하여 표현한 다음에 실행하여라."
   ]
  },
  {
   "cell_type": "markdown",
   "metadata": {},
   "source": [
    "(1) number 더하기 2"
   ]
  },
  {
   "cell_type": "markdown",
   "metadata": {},
   "source": [
    "답"
   ]
  },
  {
   "cell_type": "code",
   "execution_count": 59,
   "metadata": {},
   "outputs": [
    {
     "data": {
      "text/plain": [
       "19"
      ]
     },
     "execution_count": 59,
     "metadata": {},
     "output_type": "execute_result"
    }
   ],
   "source": [
    "number + 2"
   ]
  },
  {
   "cell_type": "markdown",
   "metadata": {},
   "source": [
    "(2) number 빼기 2.0"
   ]
  },
  {
   "cell_type": "markdown",
   "metadata": {},
   "source": [
    "답"
   ]
  },
  {
   "cell_type": "code",
   "execution_count": 60,
   "metadata": {},
   "outputs": [
    {
     "data": {
      "text/plain": [
       "15.0"
      ]
     },
     "execution_count": 60,
     "metadata": {},
     "output_type": "execute_result"
    }
   ],
   "source": [
    "number - 2.0"
   ]
  },
  {
   "cell_type": "markdown",
   "metadata": {},
   "source": [
    "(3) number 나누기 7"
   ]
  },
  {
   "cell_type": "markdown",
   "metadata": {},
   "source": [
    "답"
   ]
  },
  {
   "cell_type": "code",
   "execution_count": 61,
   "metadata": {},
   "outputs": [
    {
     "data": {
      "text/plain": [
       "2.4285714285714284"
      ]
     },
     "execution_count": 61,
     "metadata": {},
     "output_type": "execute_result"
    }
   ],
   "source": [
    "number / 7"
   ]
  },
  {
   "cell_type": "markdown",
   "metadata": {},
   "source": [
    "(4) number를 7로 나눴을 때의 몫"
   ]
  },
  {
   "cell_type": "markdown",
   "metadata": {},
   "source": [
    "답"
   ]
  },
  {
   "cell_type": "code",
   "execution_count": 62,
   "metadata": {},
   "outputs": [
    {
     "data": {
      "text/plain": [
       "2"
      ]
     },
     "execution_count": 62,
     "metadata": {},
     "output_type": "execute_result"
    }
   ],
   "source": [
    "number // 7"
   ]
  },
  {
   "cell_type": "markdown",
   "metadata": {},
   "source": [
    "(5) number를 7로 나눴을 때의 나머지"
   ]
  },
  {
   "cell_type": "markdown",
   "metadata": {},
   "source": [
    "답"
   ]
  },
  {
   "cell_type": "code",
   "execution_count": 63,
   "metadata": {},
   "outputs": [
    {
     "data": {
      "text/plain": [
       "3"
      ]
     },
     "execution_count": 63,
     "metadata": {},
     "output_type": "execute_result"
    }
   ],
   "source": [
    "number % 7"
   ]
  },
  {
   "cell_type": "markdown",
   "metadata": {
    "id": "6jxFns8v0EeE"
   },
   "source": [
    "(6) number의 세제곱을 (2 + 3)으로 나누기"
   ]
  },
  {
   "cell_type": "markdown",
   "metadata": {},
   "source": [
    "답"
   ]
  },
  {
   "cell_type": "code",
   "execution_count": 64,
   "metadata": {},
   "outputs": [
    {
     "data": {
      "text/plain": [
       "982.6"
      ]
     },
     "execution_count": 64,
     "metadata": {},
     "output_type": "execute_result"
    }
   ],
   "source": [
    "number**3 / (2 + 3)"
   ]
  },
  {
   "cell_type": "markdown",
   "metadata": {},
   "source": [
    "그런데 아래와 같이 하면 다른, 따라서 틀린 값이 나온다."
   ]
  },
  {
   "cell_type": "code",
   "execution_count": 65,
   "metadata": {},
   "outputs": [
    {
     "data": {
      "text/plain": [
       "2459.5"
      ]
     },
     "execution_count": 65,
     "metadata": {},
     "output_type": "execute_result"
    }
   ],
   "source": [
    "number**3 / 2 + 3"
   ]
  },
  {
   "cell_type": "markdown",
   "metadata": {},
   "source": [
    "이유는 나눗셈 연산자 `/`의 우선순위가 덧셈 연산자 `+` 보다 높아서 위 수식은 아래 수식처럼 계산되기 때문이다."
   ]
  },
  {
   "cell_type": "code",
   "execution_count": 66,
   "metadata": {},
   "outputs": [
    {
     "data": {
      "text/plain": [
       "2459.5"
      ]
     },
     "execution_count": 66,
     "metadata": {},
     "output_type": "execute_result"
    }
   ],
   "source": [
    "(number**3 / 2) + 3"
   ]
  },
  {
   "cell_type": "markdown",
   "metadata": {},
   "source": [
    "**예제 4**"
   ]
  },
  {
   "cell_type": "markdown",
   "metadata": {},
   "source": [
    "아래 코드에서처럼 3과 3.0을 수식에 함께 사용해도 된다."
   ]
  },
  {
   "cell_type": "code",
   "execution_count": 67,
   "metadata": {},
   "outputs": [
    {
     "data": {
      "text/plain": [
       "6.0"
      ]
     },
     "execution_count": 67,
     "metadata": {},
     "output_type": "execute_result"
    }
   ],
   "source": [
    "3 + 3.0"
   ]
  },
  {
   "cell_type": "markdown",
   "metadata": {},
   "source": [
    "반면에 아래 수식을 계산하려 하면 오류가 발생한다.\n",
    "이유는 따옴표로 감싸인 숫자 기호는 기본적으로 연산에 사용될 수 없기 때문이다."
   ]
  },
  {
   "cell_type": "code",
   "execution_count": 68,
   "metadata": {},
   "outputs": [
    {
     "ename": "TypeError",
     "evalue": "unsupported operand type(s) for +: 'int' and 'str'",
     "output_type": "error",
     "traceback": [
      "\u001b[0;31m---------------------------------------------------------------------------\u001b[0m",
      "\u001b[0;31mTypeError\u001b[0m                                 Traceback (most recent call last)",
      "Cell \u001b[0;32mIn[68], line 1\u001b[0m\n\u001b[0;32m----> 1\u001b[0m \u001b[38;5;241m3\u001b[39m \u001b[38;5;241m+\u001b[39m \u001b[38;5;124m'\u001b[39m\u001b[38;5;124m3.0\u001b[39m\u001b[38;5;124m'\u001b[39m\n",
      "\u001b[0;31mTypeError\u001b[0m: unsupported operand type(s) for +: 'int' and 'str'"
     ]
    }
   ],
   "source": [
    "3 + '3.0'"
   ]
  },
  {
   "cell_type": "markdown",
   "metadata": {},
   "source": [
    "반면에 아래 수식은 계산이 허용된다.\n",
    "다만 9.0이 아닌 따옴표로 감싸인 이상한 숫자 기호들의 나열이 계산된다.\n",
    "실제로 네 개의 기호 `3`, `.`, `0`으로 구성된 문자열 `'3.0'`이 세 번 단순 반복된다."
   ]
  },
  {
   "cell_type": "code",
   "execution_count": 69,
   "metadata": {},
   "outputs": [
    {
     "data": {
      "text/plain": [
       "'3.03.03.0'"
      ]
     },
     "execution_count": 69,
     "metadata": {},
     "output_type": "execute_result"
    }
   ],
   "source": [
    "3 * '3.0'"
   ]
  },
  {
   "cell_type": "markdown",
   "metadata": {},
   "source": [
    "숫자와 숫자가 아닌 것의 연산이 언제 어떤 방식으로 허용되는지에 대해서는 나중에 자세히 다룬다."
   ]
  },
  {
   "cell_type": "markdown",
   "metadata": {
    "id": "oMsxIe_500xd"
   },
   "source": [
    "**예제 5**"
   ]
  },
  {
   "cell_type": "markdown",
   "metadata": {
    "id": "BR35apnL0Tf9"
   },
   "source": [
    "1$\\text{m}^2$는 0.3025평이다. \n",
    "84$\\text{m}^2$는 몇 평인가? \n",
    "반대로 30평은 몇 $\\text{m}^2$인지 계산하는 코드를 다양한 변수를 이용하여 구현한다."
   ]
  },
  {
   "cell_type": "markdown",
   "metadata": {},
   "source": [
    "힌트:"
   ]
  },
  {
   "cell_type": "markdown",
   "metadata": {},
   "source": [
    "유용하게 활용할 수 있는 변수를 선언한다.\n",
    "어떤 변수가 필요한지, 왜 필요한지를 판단하는 일이 중요하다.\n",
    "\n",
    "- `one_squaremeter`: 1 제곱미터에 해당하는 평수\n",
    "- `eightyfour_squaremeter`: 84 제곱미터에 해당하는 평수\n",
    "- `one_pyeong`: 1 평에 해당하는 제곱미터\n",
    "- `thirty_pyeong`: 30평에 해당하는 제곱미터"
   ]
  },
  {
   "cell_type": "markdown",
   "metadata": {},
   "source": [
    "답"
   ]
  },
  {
   "cell_type": "code",
   "execution_count": 70,
   "metadata": {},
   "outputs": [],
   "source": [
    "one_squaremeter = 0.3025\n",
    "eightyfour_squaremeter = 84 * one_squaremeter\n",
    "one_pyeong = 1 / one_squaremeter\n",
    "thirty_pyeong = 30 * one_pyeong"
   ]
  },
  {
   "cell_type": "markdown",
   "metadata": {},
   "source": [
    "선언된 변수를 이용하여 아래와 같이 문자열을 출력한다."
   ]
  },
  {
   "cell_type": "code",
   "execution_count": 71,
   "metadata": {},
   "outputs": [
    {
     "name": "stdout",
     "output_type": "stream",
     "text": [
      "84제곱미터: 25.41 평\n",
      "30평: 99.17355371900827 제곱미터\n"
     ]
    }
   ],
   "source": [
    "print(\"84제곱미터:\", eightyfour_squaremeter, '평')\n",
    "print(\"30평:\", thirty_pyeong, '제곱미터')"
   ]
  },
  {
   "cell_type": "markdown",
   "metadata": {},
   "source": [
    "## 연습문제"
   ]
  },
  {
   "cell_type": "markdown",
   "metadata": {},
   "source": [
    "1. 아래 사이트에서 파이썬 프로그래밍을 진행하는 방식을 확인하세요.\n",
    "\n",
    "    - [깃허브 스페이스](https://github.com/features/codespaces)\n",
    "    - [구글 코랩](https://colab.research.google.com)\n",
    "    - [캐글](https://www.kaggle.com)\n",
    "\n",
    "1. 위 각각의 사이트에서 [(연습) 프로그래밍 맛보기](https://colab.research.google.com/github/codingalzi/42H/blob/master/practices/practice-starting.ipynb)에 포함된 문제들을 풀어보세요."
   ]
  }
 ],
 "metadata": {
  "kernelspec": {
   "display_name": "Python 3 (ipykernel)",
   "language": "python",
   "name": "python3"
  },
  "language_info": {
   "codemirror_mode": {
    "name": "ipython",
    "version": 3
   },
   "file_extension": ".py",
   "mimetype": "text/x-python",
   "name": "python",
   "nbconvert_exporter": "python",
   "pygments_lexer": "ipython3",
   "version": "3.12.2"
  },
  "vscode": {
   "interpreter": {
    "hash": "6c86b3592b6800d985c04531f2c445f0fa6967131b8dd6395a925f7622e55602"
   }
  }
 },
 "nbformat": 4,
 "nbformat_minor": 4
}
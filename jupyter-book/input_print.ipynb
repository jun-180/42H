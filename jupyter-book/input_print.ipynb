{
 "cells": [
  {
   "cell_type": "markdown",
   "metadata": {},
   "source": [
    "# 사용자 입력"
   ]
  },
  {
   "cell_type": "markdown",
   "metadata": {},
   "source": [
    "사용자로 입력값을 받아 처리하는 방식을 소개한다."
   ]
  },
  {
   "cell_type": "markdown",
   "metadata": {},
   "source": [
    "## `input()` 함수"
   ]
  },
  {
   "cell_type": "markdown",
   "metadata": {},
   "source": [
    "아래 코드를 실행한 다음에 키보드에서 숫자 13을 입력하고 <kbd>Enter</kbd> 키를 누르면 \n",
    "최종적으로 `'맞았습니다!'`가 출력된다."
   ]
  },
  {
   "cell_type": "code",
   "execution_count": 1,
   "metadata": {},
   "outputs": [
    {
     "name": "stdout",
     "output_type": "stream",
     "text": [
      "숫자맞히기 게임에 환영합니다.\n",
      "10부터 19 사이의 숫자 하나를 입력하세요: 13\n",
      "맞았습니다!\n"
     ]
    }
   ],
   "source": [
    "print(\"숫자맞히기 게임에 환영합니다.\")\n",
    "\n",
    "secret = 13\n",
    "guess_str = input(\"10부터 19 사이의 숫자 하나를 입력하세요: \") \n",
    "guess = int(guess_str)\n",
    "\n",
    "if secret == guess:\n",
    "    print(\"맞았습니다!\")\n",
    "else:\n",
    "    print(\"틀렸습니다!\")"
   ]
  },
  {
   "cell_type": "markdown",
   "metadata": {},
   "source": [
    "이유는 `secret` 변수에 할당되어 있는 값이 13이고\n",
    "`guess` 변수에는 사용자가 입력한 값인 13이 할당되는 데\n",
    "그러면 `if ... else ...` 조건문에 사용된 논리식 \n",
    "`guess == secret`가 `True`로 계산되어\n",
    "`print(\"맞았습니다!\")`가 실행되기 때문이다. "
   ]
  },
  {
   "cell_type": "markdown",
   "metadata": {},
   "source": [
    "사용자가 입력한 13은 `input()` 함수에 의해 변수 `guess_str`에 할당된다.\n",
    "`input()` 함수의 사용법은 다음과 같다.\n",
    "\n",
    "```python\n",
    "input(\"입력값 안내 문자열\")\n",
    "```"
   ]
  },
  {
   "cell_type": "markdown",
   "metadata": {},
   "source": [
    "`input()` 함수의 인자는 사용자로부터 입력되어야 하는 값에 대한 정보를 알려주는 안내문의 역할을 수행할 뿐이며\n",
    "사용자의 입력값을 처리하는 방식에는 전혀 영향을 미치지 않는다.\n",
    "따라서 안내 문자열을 생략할 수 있다."
   ]
  },
  {
   "cell_type": "markdown",
   "metadata": {},
   "source": [
    "입력값 안내 문자열을 지정하고 실행하면 안내 문자열이 먼저 출력되고 사용자가 <kbd>Enter</kbd> 키를 입력할 때까지 기다린다.\n",
    "`input()` 함수가 사용자로부터 받아들이는 값은 <kbd>Enter</kbd> 키가 입력되기 전까지 입력된 문자와 기호로 이루어진\n",
    "문자열이다. \n",
    "아래 코드를 실행할 때 사용자가 1과 3을 연속으로 입력한 후에 <kbd>Enter</kbd> 키를 치면\n",
    "`input()` 함수는 문자열 `'13'`을 입력값으로 처리한다."
   ]
  },
  {
   "cell_type": "code",
   "execution_count": 2,
   "metadata": {},
   "outputs": [
    {
     "name": "stdout",
     "output_type": "stream",
     "text": [
      "10부터 19 사이의 숫자 하나를 입력하세요: 13\n"
     ]
    },
    {
     "data": {
      "text/plain": [
       "'13'"
      ]
     },
     "execution_count": 2,
     "metadata": {},
     "output_type": "execute_result"
    }
   ],
   "source": [
    "input(\"10부터 19 사이의 숫자 하나를 입력하세요: \")"
   ]
  },
  {
   "cell_type": "markdown",
   "metadata": {},
   "source": [
    "입력값 안내 문자열을 사용하지 않으면 아무런 정보 없이 사용자가 <kbd>Enter</kbd> 키를 입력할 때까지 기다린다.\n",
    "사용자 입력값은 정수, 부동소수점뿐만 아니라 임의의 키의 조합이 될 수 있다.\n",
    "아래 코드를 실행한 후에 `파이썬`을 입력한 후에 <kbd>Enter</kbd> 키를 치면 \n",
    "문자열 `'파이썬'`이 `input()` 함수의 입력값으로 처리된다."
   ]
  },
  {
   "cell_type": "code",
   "execution_count": 4,
   "metadata": {},
   "outputs": [
    {
     "name": "stdout",
     "output_type": "stream",
     "text": [
      "파이썬\n"
     ]
    },
    {
     "data": {
      "text/plain": [
       "'파이썬'"
      ]
     },
     "execution_count": 4,
     "metadata": {},
     "output_type": "execute_result"
    }
   ],
   "source": [
    "input()"
   ]
  },
  {
   "cell_type": "markdown",
   "metadata": {},
   "source": [
    "`input()` 함수의 입력값은 무조건 문자열로 지정된다.\n",
    "이런 이유로 `guess_str` 변수에 할당된 값은 정수 13이 아니라 문자열 `'13'`이다."
   ]
  },
  {
   "cell_type": "code",
   "execution_count": 5,
   "metadata": {},
   "outputs": [
    {
     "data": {
      "text/plain": [
       "'13'"
      ]
     },
     "execution_count": 5,
     "metadata": {},
     "output_type": "execute_result"
    }
   ],
   "source": [
    "guess_str"
   ]
  },
  {
   "cell_type": "code",
   "execution_count": 6,
   "metadata": {},
   "outputs": [
    {
     "data": {
      "text/plain": [
       "str"
      ]
     },
     "execution_count": 6,
     "metadata": {},
     "output_type": "execute_result"
    }
   ],
   "source": [
    "type(guess_str)"
   ]
  },
  {
   "cell_type": "markdown",
   "metadata": {},
   "source": [
    "그런데 사용자가 입력해서 맞혀야 하는 값은 정수 13이고\n",
    "파이썬은 정수와 문자열을 비교하면 항상 `False`로 계산한다.\n",
    "이는 정수 13과 문자열 `'13'`에 대해서도 동일하다."
   ]
  },
  {
   "cell_type": "code",
   "execution_count": 7,
   "metadata": {},
   "outputs": [
    {
     "data": {
      "text/plain": [
       "False"
      ]
     },
     "execution_count": 7,
     "metadata": {},
     "output_type": "execute_result"
    }
   ],
   "source": [
    "13 == '13'"
   ]
  },
  {
   "cell_type": "markdown",
   "metadata": {},
   "source": [
    "따라서 `int()` 함수를 이용하여 변환된 값을 `guess` 변수에 할당한 후에\n",
    "`secret`에 할당된 정수 13과 비교하는 `if ... else ...` 조건문을 실행한다.\n",
    "만약에 이 과정을 거치지 않고 `secret == guess_str`을 사용하면\n",
    "무조건 `\"틀렸습니다!\"`가 출력될 것이다.\n",
    "이유는 앞서 설명한 대로 `secret == guess_str`가 `False`로 계산되기 때문이다."
   ]
  },
  {
   "cell_type": "code",
   "execution_count": 8,
   "metadata": {},
   "outputs": [
    {
     "name": "stdout",
     "output_type": "stream",
     "text": [
      "틀렸습니다!\n"
     ]
    }
   ],
   "source": [
    "if secret == guess_str:\n",
    "    print(\"맞았습니다!\")\n",
    "else:\n",
    "    print(\"틀렸습니다!\")"
   ]
  },
  {
   "cell_type": "markdown",
   "metadata": {},
   "source": [
    "따라서 `guess_str`에 할당된 값을 정수형으로 변환한 다음에 `secret` 변수가 가리키는 값과\n",
    "동일한지 여부를 판단해야 한다."
   ]
  },
  {
   "cell_type": "code",
   "execution_count": 9,
   "metadata": {},
   "outputs": [
    {
     "data": {
      "text/plain": [
       "True"
      ]
     },
     "execution_count": 9,
     "metadata": {},
     "output_type": "execute_result"
    }
   ],
   "source": [
    "guess == int(guess_str)"
   ]
  },
  {
   "cell_type": "markdown",
   "metadata": {},
   "source": [
    "또한 `if .. else ...` 조건문도 `guess`를 대신 이용해야 13이 제대로 입력되었음을 확인받을 수 있다."
   ]
  },
  {
   "cell_type": "code",
   "execution_count": 10,
   "metadata": {},
   "outputs": [
    {
     "name": "stdout",
     "output_type": "stream",
     "text": [
      "맞았습니다!\n"
     ]
    }
   ],
   "source": [
    "if secret == guess:\n",
    "    print(\"맞았습니다!\")\n",
    "else:\n",
    "    print(\"틀렸습니다!\")"
   ]
  },
  {
   "cell_type": "markdown",
   "metadata": {},
   "source": [
    "**`int(input())` 활용**"
   ]
  },
  {
   "cell_type": "markdown",
   "metadata": {},
   "source": [
    "앞서 입력된 값을 처리하기 위해 두 개의 변수를 사용하였다.\n",
    "\n",
    "```python\n",
    "guess_str = input(\"10부터 19 사이의 숫자 하나를 입력하세요: \") \n",
    "guess = int(guess_str)\n",
    "```"
   ]
  },
  {
   "cell_type": "markdown",
   "metadata": {},
   "source": [
    "그런데 어차리 정수로 변환된 값을 사용할 것이기에 `guess_str` 변수를 사용하지 않으면서\n",
    "직접 `guess`를 다음과 같이 정의해도 된다."
   ]
  },
  {
   "cell_type": "markdown",
   "metadata": {},
   "source": [
    "```python\n",
    "guess = int(input(\"10부터 19 사이의 숫자 하나를 입력하세요: \"))\n",
    "```"
   ]
  },
  {
   "cell_type": "markdown",
   "metadata": {},
   "source": [
    "즉, `guess_str` 변수가 가리키고 있는 `input()` 함수 호출 표현식 그대로를\n",
    "`int()` 함수의 인자로 지정한다.\n",
    "\n",
    "이제 `secret` 변수에 저장된 13을 맞히는 코드를 다음과 같이 작성할 수 있다."
   ]
  },
  {
   "cell_type": "code",
   "execution_count": 11,
   "metadata": {},
   "outputs": [
    {
     "name": "stdout",
     "output_type": "stream",
     "text": [
      "숫자맞히기 게임에 환영합니다.\n",
      "10부터 19 사이의 숫자 하나를 입력하세요:  13\n",
      "맞았습니다!\n"
     ]
    }
   ],
   "source": [
    "print(\"숫자맞히기 게임에 환영합니다.\")\n",
    "\n",
    "secret = 13\n",
    "guess = int(input(\"10부터 19 사이의 숫자 하나를 입력하세요: \"))\n",
    "\n",
    "if secret == guess:\n",
    "    print(\"맞았습니다!\")\n",
    "else:\n",
    "    print(\"틀렸습니다!\")"
   ]
  },
  {
   "cell_type": "markdown",
   "metadata": {},
   "source": [
    "## 필수 예제"
   ]
  },
  {
   "cell_type": "markdown",
   "metadata": {},
   "source": [
    "참고: [(필수 예제) 변수, 값, 표현식](https://colab.research.google.com/github/codingalzi/pybook/blob/master/examples/examples-variables_expressions.ipynb)"
   ]
  },
  {
   "cell_type": "markdown",
   "metadata": {},
   "source": [
    "## 연습문제"
   ]
  },
  {
   "cell_type": "markdown",
   "metadata": {},
   "source": [
    "참고: [(연습) 변수, 값, 표현식](https://colab.research.google.com/github/codingalzi/pybook/blob/master/practices/practice-variables_expressions.ipynb)"
   ]
  }
 ],
 "metadata": {
  "kernelspec": {
   "display_name": "Python 3 (ipykernel)",
   "language": "python",
   "name": "python3"
  },
  "language_info": {
   "codemirror_mode": {
    "name": "ipython",
    "version": 3
   },
   "file_extension": ".py",
   "mimetype": "text/x-python",
   "name": "python",
   "nbconvert_exporter": "python",
   "pygments_lexer": "ipython3",
   "version": "3.12.2"
  },
  "toc": {
   "base_numbering": 1,
   "nav_menu": {},
   "number_sections": false,
   "sideBar": true,
   "skip_h1_title": false,
   "title_cell": "목차",
   "title_sidebar": "Contents",
   "toc_cell": true,
   "toc_position": {},
   "toc_section_display": true,
   "toc_window_display": true
  },
  "vscode": {
   "interpreter": {
    "hash": "6c86b3592b6800d985c04531f2c445f0fa6967131b8dd6395a925f7622e55602"
   }
  }
 },
 "nbformat": 4,
 "nbformat_minor": 4
}

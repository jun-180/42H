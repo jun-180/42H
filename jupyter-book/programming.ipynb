{
 "cells": [
  {
   "cell_type": "markdown",
   "id": "0676b693-737d-41ce-b2fb-723f5244ebbf",
   "metadata": {},
   "source": [
    "# 컴퓨터 프로그래밍"
   ]
  },
  {
   "cell_type": "markdown",
   "id": "e9da6c41",
   "metadata": {},
   "source": [
    "컴퓨터는 PC, 노트북, 스마트폰 등 다양한 전자기기를 가리키며,\n",
    "일명 OS라고 불리는 다양한 운영체제<font size='2'>operating system</font>에 의해 작동된다.\n",
    "마이크로소프트 윈도우, 구글 안드로이드, 애플 maxOS와 iOS, 다양한 리눅스<font size='2'>Linux</font> 등이\n",
    "가장 많이 활용된다.\n",
    "\n",
    "소위 앱으로 일상에서 불려지는 애플리케이션<font size='2'>application</font>은 \n",
    "운영체제에 의해 설치와 실행이 관리된다.\n",
    "인터넷 브라우저, 한글 편집기, 게임앱, 그리고 프로그램 편집기 등등 수없이 많은 종류의 앱이\n",
    "운영체제에 따라 다르게 제공된다."
   ]
  },
  {
   "cell_type": "markdown",
   "id": "39b8e67f",
   "metadata": {},
   "source": [
    "## 애플리케이션, 소프트웨어, 프로그램, 소스 코드, 코드"
   ]
  },
  {
   "cell_type": "markdown",
   "id": "7c10ede9",
   "metadata": {},
   "source": [
    "다양한 애플리케이션을 통틀어 일반적으로 소프트웨어<font size='2'>software</font>라 불리며,\n",
    "하나의 소프트웨어는 일반적으로 한 개 이상의 프로그램으로 구성된다.\n",
    "\n",
    "프로그램<font size='2'>program</font>은 컴퓨터가 수행해야할 일이 특정 프로그래밍 언어로 명시된 코드다.\n",
    "반면에 프로그래밍<font size=\"2\">programming</font>은 프로그램을 구현하는 과정을 가리키며,\n",
    "일상적으로 코딩<font size=\"2\">coding</font>이라 불린다."
   ]
  },
  {
   "cell_type": "markdown",
   "id": "b9aa52ee",
   "metadata": {},
   "source": [
    "애플리케이션, 소프트웨어, 프로그램, 소스 코드, 코드 등이 특별한 구분 없이 언급되곤 한다. \n",
    "다섯 개념을 엄밀히 구분하는 기준은 없지만 일반적인 용도는 다음과 같다.\n",
    "\n",
    "- 애플리케이션: 스마트폰, PC 등에서 사용하는 앱\n",
    "- 소프트웨어: 애플리케이션을 통틀어 가리키는 표현\n",
    "- 프로그램: 특정 과제를 수행하는 코드\n",
    "- 소스 코드: 특정 프로그래밍 언어로 작성된 프로그램\n",
    "- 코드: 소스 코드의 일부 또는 전체"
   ]
  },
  {
   "cell_type": "markdown",
   "id": "944d8f41",
   "metadata": {},
   "source": [
    "## 파이썬 프로그래밍 언어"
   ]
  },
  {
   "cell_type": "markdown",
   "id": "04191a57-f950-4b26-927d-1f8103df89b8",
   "metadata": {},
   "source": [
    "**프로그래밍 언어**<font size=\"2\">programming language</font>는 \n",
    "컴퓨터 프로그램을 구현할 때 사용하는, 컴퓨가 이해할 수 있는 언어다.\n",
    "파이썬, C, C++, C#, 자바<font size=\"2\">Java</font>, \n",
    "자바스크립트<font size=\"2\">Javascript</font>  등이 현재 가장 많이 활용되는 프로그래밍 언어다."
   ]
  },
  {
   "cell_type": "markdown",
   "id": "6c7677a2",
   "metadata": {},
   "source": [
    "파이썬<font size=\"1\">Python</font>은 1991년 귀도 반 로섬<font size=\"1\">Guido van Rossum</font>에 의해 소개되었다.\n",
    "파이썬은 웹 애플리케이션 등의 소프트웨어 개발, 데이터 과학과 머신러닝 분야에서\n",
    "널리 사용된다.\n",
    "파이썬은 배우기 쉬우며 다양한 분야에서 유용하게 활용되는 라이브러리를 제공한다.\n",
    "\n",
    "프로그래밍 언어의 라이브러리는 필요에 따라 언제든지 활용할 수 있는 코드들의 모음집이다. \n",
    "파이썬이 제공하는 강력한 라이브러리는 더 적은 코드로 더 좋은 프로그램을\n",
    "효율적으로 구현할 수 있도록 도와준다."
   ]
  },
  {
   "cell_type": "markdown",
   "id": "ba6ffc9a",
   "metadata": {},
   "source": [
    "파이썬은 영어 문장과 상당히 유사하며, 간결한 문법을 사용한다.\n",
    "예를 들어, 아래 파이썬 코드는 secret으로 지정된 13과 guess로 지정된 17이 동일한 값이면\n",
    "`'맞았습니다'`를, 아니면 `'틀렸습니다'`를 화면에 출력하는 프로그램이다."
   ]
  },
  {
   "cell_type": "markdown",
   "id": "46780fbc",
   "metadata": {},
   "source": [
    "```python\n",
    "secret = 13\n",
    "guess = 17\n",
    "\n",
    "if guess == secret:\n",
    "    print(\"맞았습니다!\")\n",
    "else:\n",
    "    print(\"틀렸습니다!\")\n",
    "```"
   ]
  },
  {
   "cell_type": "markdown",
   "id": "d13c943b-5bd0-43c5-ad57-087c130474a2",
   "metadata": {},
   "source": [
    "개발자들에게 파이썬의 인기는 날이 갈수록 높아지고 있다. \n",
    "프로그래밍 언어들의 인기도를 측정하는\n",
    "[TIOBE 인덱스](https://www.tiobe.com/tiobe-index)에 \n",
    "따르면, 2025년 2월 기준 가장 인기있는 프로그래밍 언어는 파이썬이다."
   ]
  },
  {
   "cell_type": "markdown",
   "id": "93f38a89",
   "metadata": {},
   "source": [
    "<div align=\"center\"><img src=\"https://raw.githubusercontent.com/codingalzi/42H/master/jupyter-book/images/tiobe-index.jpg\" style=\"width:750px\"></div>"
   ]
  }
 ],
 "metadata": {
  "kernelspec": {
   "display_name": "Python 3 (ipykernel)",
   "language": "python",
   "name": "python3"
  },
  "language_info": {
   "codemirror_mode": {
    "name": "ipython",
    "version": 3
   },
   "file_extension": ".py",
   "mimetype": "text/x-python",
   "name": "python",
   "nbconvert_exporter": "python",
   "pygments_lexer": "ipython3",
   "version": "3.12.2"
  },
  "vscode": {
   "interpreter": {
    "hash": "4f1c27f6da107cbb19cc7f388eb21cff313e366dc533bc97937a0f5f8534034c"
   }
  }
 },
 "nbformat": 4,
 "nbformat_minor": 5
}

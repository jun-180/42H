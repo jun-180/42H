{
 "cells": [
  {
   "cell_type": "markdown",
   "id": "2d03d247-e2d3-4afe-ab5e-83dc989ed62d",
   "metadata": {},
   "source": [
    "# (연습) 표현식과 자료형"
   ]
  },
  {
   "cell_type": "markdown",
   "id": "01c8fab8",
   "metadata": {},
   "source": [
    "**주의 사항**\n",
    "\n",
    "* 기존에 작성된 코드셀/텍스트셀은 수정하지 않는다.\n",
    "* 필요한 경우 코드셀 또는 텍스트셀을 추가할 수 있다.\n",
    "* 실습 파일을 구글 드라이브에서 링크로 누구가 공유할 수 있도록 설정하세요."
   ]
  },
  {
   "cell_type": "markdown",
   "id": "e0c7687e",
   "metadata": {},
   "source": [
    "**문제 ?**"
   ]
  },
  {
   "cell_type": "markdown",
   "id": "1e5dea92",
   "metadata": {
    "id": "PRQLSWmi0sAF"
   },
   "source": [
    "`dogs`와 `cats` 두 변수를 다음과 같이 선언한다."
   ]
  },
  {
   "cell_type": "code",
   "execution_count": null,
   "id": "d6ada898",
   "metadata": {
    "id": "PRQLSWmi0sAF"
   },
   "outputs": [],
   "source": [
    "dogs = '12'\n",
    "cats = '7'"
   ]
  },
  {
   "cell_type": "markdown",
   "id": "cca224e8",
   "metadata": {
    "id": "PRQLSWmi0sAF"
   },
   "source": [
    "강아지가 고양이보다 몇 마리 더 많은지를 아래 형식으로 \n",
    "출력하는 코드를 작성하라.\n",
    "\n",
    "> 강아지가 고양이보다 5 마리 더 많다."
   ]
  },
  {
   "cell_type": "markdown",
   "id": "4662040b",
   "metadata": {
    "id": "PRQLSWmi0sAF"
   },
   "source": [
    "힌트: `int()` 함수를 이용한다. \n",
    "`int()` 함수는 정수 모양의 문자열을 실제 정수로 변환한다.\n",
    "\n",
    "```python\n",
    ">>> int('12')\n",
    "12\n",
    "```"
   ]
  },
  {
   "cell_type": "code",
   "execution_count": null,
   "id": "a3bf14c1",
   "metadata": {},
   "outputs": [],
   "source": [
    "# 코드를 작성한다.\n",
    "# 필요하면 코드셀 또는 텍스트셀을 추가할 수 있습니다.\n",
    "\n"
   ]
  },
  {
   "cell_type": "markdown",
   "id": "86efd4a6",
   "metadata": {},
   "source": [
    "**문제 ?**"
   ]
  },
  {
   "cell_type": "markdown",
   "id": "3e593c35",
   "metadata": {},
   "source": [
    "두 개의 부동소수점`x`와 `y`를 입력받아 두 수의 \n",
    "조화 평균을 아래 형식으로 출력하는 코드를 작성하라.\n",
    "\n",
    "    2.4 와 5.7 의 조화평균: 3.38\n",
    "\n",
    "단, `x`와 `y`의 조화평균은 다음과 같이 계산하며, 소수점 이하 셋째 자리에서 반올림한다.\n",
    "\n",
    "    2 / (1/x + 1/y)\n",
    "\n",
    "힌트: `float()` 함수와 `round()` 함수 활용"
   ]
  },
  {
   "cell_type": "code",
   "execution_count": null,
   "id": "a8281433",
   "metadata": {},
   "outputs": [],
   "source": [
    "# 코드를 작성한다.\n",
    "# 필요하면 코드셀 또는 텍스트셀을 추가할 수 있습니다.\n",
    "\n"
   ]
  },
  {
   "cell_type": "markdown",
   "id": "31c008b0",
   "metadata": {},
   "source": [
    "**문제 ?**"
   ]
  },
  {
   "cell_type": "markdown",
   "id": "2e5b028a",
   "metadata": {},
   "source": [
    "입력받은 두 유한소수의 나눗셈을 아래 지정된 형식으로 출력하는 코드를 작성하라.\n",
    "입력된 두 개의 유한소수는 각각 변수 `a`와 `b`에 저장한다.\n",
    "예를 들어 3.3과 5.8이 입력되면 아래처럼 화면에 출력한다.\n",
    "또한 계산 결과는 소수점 이하 셋째 자리에서 반올림한다.\n",
    "\n",
    "    3.3 / 5.8 = 0.57"
   ]
  },
  {
   "cell_type": "code",
   "execution_count": null,
   "id": "15b3ecba",
   "metadata": {},
   "outputs": [],
   "source": [
    "# 코드를 작성한다.\n",
    "# 필요하면 코드셀 또는 텍스트셀을 추가할 수 있습니다.\n",
    "\n"
   ]
  },
  {
   "cell_type": "markdown",
   "id": "b317148e",
   "metadata": {},
   "source": [
    "**문제 ?**"
   ]
  },
  {
   "cell_type": "markdown",
   "id": "10bb734b",
   "metadata": {},
   "source": [
    "사용자로부터 입력받은 후 입력된 정수에 대한 3의 배수 여부를 판정하는 코드를 작성하라.\n",
    "단, 3의 배수인 경우와 아닌 경우 각각 다르게 아래 형식으로 출력되도록 한다.\n",
    "\n",
    "    24 은(는) 3의 배수다.\n",
    "    \n",
    "또는\n",
    "\n",
    "    25 은(는) 3으로 나누면 나머지가 1 이다.\n",
    "\n",
    "\n",
    "힌트: `input()` 함수, `int()` 함수, 몫과 나머지 연산자 활용. `if ... else ...` 조건문 사용."
   ]
  },
  {
   "cell_type": "code",
   "execution_count": null,
   "id": "cd3dc1a6",
   "metadata": {},
   "outputs": [],
   "source": [
    "# 코드를 작성한다.\n",
    "# 필요하면 코드셀 또는 텍스트셀을 추가할 수 있습니다.\n",
    "\n"
   ]
  },
  {
   "cell_type": "markdown",
   "id": "079c519d",
   "metadata": {},
   "source": [
    "**문제 ?**"
   ]
  },
  {
   "cell_type": "markdown",
   "id": "f4a72767",
   "metadata": {},
   "source": [
    "대기실에 `N`개의 의자가 일렬로 놓여 있다.\n",
    "어느 두 사람도 이웃하여 앉지 않을 때, 앉을 수 있는 최대 인원수와\n",
    "최소 인원수를 출력하는 코드를 구하라.\n",
    "입력은 100이하의 자연수이고, 최대와 최소는 공백으로 구분하여 출력한다.\n",
    "단, 자리를 채운 후에는 더 이상 어느 누구도 자리에 앉을 수 없어야 한다.\n",
    "예를 들어 의자가 8개인 경우 아래 방식으로 앉는 것은 허용되지 않는다.\n",
    "아래 표에서 `O`은 채워진 자리를, `X`는 빈자리를 가리킨다.\n",
    "\n",
    "| 불가능 방식 | 이유 |\n",
    "| :---: | :--- |\n",
    "| `XXOXOXOX` | 왼쪽 끝에 한 명 더 앉을 수 있음 |\n",
    "| `XOXXOXXX` | 오른쪽 끝에 한 명 더 앉을 수 있음|\n",
    "\n",
    "의자가 8 개일 때 의자에 앉을 수 있는 최소 인원과 최대 인원은 다음과 같다.\n",
    "\n",
    "| 인원 | 앉는 방식 |\n",
    "| :---: | :---: |\n",
    "| 최소 3명 | `XOXXOXXO` |\n",
    "| 최대 4명 | `OXOXOXOX` |\n",
    "\n",
    "힌트: 2배수와 3배수 여부에 따른 `if ... else ...` 조건문 활용"
   ]
  },
  {
   "cell_type": "code",
   "execution_count": null,
   "id": "3da52d56",
   "metadata": {},
   "outputs": [],
   "source": [
    "# 코드를 작성한다.\n",
    "# 필요하면 코드셀 또는 텍스트셀을 추가할 수 있습니다.\n",
    "\n"
   ]
  },
  {
   "cell_type": "markdown",
   "id": "4d266d2c",
   "metadata": {},
   "source": [
    "**문제 ?**"
   ]
  },
  {
   "cell_type": "markdown",
   "id": "f6ca35d3",
   "metadata": {},
   "source": [
    "다음 모양을 출력하는 코드를 작성하라.\n",
    "두 개의 별 기호 사이에 공백(space)가 사용됨에 주의한다.\n",
    "공백도 하나의 기호로 취급된다.\n",
    "단, `print()` 함수와 `while` 반복문은 한 번씩만 활용한다.\n",
    "\n",
    "```\n",
    "        * \n",
    "      * * \n",
    "    * * * \n",
    "  * * * * \n",
    "* * * * * \n",
    "  * * * * \n",
    "    * * * \n",
    "      * * \n",
    "        * \n",
    "```"
   ]
  },
  {
   "cell_type": "code",
   "execution_count": null,
   "id": "73e73c91",
   "metadata": {},
   "outputs": [],
   "source": [
    "# 코드를 작성한다.\n",
    "# 필요하면 코드셀 또는 텍스트셀을 추가할 수 있습니다.\n",
    "\n"
   ]
  },
  {
   "cell_type": "markdown",
   "id": "407ec64b",
   "metadata": {},
   "source": [
    "**문제 ?**"
   ]
  },
  {
   "cell_type": "markdown",
   "id": "819eb1d9",
   "metadata": {},
   "source": [
    "위 문제를 `for` 반복문을 한 번만 활용하여 해결하라.\n",
    "단, `print()` 함수와 `for` 반복문은 한 번씩만 활용한다.\n",
    "\n",
    "```\n",
    "        * \n",
    "      * * \n",
    "    * * * \n",
    "  * * * * \n",
    "* * * * * \n",
    "  * * * * \n",
    "    * * * \n",
    "      * * \n",
    "        * \n",
    "```\n",
    "\n",
    "힌트: `range()` 함수 활용"
   ]
  },
  {
   "cell_type": "code",
   "execution_count": null,
   "id": "f0c3ddbd",
   "metadata": {},
   "outputs": [],
   "source": [
    "# 코드를 작성한다.\n",
    "# 필요하면 코드셀 또는 텍스트셀을 추가할 수 있습니다.\n",
    "\n"
   ]
  }
 ],
 "metadata": {
  "kernelspec": {
   "display_name": "Python 3 (ipykernel)",
   "language": "python",
   "name": "python3"
  },
  "language_info": {
   "codemirror_mode": {
    "name": "ipython",
    "version": 3
   },
   "file_extension": ".py",
   "mimetype": "text/x-python",
   "name": "python",
   "nbconvert_exporter": "python",
   "pygments_lexer": "ipython3",
   "version": "3.12.2"
  },
  "toc-autonumbering": true,
  "toc-showcode": false,
  "toc-showmarkdowntxt": false
 },
 "nbformat": 4,
 "nbformat_minor": 5
}

{
 "cells": [
  {
   "cell_type": "markdown",
   "id": "2d03d247-e2d3-4afe-ab5e-83dc989ed62d",
   "metadata": {},
   "source": [
    "# (연습) 값과 변수"
   ]
  },
  {
   "cell_type": "markdown",
   "id": "01c8fab8",
   "metadata": {},
   "source": [
    "**주의 사항**\n",
    "\n",
    "* 기존에 작성된 코드셀/텍스트셀은 수정하지 않는다.\n",
    "* 필요한 경우 코드셀 또는 텍스트셀을 추가할 수 있다.\n",
    "* 실습 파일을 구글 드라이브에서 링크로 누구가 공유할 수 있도록 설정하세요."
   ]
  },
  {
   "cell_type": "markdown",
   "id": "1b401006",
   "metadata": {},
   "source": [
    "**문제 1**"
   ]
  },
  {
   "cell_type": "markdown",
   "id": "2440da24",
   "metadata": {},
   "source": [
    "아래 코드를 실행했을 때 리스트 `[]`의 의미를 설명하라."
   ]
  },
  {
   "cell_type": "code",
   "execution_count": 1,
   "id": "78c6826a",
   "metadata": {},
   "outputs": [
    {
     "name": "stdout",
     "output_type": "stream",
     "text": [
      "거짓인 경우라서 실행됨!\n"
     ]
    }
   ],
   "source": [
    "if []:\n",
    "    print(\"참인 경우라서 실행됨!\")\n",
    "else:\n",
    "    print(\"거짓인 경우라서 실행됨!\")"
   ]
  },
  {
   "cell_type": "markdown",
   "id": "9c6849f8",
   "metadata": {},
   "source": [
    "답"
   ]
  },
  {
   "cell_type": "markdown",
   "id": "d6a0654c",
   "metadata": {},
   "source": [
    "빈 리스트는 부울값으로 처리되어야 할 때 `False`로 간주된다."
   ]
  },
  {
   "cell_type": "markdown",
   "id": "02ad3c50",
   "metadata": {},
   "source": [
    "**문제 2**"
   ]
  },
  {
   "cell_type": "markdown",
   "id": "d5f3550f",
   "metadata": {},
   "source": [
    "다음 두 수식이 동일한 값으로 계산되는 이유를 연산자 우선순위 개념을 이용하여 설명하라."
   ]
  },
  {
   "cell_type": "code",
   "execution_count": 2,
   "id": "b434cbb3",
   "metadata": {},
   "outputs": [
    {
     "data": {
      "text/plain": [
       "1.6"
      ]
     },
     "execution_count": 2,
     "metadata": {},
     "output_type": "execute_result"
    }
   ],
   "source": [
    "2**3 / (2 + 3)"
   ]
  },
  {
   "cell_type": "code",
   "execution_count": 3,
   "id": "d899ee9b",
   "metadata": {},
   "outputs": [
    {
     "data": {
      "text/plain": [
       "1.6"
      ]
     },
     "execution_count": 3,
     "metadata": {},
     "output_type": "execute_result"
    }
   ],
   "source": [
    "(2**3) / (2 + 3)"
   ]
  },
  {
   "cell_type": "markdown",
   "id": "3b5e98f0",
   "metadata": {},
   "source": [
    "답"
   ]
  },
  {
   "cell_type": "markdown",
   "id": "70e7aede",
   "metadata": {},
   "source": [
    "거듭제곱 연산자 `**` 우선순위가 나눗셈보다 높기 때문이다."
   ]
  },
  {
   "cell_type": "markdown",
   "id": "6c802246",
   "metadata": {},
   "source": [
    "**문제 3**"
   ]
  },
  {
   "cell_type": "markdown",
   "id": "15df48e2",
   "metadata": {
    "id": "oMsxIe_500xd"
   },
   "source": [
    "(1) 아래 내용의 논리식을 할당받는 변수 `p1`을 선언한 후에 `p1`에 할당된 진리값을 확인하라.\n",
    "\n",
    "> 5가 7보다 크거나 같은지 여부 판단"
   ]
  },
  {
   "cell_type": "markdown",
   "id": "a2869b87",
   "metadata": {},
   "source": [
    "답"
   ]
  },
  {
   "cell_type": "code",
   "execution_count": 4,
   "id": "f37e3992",
   "metadata": {},
   "outputs": [
    {
     "data": {
      "text/plain": [
       "False"
      ]
     },
     "execution_count": 4,
     "metadata": {},
     "output_type": "execute_result"
    }
   ],
   "source": [
    "p1 = 5 >= 7\n",
    "p1"
   ]
  },
  {
   "cell_type": "markdown",
   "id": "4402a6a7",
   "metadata": {
    "id": "oMsxIe_500xd"
   },
   "source": [
    "(2) 아래 내용의 논리식을 할당받는 변수 `p2`를 선언한 후에 `p2`에 할당된 진리값을 확인하라.\n",
    "\n",
    "> \"Hello\"가 \"hello\" 보다 작은지 여부 판단\n",
    "\n",
    "참고: 두 문자열 사이의 크기비교가 가능하다. 알파벳 순서로 하며 대문자가 소문자보다 작다고 판단된다."
   ]
  },
  {
   "cell_type": "markdown",
   "id": "4e631990",
   "metadata": {},
   "source": [
    "답"
   ]
  },
  {
   "cell_type": "code",
   "execution_count": 5,
   "id": "51f261a7",
   "metadata": {},
   "outputs": [
    {
     "data": {
      "text/plain": [
       "True"
      ]
     },
     "execution_count": 5,
     "metadata": {},
     "output_type": "execute_result"
    }
   ],
   "source": [
    "p2 = \"Hello\" < \"hello\"\n",
    "p2"
   ]
  },
  {
   "cell_type": "markdown",
   "id": "19c4dda5",
   "metadata": {},
   "source": [
    "**문제 4**"
   ]
  },
  {
   "cell_type": "markdown",
   "id": "903c6051",
   "metadata": {
    "id": "jLCnfgsk06WQ"
   },
   "source": [
    "변수 `x`에 정수 17을 할당했을 때 \n",
    "변수 `x`가 가리키는 값이 짝수면 0을,\n",
    "홀수면 1을 출력하는 코드를 `if ... else ...` 조건문을 이용하여 작성하라."
   ]
  },
  {
   "cell_type": "markdown",
   "id": "a1e456de",
   "metadata": {},
   "source": [
    "답"
   ]
  },
  {
   "cell_type": "code",
   "execution_count": 6,
   "id": "c428ca3b",
   "metadata": {},
   "outputs": [
    {
     "name": "stdout",
     "output_type": "stream",
     "text": [
      "1\n"
     ]
    }
   ],
   "source": [
    "x = 17\n",
    "\n",
    "if x % 2 == 0:\n",
    "    print(0)\n",
    "else:\n",
    "    print(1)"
   ]
  },
  {
   "cell_type": "markdown",
   "id": "7a6cc55a",
   "metadata": {
    "id": "SjFpmZ5r0_zh"
   },
   "source": [
    "**문제 5**"
   ]
  },
  {
   "cell_type": "markdown",
   "id": "2b27714d",
   "metadata": {},
   "source": [
    "변수 `greetings`는 아래 문자열을 가리킨다."
   ]
  },
  {
   "cell_type": "code",
   "execution_count": 7,
   "id": "fa154e13",
   "metadata": {},
   "outputs": [],
   "source": [
    "greetings = '파이썬, 안녕!'"
   ]
  },
  {
   "cell_type": "markdown",
   "id": "9066bf3e",
   "metadata": {},
   "source": [
    "변수 `char`가 가리키는 문자열이 `greetings`가 가리키는 문자열에  포함되어 있는 경우에는\n",
    "'파이썬 너무 좋아!!!' 문장을 출력하고,\n",
    "아니면 '파이썬을 부탁해^^' 라는 문장을 출력하는 코드를 작성한다."
   ]
  },
  {
   "cell_type": "markdown",
   "id": "be9e33e2",
   "metadata": {},
   "source": [
    "답"
   ]
  },
  {
   "cell_type": "markdown",
   "id": "af71b045",
   "metadata": {},
   "source": [
    "`if ... else ...` 명령문을 이용한다.\n",
    "이때 `if` 다음에 오는 진리값을 표현하는 식으로 문자열을 대상으로 하는 `in` 연산자를 이용한다."
   ]
  },
  {
   "cell_type": "markdown",
   "id": "8909a097",
   "metadata": {},
   "source": [
    "- 예제: 느낌표 하나를 대상으로 확인"
   ]
  },
  {
   "cell_type": "code",
   "execution_count": 8,
   "id": "17259df0",
   "metadata": {},
   "outputs": [
    {
     "name": "stdout",
     "output_type": "stream",
     "text": [
      "파이썬 너무 좋아!!!\n"
     ]
    }
   ],
   "source": [
    "char = '!'\n",
    "\n",
    "if char in greetings:\n",
    "    print('파이썬 너무 좋아!!!')\n",
    "else:\n",
    "    print(\"파이썬을 부탁해^^\")"
   ]
  },
  {
   "cell_type": "markdown",
   "id": "9f84cf53",
   "metadata": {},
   "source": [
    "- 예제: 느낌표 두 개를 대상으로 확인"
   ]
  },
  {
   "cell_type": "code",
   "execution_count": 9,
   "id": "644e5f3f",
   "metadata": {},
   "outputs": [
    {
     "name": "stdout",
     "output_type": "stream",
     "text": [
      "파이썬을 부탁해^^\n"
     ]
    }
   ],
   "source": [
    "char = '!!'\n",
    "\n",
    "if char in greetings:\n",
    "    print('파이썬 너무 좋아!!!')\n",
    "else:\n",
    "    print(\"파이썬을 부탁해^^\")"
   ]
  },
  {
   "cell_type": "markdown",
   "id": "3012281a",
   "metadata": {
    "id": "SjFpmZ5r0_zh"
   },
   "source": [
    "**문제 6**"
   ]
  },
  {
   "cell_type": "markdown",
   "id": "1ca39f18",
   "metadata": {
    "id": "7b1ec1be"
   },
   "source": [
    "변수 `num_list`가 다음과 같이 선언된다."
   ]
  },
  {
   "cell_type": "code",
   "execution_count": 10,
   "id": "7f3b877a",
   "metadata": {
    "executionInfo": {
     "elapsed": 10,
     "status": "ok",
     "timestamp": 1714608538561,
     "user": {
      "displayName": "liga nega",
      "userId": "04505461106310941438"
     },
     "user_tz": -540
    },
    "id": "e3cdd991"
   },
   "outputs": [],
   "source": [
    "num_list = [3, 6, 9, 12, 15, 18, 21]"
   ]
  },
  {
   "cell_type": "markdown",
   "id": "83ee6ceb",
   "metadata": {
    "id": "08c4ddd2"
   },
   "source": [
    "(1) 리스트에 포함된 `9`를 확인하는 인덱싱을 표현하는 수식을 정의하라."
   ]
  },
  {
   "cell_type": "markdown",
   "id": "ee497ded",
   "metadata": {
    "id": "KdwkfYHBnwNa"
   },
   "source": [
    "**답**"
   ]
  },
  {
   "cell_type": "code",
   "execution_count": 11,
   "id": "1a188e35",
   "metadata": {
    "colab": {
     "base_uri": "https://localhost:8080/"
    },
    "executionInfo": {
     "elapsed": 5,
     "status": "ok",
     "timestamp": 1714608624722,
     "user": {
      "displayName": "liga nega",
      "userId": "04505461106310941438"
     },
     "user_tz": -540
    },
    "id": "219b9ae3",
    "outputId": "7dddffb2-2c1b-4493-e982-558b79595d14"
   },
   "outputs": [
    {
     "data": {
      "text/plain": [
       "9"
      ]
     },
     "execution_count": 11,
     "metadata": {},
     "output_type": "execute_result"
    }
   ],
   "source": [
    "num_list[2]"
   ]
  },
  {
   "cell_type": "markdown",
   "id": "abb86c6b",
   "metadata": {
    "id": "08c4ddd2"
   },
   "source": [
    "(2) 리스트에 포함된 `18`을 확인하는 인덱싱을 표현하는 수식을 정의하라."
   ]
  },
  {
   "cell_type": "markdown",
   "id": "6ba7a3e0",
   "metadata": {
    "id": "it6lLm3tnwNd"
   },
   "source": [
    "**답**"
   ]
  },
  {
   "cell_type": "code",
   "execution_count": 12,
   "id": "2be777a4",
   "metadata": {
    "colab": {
     "base_uri": "https://localhost:8080/"
    },
    "executionInfo": {
     "elapsed": 7,
     "status": "ok",
     "timestamp": 1714608672454,
     "user": {
      "displayName": "liga nega",
      "userId": "04505461106310941438"
     },
     "user_tz": -540
    },
    "id": "40efea4e",
    "outputId": "d7c83b8a-8991-423a-ad77-9c2cbd0121de"
   },
   "outputs": [
    {
     "data": {
      "text/plain": [
       "18"
      ]
     },
     "execution_count": 12,
     "metadata": {},
     "output_type": "execute_result"
    }
   ],
   "source": [
    "num_list[-2]"
   ]
  },
  {
   "cell_type": "markdown",
   "id": "ec8b925e",
   "metadata": {},
   "source": [
    "**문제 7**"
   ]
  },
  {
   "cell_type": "markdown",
   "id": "600cf797",
   "metadata": {
    "id": "DxP4L1g30ZpC"
   },
   "source": [
    "100만원을 복리로 연이자 5%인 예금에 3년간 은행에 맡겼을 때\n",
    "3년 후에 수령할 금액을 계산하는 코드를 다양한 변수를 활용하여 구현하라.\n",
    "단, 다음 형식으로 출력한다.\n",
    "\n",
    "> 3년 후 받을 원금 + 이자는 OOO 원입니다."
   ]
  },
  {
   "cell_type": "markdown",
   "id": "4f9249c9",
   "metadata": {},
   "source": [
    "복리계산은 아래 식을 따른다."
   ]
  },
  {
   "cell_type": "markdown",
   "id": "4f83d992",
   "metadata": {},
   "source": [
    "> 원리합계 ＝ 원금 * (1 ＋ 연금리/일년에 이자받는횟수) ** (일년에 이자받는횟수 * 기간)"
   ]
  },
  {
   "cell_type": "markdown",
   "id": "4968e838",
   "metadata": {},
   "source": [
    "복리 개념과 계산법에 대해서는 아래 링크를 참고한다.\n",
    "\n",
    "- [복리 개념과 계산법](https://a2-finance.com/ko/calculators/%EB%AA%A8%EB%93%A0-%EA%B3%84%EC%82%B0%EA%B8%B0/%EB%B3%B5%EB%A6%AC-%EA%B3%84%EC%82%B0%EA%B8%B0)"
   ]
  },
  {
   "cell_type": "markdown",
   "id": "8dc9a4f5",
   "metadata": {},
   "source": [
    "아래 변수를 활용한다.\n",
    "\n",
    "- principal = 원금\n",
    "- rate = 연이자율\n",
    "- period = 저축기간(년)\n",
    "- savings = 원리합계"
   ]
  },
  {
   "cell_type": "markdown",
   "id": "07729e1e",
   "metadata": {},
   "source": [
    "답"
   ]
  },
  {
   "cell_type": "code",
   "execution_count": 13,
   "id": "9532d905",
   "metadata": {},
   "outputs": [
    {
     "name": "stdout",
     "output_type": "stream",
     "text": [
      "3년 후 받을 원금 + 이자는 1157625.0000000002 원입니다.\n"
     ]
    }
   ],
   "source": [
    "principal = 1000000\n",
    "rate = 0.05\n",
    "period = 3\n",
    "savings = principal * (1 + 0.05/1) ** (1 * 3)\n",
    "\n",
    "print(\"3년 후 받을 원금 + 이자는\", savings, \"원입니다.\")"
   ]
  }
 ],
 "metadata": {
  "kernelspec": {
   "display_name": "Python 3 (ipykernel)",
   "language": "python",
   "name": "python3"
  },
  "language_info": {
   "codemirror_mode": {
    "name": "ipython",
    "version": 3
   },
   "file_extension": ".py",
   "mimetype": "text/x-python",
   "name": "python",
   "nbconvert_exporter": "python",
   "pygments_lexer": "ipython3",
   "version": "3.12.2"
  },
  "toc-autonumbering": true,
  "toc-showcode": false,
  "toc-showmarkdowntxt": false
 },
 "nbformat": 4,
 "nbformat_minor": 5
}

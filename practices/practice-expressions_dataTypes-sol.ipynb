{
 "cells": [
  {
   "cell_type": "markdown",
   "id": "2d03d247-e2d3-4afe-ab5e-83dc989ed62d",
   "metadata": {},
   "source": [
    "# (연습) 표현식과 자료형"
   ]
  },
  {
   "cell_type": "markdown",
   "id": "d535dddc",
   "metadata": {},
   "source": [
    "**주의 사항**\n",
    "\n",
    "* 기존에 작성된 코드셀/텍스트셀은 수정하지 않는다.\n",
    "* 필요한 경우 코드셀 또는 텍스트셀을 추가할 수 있다.\n",
    "* 실습 파일을 구글 드라이브에서 링크로 누구가 공유할 수 있도록 설정하세요."
   ]
  },
  {
   "cell_type": "markdown",
   "id": "542ac02e",
   "metadata": {
    "id": "PRQLSWmi0sAF"
   },
   "source": [
    "**문제 1**"
   ]
  },
  {
   "cell_type": "markdown",
   "id": "756a7bd3",
   "metadata": {
    "id": "PRQLSWmi0sAF"
   },
   "source": [
    "`dogs`와 `cats` 두 변수를 다음과 같이 선언한다."
   ]
  },
  {
   "cell_type": "code",
   "execution_count": 2,
   "id": "fd85c92c",
   "metadata": {
    "id": "PRQLSWmi0sAF"
   },
   "outputs": [],
   "source": [
    "dogs = '12'\n",
    "cats = '7'"
   ]
  },
  {
   "cell_type": "markdown",
   "id": "242d8e23",
   "metadata": {
    "id": "PRQLSWmi0sAF"
   },
   "source": [
    "강아지가 고양이보다 몇 마리 더 많은지를 아래 형식으로 \n",
    "출력하는 코드를 작성하라.\n",
    "\n",
    "```python\n",
    "강아지가 고양이보다 5 마리 더 많다.\n",
    "```"
   ]
  },
  {
   "cell_type": "markdown",
   "id": "c4bd45cd",
   "metadata": {
    "id": "PRQLSWmi0sAF"
   },
   "source": [
    "힌트: `int()` 함수 활용"
   ]
  },
  {
   "cell_type": "markdown",
   "id": "9a471be2",
   "metadata": {},
   "source": [
    "답:"
   ]
  },
  {
   "cell_type": "code",
   "execution_count": 3,
   "id": "f9ad4022",
   "metadata": {},
   "outputs": [
    {
     "name": "stdout",
     "output_type": "stream",
     "text": [
      "강아지가 고양이보다 5 마리 더 많다.\n"
     ]
    }
   ],
   "source": [
    "n = int(dogs) - int(cats)\n",
    "print(\"강아지가 고양이보다\", n, \"마리 더 많다.\")"
   ]
  },
  {
   "cell_type": "markdown",
   "id": "11f4f7d8",
   "metadata": {
    "id": "PRQLSWmi0sAF"
   },
   "source": [
    "**문제 2**"
   ]
  },
  {
   "cell_type": "markdown",
   "id": "880d1137",
   "metadata": {},
   "source": [
    "두 변수가 다음과 같이 선언된다."
   ]
  },
  {
   "cell_type": "code",
   "execution_count": 4,
   "id": "08c0b47b",
   "metadata": {},
   "outputs": [],
   "source": [
    "x = 2.4\n",
    "y = 5.7"
   ]
  },
  {
   "cell_type": "markdown",
   "id": "efab27ec",
   "metadata": {},
   "source": [
    "두 변수가 가리키는 값의 조화 평균을 계산하는 표현식을 정의한 다음에 변수 z에 할당한다.\n",
    "또한 z가 가리키는 값과 자료형을 화면에 다음과 같이 출력한다.\n",
    "\n",
    "    2.4 와 5.7 의 조화평균: 3.38\n",
    "\n",
    "단, `x`와 `y`의 조화평균은 다음과 같이 계산하며, 소수점 이하 셋째 자리에서 반올림한다.\n",
    "\n",
    "    2 / (1/x + 1/y)\n",
    "\n",
    "힌트: `round()` 함수 활용"
   ]
  },
  {
   "cell_type": "markdown",
   "id": "c3a77923",
   "metadata": {},
   "source": [
    "답:"
   ]
  },
  {
   "cell_type": "code",
   "execution_count": 6,
   "id": "59487f7d",
   "metadata": {},
   "outputs": [
    {
     "name": "stdout",
     "output_type": "stream",
     "text": [
      "2.4 와 5.7 의 조화평균: 3.38\n"
     ]
    }
   ],
   "source": [
    "# 조화 평균\n",
    "mean_harmony = 2 / (1/x + 1/y)\n",
    "\n",
    "print(x, \"와\", y, \"의 조화평균:\", round(mean_harmony, 2))"
   ]
  },
  {
   "cell_type": "markdown",
   "id": "fdd24fd8",
   "metadata": {
    "id": "PRQLSWmi0sAF"
   },
   "source": [
    "**문제 3**"
   ]
  },
  {
   "cell_type": "markdown",
   "id": "51a10058",
   "metadata": {},
   "source": [
    "다음과 같이 변수가 선언된다."
   ]
  },
  {
   "cell_type": "code",
   "execution_count": 8,
   "id": "a14ddf3e",
   "metadata": {},
   "outputs": [],
   "source": [
    "multiple3 = 24\n",
    "multiple5 = 25"
   ]
  },
  {
   "cell_type": "markdown",
   "id": "10bb734b",
   "metadata": {},
   "source": [
    "두 변수가 가리키는 값에 따라 아래 형식으로 출력되도록 한다.\n",
    "\n",
    "- 3의 배수인 경우:\n",
    "\n",
    "        24 은(는) 3의 배수다.\n",
    "    \n",
    "- 3의 배수가 아닌경우:\n",
    "\n",
    "        25 은(는) 3으로 나누면 나머지가 1 이다.\n",
    "        \n",
    "단, 변수를 이용하여 3의 배수인지 여부를 확인하는 표현식을 활용한다.\n",
    "\n",
    "힌트: `if ... else ...` 조건문 사용."
   ]
  },
  {
   "cell_type": "markdown",
   "id": "7feb0cc4",
   "metadata": {},
   "source": [
    "답:"
   ]
  },
  {
   "cell_type": "markdown",
   "id": "b5c9324e",
   "metadata": {},
   "source": [
    "3의 배수 여부는 3으로 나눈 나머지에 의존한다.\n",
    "나머지가 0일 때만 3의 배수다.\n",
    "나머지는 나머지 연산자를 이용하여 확인한다."
   ]
  },
  {
   "cell_type": "code",
   "execution_count": 9,
   "id": "e0fb6f09",
   "metadata": {},
   "outputs": [
    {
     "name": "stdout",
     "output_type": "stream",
     "text": [
      "24 은(는) 3의 배수다.\n"
     ]
    }
   ],
   "source": [
    "is_multiple_of_3 = multiple3 % 3 == 0\n",
    "\n",
    "if is_multiple_of_3 % 3:\n",
    "    print(multiple3, \"은(는)\", \"3의 배수다.\")\n",
    "else:\n",
    "    residual = is_multiple_of_3 % 3\n",
    "    print(multiple3, \"은(는)\", \"3으로 나누면 나머지가\", residual, \"이다.\")"
   ]
  },
  {
   "cell_type": "code",
   "execution_count": 11,
   "id": "aec25a58",
   "metadata": {},
   "outputs": [
    {
     "name": "stdout",
     "output_type": "stream",
     "text": [
      "25 은(는) 3으로 나누면 나머지가 0 이다.\n"
     ]
    }
   ],
   "source": [
    "is_multiple_of_3 = multiple5 % 3 == 0\n",
    "\n",
    "if is_multiple_of_3 % 3:\n",
    "    print(multiple5, \"은(는)\", \"3의 배수다.\")\n",
    "else:\n",
    "    residual = is_multiple_of_3 % 3\n",
    "    print(multiple5, \"은(는)\", \"3으로 나누면 나머지가\", residual, \"이다.\")"
   ]
  },
  {
   "cell_type": "markdown",
   "id": "e4805692",
   "metadata": {
    "id": "PRQLSWmi0sAF"
   },
   "source": [
    "**문제 4**"
   ]
  },
  {
   "cell_type": "markdown",
   "id": "f4a72767",
   "metadata": {},
   "source": [
    "대기실에 8개의 의자가 일렬로 놓여 있다.\n",
    "어느 두 사람도 이웃하여 앉지 않을 때, 앉을 수 있는 최대 인원이 앉는 방식과\n",
    "최소 인원이 앉는 방식을 문자열로 출력한다.\n",
    "\n",
    "단, 자리를 채운 후에는 더 이상 어느 누구도 자리에 앉을 수 없어야 한다.\n",
    "예를 들어 아래 방식으로 앉는 것은 허용되지 않는다.\n",
    "아래 표에서 `O`은 채워진 자리를, `X`는 빈자리를 가리킨다.\n",
    "\n",
    "| 불가능 방식 | 이유 |\n",
    "| :---: | :--- |\n",
    "| `XXOXOXOX` | 왼쪽 끝에 한 명 더 앉을 수 있음 |\n",
    "| `XOXXOXXX` | 오른쪽 끝에 한 명 더 앉을 수 있음|"
   ]
  },
  {
   "cell_type": "markdown",
   "id": "179c05a1",
   "metadata": {},
   "source": [
    "답:"
   ]
  },
  {
   "cell_type": "markdown",
   "id": "e28e33ab",
   "metadata": {},
   "source": [
    "8개의 의자가 있을 때 예를 들어 맨 왼쪽 의자에 앉은 다음에 한 자리 건널 때마다 앉으면 최대 인원이 앉게 된다.\n",
    "즉 두 의자당 하나에 앉으면 된다. \n",
    "따라서 최대 인원은 4명이다.\n",
    "\n",
    "```\n",
    "OXOXOXOX\n",
    "```\n",
    "\n",
    "최소 인원을 계산하기 위해 먼저 의자가 3개라고 가정하자. 그러면 아래 방식으로 1명만 앉을 수 있다.\n",
    "\n",
    "```\n",
    "XOX\n",
    "```\n",
    "\n",
    "언급된 `XOX` 방식을 2번 번 반복한 다음 나머지 하나 또는 두 자리 중에 한 자리에 앉는 방법이 최소인원이 된다.\n",
    "\n",
    "```\n",
    "XOXXOXXO\n",
    "```"
   ]
  },
  {
   "cell_type": "markdown",
   "id": "404b7bf5",
   "metadata": {},
   "source": [
    "위 설명에 따르면 최대 인원수가 앉는 방식은 `OX`가 반복되는 것이고,\n",
    "최소 인원수가 앉는 방식은 `XOX`가 반복되는 것이다.\n",
    "따라서 8을 2 또는 3으로 나눌 때의 몫이 중요함을 알 수 있다.\n",
    "이 성질을 이용하여 최대 인원이 앉는 방식과 최소 인원이 앉는 방식을\n",
    "출력하는 코드를 다음과 같이 작성할 수 있다."
   ]
  },
  {
   "cell_type": "code",
   "execution_count": 16,
   "id": "32987798",
   "metadata": {},
   "outputs": [
    {
     "name": "stdout",
     "output_type": "stream",
     "text": [
      "최소 인원 방식: OXOXOXOX\n",
      "최대 인원 방식: XOXXOXXO\n"
     ]
    }
   ],
   "source": [
    "# 최대 인원\n",
    "max_num = 8//2\n",
    "\n",
    "# 최소 인원\n",
    "min_num = (8//3)\n",
    "\n",
    "print(\"최소 인원 방식:\", \"OX\" * max_num)\n",
    "print(\"최대 인원 방식:\", \"XOX\" * min_num + \"XO\")"
   ]
  }
 ],
 "metadata": {
  "kernelspec": {
   "display_name": "Python 3 (ipykernel)",
   "language": "python",
   "name": "python3"
  },
  "language_info": {
   "codemirror_mode": {
    "name": "ipython",
    "version": 3
   },
   "file_extension": ".py",
   "mimetype": "text/x-python",
   "name": "python",
   "nbconvert_exporter": "python",
   "pygments_lexer": "ipython3",
   "version": "3.12.2"
  },
  "toc-autonumbering": true,
  "toc-showcode": false,
  "toc-showmarkdowntxt": false
 },
 "nbformat": 4,
 "nbformat_minor": 5
}

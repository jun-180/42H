{
 "cells": [
  {
   "cell_type": "markdown",
   "metadata": {
    "id": "dj2QOM4rVDRT"
   },
   "source": [
    "# (필수 예제) 리스트와 튜플"
   ]
  },
  {
   "cell_type": "markdown",
   "metadata": {
    "id": "oAWioNm1nwNU"
   },
   "source": [
    "**참고 사항**\n",
    "\n",
    "먼저 [리스트와 튜플](https://codingalzi.github.io/pybook/lists_tuples.html) 내용을 학습하세요."
   ]
  },
  {
   "cell_type": "markdown",
   "metadata": {
    "id": "e8233271"
   },
   "source": [
    "## 예제 1"
   ]
  },
  {
   "cell_type": "markdown",
   "metadata": {
    "id": "7b1ec1be"
   },
   "source": [
    "`num_list` 변수 3중으로 중첩된 리스트를 가리킨다."
   ]
  },
  {
   "cell_type": "code",
   "execution_count": 1,
   "metadata": {
    "executionInfo": {
     "elapsed": 10,
     "status": "ok",
     "timestamp": 1714608538561,
     "user": {
      "displayName": "liga nega",
      "userId": "04505461106310941438"
     },
     "user_tz": -540
    },
    "id": "e3cdd991"
   },
   "outputs": [],
   "source": [
    "num_list = [[1, 2, 3, [4, 5]], [6, 7, 8], 9]"
   ]
  },
  {
   "cell_type": "markdown",
   "metadata": {
    "id": "nqz2-v6nnwNY"
   },
   "source": [
    "**질문 1**"
   ]
  },
  {
   "cell_type": "markdown",
   "metadata": {
    "id": "08c4ddd2"
   },
   "source": [
    "위 리스트에서 `9`를 확인하는 인덱싱 표현식을 정의하라."
   ]
  },
  {
   "cell_type": "markdown",
   "metadata": {
    "id": "KdwkfYHBnwNa"
   },
   "source": [
    "**답**"
   ]
  },
  {
   "cell_type": "code",
   "execution_count": 3,
   "metadata": {
    "colab": {
     "base_uri": "https://localhost:8080/"
    },
    "executionInfo": {
     "elapsed": 5,
     "status": "ok",
     "timestamp": 1714608624722,
     "user": {
      "displayName": "liga nega",
      "userId": "04505461106310941438"
     },
     "user_tz": -540
    },
    "id": "219b9ae3",
    "outputId": "7dddffb2-2c1b-4493-e982-558b79595d14"
   },
   "outputs": [
    {
     "data": {
      "text/plain": [
       "9"
      ]
     },
     "execution_count": 3,
     "metadata": {},
     "output_type": "execute_result"
    }
   ],
   "source": [
    "num_list[-1]"
   ]
  },
  {
   "cell_type": "markdown",
   "metadata": {
    "id": "gJv9yxDJnwNc"
   },
   "source": [
    "**질문 2**"
   ]
  },
  {
   "cell_type": "markdown",
   "metadata": {
    "id": "6ad2f609"
   },
   "source": [
    "위 리스트에서 `7`을 확인하는 인덱싱 표현식을 정의하라."
   ]
  },
  {
   "cell_type": "markdown",
   "metadata": {
    "id": "it6lLm3tnwNd"
   },
   "source": [
    "**답**"
   ]
  },
  {
   "cell_type": "code",
   "execution_count": 4,
   "metadata": {
    "colab": {
     "base_uri": "https://localhost:8080/"
    },
    "executionInfo": {
     "elapsed": 7,
     "status": "ok",
     "timestamp": 1714608672454,
     "user": {
      "displayName": "liga nega",
      "userId": "04505461106310941438"
     },
     "user_tz": -540
    },
    "id": "40efea4e",
    "outputId": "d7c83b8a-8991-423a-ad77-9c2cbd0121de"
   },
   "outputs": [
    {
     "data": {
      "text/plain": [
       "7"
      ]
     },
     "execution_count": 4,
     "metadata": {},
     "output_type": "execute_result"
    }
   ],
   "source": [
    "num_list[1][1]"
   ]
  },
  {
   "cell_type": "markdown",
   "metadata": {
    "id": "PqflsGqYnwNe"
   },
   "source": [
    "**질문 3**"
   ]
  },
  {
   "cell_type": "markdown",
   "metadata": {
    "id": "df7d4671"
   },
   "source": [
    "위 리스트에서 `[3, [4, 5]]`를 확인하는 인덱싱 표현식을 정의하라."
   ]
  },
  {
   "cell_type": "markdown",
   "metadata": {
    "id": "5mZSdF6knwNe"
   },
   "source": [
    "**답**"
   ]
  },
  {
   "cell_type": "code",
   "execution_count": 5,
   "metadata": {
    "colab": {
     "base_uri": "https://localhost:8080/"
    },
    "executionInfo": {
     "elapsed": 416,
     "status": "ok",
     "timestamp": 1714608716516,
     "user": {
      "displayName": "liga nega",
      "userId": "04505461106310941438"
     },
     "user_tz": -540
    },
    "id": "90388f2c",
    "outputId": "b2ecffbc-e58f-478c-d9d6-42bda4c08765"
   },
   "outputs": [
    {
     "data": {
      "text/plain": [
       "[3, [4, 5]]"
      ]
     },
     "execution_count": 5,
     "metadata": {},
     "output_type": "execute_result"
    }
   ],
   "source": [
    "num_list[0][2:4]"
   ]
  },
  {
   "cell_type": "markdown",
   "metadata": {
    "id": "NVzDB9xM7Gwy"
   },
   "source": [
    "## 예제 2"
   ]
  },
  {
   "cell_type": "markdown",
   "metadata": {
    "id": "ibtK3NPTnwNe"
   },
   "source": [
    "리스트에 중복된 항목이 있는지 여부를 판단하는 `has_duplicates()` 함수를 구현하라.\n",
    "단, 리스트의 `in` 연산자와 `append()` 메서드를 이용한다."
   ]
  },
  {
   "cell_type": "markdown",
   "metadata": {
    "id": "5YIH6be9nwNe"
   },
   "source": [
    "**답**"
   ]
  },
  {
   "cell_type": "code",
   "execution_count": 6,
   "metadata": {
    "executionInfo": {
     "elapsed": 297,
     "status": "ok",
     "timestamp": 1714609243358,
     "user": {
      "displayName": "liga nega",
      "userId": "04505461106310941438"
     },
     "user_tz": -540
    },
    "id": "ILnzFDsS7Gwy"
   },
   "outputs": [],
   "source": [
    "def has_duplicates(aList):\n",
    "    a = []\n",
    "    for i in aList:\n",
    "        if i in a:\n",
    "            return True\n",
    "        else:\n",
    "            a.append(i)\n",
    "\n",
    "    return False"
   ]
  },
  {
   "cell_type": "code",
   "execution_count": 7,
   "metadata": {
    "colab": {
     "base_uri": "https://localhost:8080/"
    },
    "executionInfo": {
     "elapsed": 4,
     "status": "ok",
     "timestamp": 1714609243834,
     "user": {
      "displayName": "liga nega",
      "userId": "04505461106310941438"
     },
     "user_tz": -540
    },
    "id": "ju8CmaPNQmBt",
    "outputId": "f9513a69-986b-496f-a433-1a692691f7fb"
   },
   "outputs": [
    {
     "data": {
      "text/plain": [
       "True"
      ]
     },
     "execution_count": 7,
     "metadata": {},
     "output_type": "execute_result"
    }
   ],
   "source": [
    "exc5A = has_duplicates([1, 2, 1, 3]) == True\n",
    "exc5B = has_duplicates(['hello', 'hi', 'hey']) == False\n",
    "exc5C = has_duplicates(['a', [1, 2], 1, 2]) == False\n",
    "exc5D = has_duplicates([True, False, [True, True]]) == False\n",
    "exc5E = has_duplicates([[True, False], True, [True, False]]) == True\n",
    "\n",
    "all([exc5A, exc5B, exc5C, exc5D, exc5E])"
   ]
  },
  {
   "cell_type": "markdown",
   "metadata": {
    "id": "6HxPOS4SqZ2t"
   },
   "source": [
    "## 예제 3"
   ]
  },
  {
   "cell_type": "markdown",
   "metadata": {
    "id": "w7aXz4LhS_23"
   },
   "source": [
    "`sorted()` 함수는 리스트를 파이썬이 정한 값들의 크기를 기준으로 오름차순으로 정렬한 리스트를 반환한다."
   ]
  },
  {
   "cell_type": "code",
   "execution_count": 8,
   "metadata": {
    "colab": {
     "base_uri": "https://localhost:8080/"
    },
    "executionInfo": {
     "elapsed": 566,
     "status": "ok",
     "timestamp": 1714609458223,
     "user": {
      "displayName": "liga nega",
      "userId": "04505461106310941438"
     },
     "user_tz": -540
    },
    "id": "dkk2cqIiqkLh",
    "outputId": "217fabfe-45db-421a-93c9-1331f50ee910"
   },
   "outputs": [
    {
     "data": {
      "text/plain": [
       "[1, 2, 3, 4, 5]"
      ]
     },
     "execution_count": 8,
     "metadata": {},
     "output_type": "execute_result"
    }
   ],
   "source": [
    "num_list = [3, 2, 1, 4, 5]\n",
    "sorted_list = sorted(num_list)\n",
    "sorted_list"
   ]
  },
  {
   "cell_type": "markdown",
   "metadata": {
    "id": "ng7hQMCTq9yh"
   },
   "source": [
    "`rev_sorted_list` 변수가 `num_list`를 크기 기준 오름차순으로 정렬한 리스트를 가리키도록 하라."
   ]
  },
  {
   "cell_type": "markdown",
   "metadata": {
    "id": "p1AvnYHxnwNp"
   },
   "source": [
    "**답**"
   ]
  },
  {
   "cell_type": "markdown",
   "metadata": {
    "id": "rrv1ufkXnwNp"
   },
   "source": [
    "`sorted()` 함수와 `sort()` 리스트 메서드는 모두 `key`와 `reverse` 두 개의 키워드 인자를 사용한다.\n",
    "\n",
    "- `key`: 항목 정렬을 위한 기준. 기본값은 파이썬이 정한 값들의 크기.\n",
    "- `reverse`: 내림차순으로 정렬할지 여부. 기본은 `False`, 즉 오름차순으로 정렬하기."
   ]
  },
  {
   "cell_type": "code",
   "execution_count": 9,
   "metadata": {
    "colab": {
     "base_uri": "https://localhost:8080/"
    },
    "executionInfo": {
     "elapsed": 460,
     "status": "ok",
     "timestamp": 1714609460264,
     "user": {
      "displayName": "liga nega",
      "userId": "04505461106310941438"
     },
     "user_tz": -540
    },
    "id": "mrYqh9_qq5Dp",
    "outputId": "c078b409-9d02-4ab7-b6f1-dca04bf29b7e"
   },
   "outputs": [
    {
     "data": {
      "text/plain": [
       "[5, 4, 3, 2, 1]"
      ]
     },
     "execution_count": 9,
     "metadata": {},
     "output_type": "execute_result"
    }
   ],
   "source": [
    "rev_sorted_list = sorted(num_list, reverse=True)\n",
    "rev_sorted_list"
   ]
  },
  {
   "cell_type": "markdown",
   "metadata": {
    "id": "KXpGI84-nwNp"
   },
   "source": [
    "## 예제 4"
   ]
  },
  {
   "cell_type": "markdown",
   "metadata": {
    "id": "yd9BngHjnwNp"
   },
   "source": [
    "`sorted()` 함수는 리스트를 파이썬이 정한 값들의 크기를 기준으로 오름차순으로 정렬한 리스트를 반환한다.\n",
    "아래 코드는 튜플로 구성된 리스트를 정렬할 때\n",
    "튜플의 첫째 항목인 문자열들을 대상으로 알파벳 순서를 기준으로 정렬한다.\n",
    "이유는 튜플들의 크기 비교는 먼저 첫째 항목을 기준으로 정하고,\n",
    "첫째 항목의 크기가 동일하면 둘째 항목의 크기를 비교하는 방식으로 결정되기 때문이다."
   ]
  },
  {
   "cell_type": "code",
   "execution_count": null,
   "metadata": {
    "colab": {
     "base_uri": "https://localhost:8080/"
    },
    "id": "6dBHPvrAnwNq",
    "outputId": "b3eb2c9d-e0c4-4de3-aa22-d04089a886b9"
   },
   "outputs": [
    {
     "data": {
      "text/plain": [
       "[('four', 4), ('one', 1), ('three', 3), ('two', 2)]"
      ]
     },
     "execution_count": 80,
     "metadata": {},
     "output_type": "execute_result"
    }
   ],
   "source": [
    "my_tuples = [('one', 1), ('three', 3), ('two', 2), ('four', 4)]\n",
    "sorted(my_tuples)"
   ]
  },
  {
   "cell_type": "markdown",
   "metadata": {
    "id": "BIhahHiDnwNq"
   },
   "source": [
    "리스트의 항목을 튜플의 둘째 항목인 정수를 기준으로 정렬하여 아래와 같은\n",
    "리스트를 생성하는 코드를 구현하라.\n",
    "\n",
    "```python\n",
    "[('one', 1), ('two', 2), ('three', 3), ('four', 4)]\n",
    "```"
   ]
  },
  {
   "cell_type": "markdown",
   "metadata": {
    "id": "jbsa4HU1nwNq"
   },
   "source": [
    "**답**"
   ]
  },
  {
   "cell_type": "markdown",
   "metadata": {
    "id": "PrQT9qLdnwNq"
   },
   "source": [
    "`sorted()` 함수는 `key`와 `reverse` 두 개의 키워드 인자를 사용한다.\n",
    "\n",
    "- `key`: 항목 정렬을 위한 기준. 기본값은 파이썬이 정한 값들의 크기.\n",
    "- `reverse`: 내림차순으로 정렬할지 여부. 기본은 `False`, 즉 오름차순으로 정렬하기."
   ]
  },
  {
   "cell_type": "markdown",
   "metadata": {
    "id": "Rh-_tnNdnwNq"
   },
   "source": [
    "아래 코드에서 `num_sorted_list` 변수가 `my_tuples`를\n",
    "튜플의 둘째 항목인 크기 기준 오름차순으로 정렬한 리스트를 가리키도록 한다.\n",
    "튜플의 둘째 항목을 크기 비교에 활용하도록 `key` 매개변수의 인자로 튜플에서 둘째 인자를 선택하는\n",
    "함수가 사용되었음에 주목한다."
   ]
  },
  {
   "cell_type": "code",
   "execution_count": null,
   "metadata": {
    "colab": {
     "base_uri": "https://localhost:8080/"
    },
    "id": "2E1FsZhJnwNr",
    "outputId": "b3eb2c9d-e0c4-4de3-aa22-d04089a886b9"
   },
   "outputs": [
    {
     "data": {
      "text/plain": [
       "[('one', 1), ('two', 2), ('three', 3), ('four', 4)]"
      ]
     },
     "execution_count": 81,
     "metadata": {},
     "output_type": "execute_result"
    }
   ],
   "source": [
    "num_sorted_tuples = sorted(my_tuples, key=lambda x: x[1])\n",
    "num_sorted_tuples"
   ]
  },
  {
   "cell_type": "markdown",
   "metadata": {
    "id": "GN4i__jVVDRz"
   },
   "source": [
    "## 예제 5"
   ]
  },
  {
   "cell_type": "markdown",
   "metadata": {
    "id": "IGaiA9ovVDRz"
   },
   "source": [
    "피보나찌 수열은 다음과 같이 정의 된다.\n",
    "\n",
    "$$\n",
    "\\begin{align*}\n",
    "F_0 &= 0 \\\\\n",
    "F_1 &= 1 \\\\\n",
    "F_{n+2} &= F_{n+1} + F_{n}\n",
    "\\end{align*}\n",
    "$$\n",
    "\n",
    "for 반복문과 길이가 2인 리스트를 이용하여 피보나찌 수열의 n 번째 값을 반환하는 함수 `fib()` 를 구현하라."
   ]
  },
  {
   "cell_type": "markdown",
   "metadata": {
    "id": "JhzT_jDosX9v"
   },
   "source": [
    "**답**"
   ]
  },
  {
   "cell_type": "code",
   "execution_count": 22,
   "metadata": {
    "executionInfo": {
     "elapsed": 386,
     "status": "ok",
     "timestamp": 1714609999957,
     "user": {
      "displayName": "liga nega",
      "userId": "04505461106310941438"
     },
     "user_tz": -540
    },
    "id": "2pOab-_eVDRz"
   },
   "outputs": [],
   "source": [
    "def fib(n):\n",
    "    assert isinstance(n, int)\n",
    "    assert n >= 0\n",
    "\n",
    "    if n < 2:\n",
    "        return n\n",
    "\n",
    "    fib_list = [0, 1]\n",
    "    for _ in range(2, n+1):\n",
    "        new = sum(fib_list)\n",
    "        fib_list[0] = fib_list[1]\n",
    "        fib_list[1] = new\n",
    "\n",
    "    return fib_list[1]"
   ]
  },
  {
   "cell_type": "code",
   "execution_count": 24,
   "metadata": {
    "executionInfo": {
     "elapsed": 6,
     "status": "ok",
     "timestamp": 1714610001481,
     "user": {
      "displayName": "liga nega",
      "userId": "04505461106310941438"
     },
     "user_tz": -540
    },
    "id": "Dd4ERgo5VDRz"
   },
   "outputs": [],
   "source": [
    "assert fib(5) == 5\n",
    "assert fib(8) == 21"
   ]
  },
  {
   "cell_type": "markdown",
   "metadata": {
    "id": "gaOaOgqCVDRc"
   },
   "source": [
    "## 예제 6"
   ]
  },
  {
   "cell_type": "markdown",
   "metadata": {
    "id": "3-giu8MsVDRX"
   },
   "source": [
    "6명의 정보가 다음과 같다."
   ]
  },
  {
   "cell_type": "code",
   "execution_count": 1,
   "metadata": {
    "executionInfo": {
     "elapsed": 513,
     "status": "ok",
     "timestamp": 1714611074049,
     "user": {
      "displayName": "liga nega",
      "userId": "04505461106310941438"
     },
     "user_tz": -540
    },
    "id": "OTRtTsv1VDRX"
   },
   "outputs": [],
   "source": [
    "kgh = ['김강현', '010-1234-5678', 20, 172.3, '제주']\n",
    "whang = ['황현', '02-9871-1234', 19, 163.5, '서울']\n",
    "namgung = ['남세원', '010-3456-7891', 21, 156.7, '경기']\n",
    "choihs = ['최흥선', '070-4321-1111', 21, 187.2, '부산']\n",
    "sjkim = ['김현선', '010-3333-8888', 22, 164.6, '광주']\n",
    "ja = ['함중아', '010-7654-2345', 18, 178.3, '강원']"
   ]
  },
  {
   "cell_type": "code",
   "execution_count": 2,
   "metadata": {
    "colab": {
     "base_uri": "https://localhost:8080/"
    },
    "executionInfo": {
     "elapsed": 4,
     "status": "ok",
     "timestamp": 1714611074049,
     "user": {
      "displayName": "liga nega",
      "userId": "04505461106310941438"
     },
     "user_tz": -540
    },
    "id": "CuT5NcBVVDRY",
    "outputId": "36cdf39c-406f-43ef-ac33-bef65de1d215"
   },
   "outputs": [
    {
     "data": {
      "text/plain": [
       "[['김강현', '010-1234-5678', 20, 172.3, '제주'],\n",
       " ['황현', '02-9871-1234', 19, 163.5, '서울'],\n",
       " ['남세원', '010-3456-7891', 21, 156.7, '경기'],\n",
       " ['최흥선', '070-4321-1111', 21, 187.2, '부산'],\n",
       " ['김현선', '010-3333-8888', 22, 164.6, '광주'],\n",
       " ['함중아', '010-7654-2345', 18, 178.3, '강원']]"
      ]
     },
     "execution_count": 2,
     "metadata": {},
     "output_type": "execute_result"
    }
   ],
   "source": [
    "info_list = [kgh, whang, namgung, choihs, sjkim, ja]\n",
    "info_list"
   ]
  },
  {
   "cell_type": "markdown",
   "metadata": {
    "id": "9Sm0X8qnnwNt"
   },
   "source": [
    "**질문 1**"
   ]
  },
  {
   "cell_type": "markdown",
   "metadata": {
    "id": "rwL-eEcIVDRc"
   },
   "source": [
    "`info_list`에 포함된 6명의 이름과 전화번호만으로 구성된 리스트를 가리키는 `phone_list` 변수를 선언하라.\n",
    "단, `info_list`와 `for` 반복문, 슬라이싱, `append()` 메서드를 반드시 활용한다."
   ]
  },
  {
   "cell_type": "markdown",
   "metadata": {
    "id": "SVJ7icwbVDRc"
   },
   "source": [
    "**답**"
   ]
  },
  {
   "cell_type": "markdown",
   "metadata": {
    "id": "qouPgW4sVDRc"
   },
   "source": [
    "`phone_list`를 빈 리스트로 초기화한 다음에 `for` 반복문과 인덱싱을 이용하여\n",
    "6명 각각의 정보를 담은 리스트에서 전화번호 정보가 위치한 1번 인덱스 항목을 `phone_list`에\n",
    "`append()` 메서드로 추가한다."
   ]
  },
  {
   "cell_type": "code",
   "execution_count": 3,
   "metadata": {
    "colab": {
     "base_uri": "https://localhost:8080/"
    },
    "executionInfo": {
     "elapsed": 2,
     "status": "ok",
     "timestamp": 1714611074539,
     "user": {
      "displayName": "liga nega",
      "userId": "04505461106310941438"
     },
     "user_tz": -540
    },
    "id": "l_1Z7v4_VDRf",
    "outputId": "54a60116-d14e-4793-fa02-70c8a409a7c8"
   },
   "outputs": [
    {
     "data": {
      "text/plain": [
       "[['김강현', '010-1234-5678'],\n",
       " ['황현', '02-9871-1234'],\n",
       " ['남세원', '010-3456-7891'],\n",
       " ['최흥선', '070-4321-1111'],\n",
       " ['김현선', '010-3333-8888'],\n",
       " ['함중아', '010-7654-2345']]"
      ]
     },
     "execution_count": 3,
     "metadata": {},
     "output_type": "execute_result"
    }
   ],
   "source": [
    "phone_list = []                # 전화번호를 저장할 리스트 초기화\n",
    "\n",
    "for person in info_list:\n",
    "    phone_list.append(person[:2]) # 전화번호만 추출해서 phone_list에 추가\n",
    "\n",
    "phone_list"
   ]
  },
  {
   "cell_type": "markdown",
   "metadata": {
    "id": "JKgviE-TnwNt"
   },
   "source": [
    "**질문 2**"
   ]
  },
  {
   "cell_type": "markdown",
   "metadata": {
    "id": "6ytih2xZnwNt"
   },
   "source": [
    "`info_list`를 나이 순으로 정렬하라.\n",
    "\n",
    "힌트: `sort()` 메서드 활용"
   ]
  },
  {
   "cell_type": "markdown",
   "metadata": {
    "id": "sGnenxYwnwNt"
   },
   "source": [
    "**답**"
   ]
  },
  {
   "cell_type": "markdown",
   "metadata": {
    "id": "5TpmLQTtnwNt"
   },
   "source": [
    "`sort()` 메서드의 `key` 키워드 인자로 리스트의 2번 인덱스 값을  반환하는 함수를 지정한다.\n",
    "그러면 6명의 나이 순으로 정렬한다."
   ]
  },
  {
   "cell_type": "code",
   "execution_count": 4,
   "metadata": {
    "colab": {
     "base_uri": "https://localhost:8080/"
    },
    "executionInfo": {
     "elapsed": 4,
     "status": "ok",
     "timestamp": 1714611075920,
     "user": {
      "displayName": "liga nega",
      "userId": "04505461106310941438"
     },
     "user_tz": -540
    },
    "id": "6SJ13sLPnwNt",
    "outputId": "7f52d326-bf4d-4aa3-aa99-b43369ac1e13"
   },
   "outputs": [
    {
     "data": {
      "text/plain": [
       "[['함중아', '010-7654-2345', 18, 178.3, '강원'],\n",
       " ['황현', '02-9871-1234', 19, 163.5, '서울'],\n",
       " ['김강현', '010-1234-5678', 20, 172.3, '제주'],\n",
       " ['남세원', '010-3456-7891', 21, 156.7, '경기'],\n",
       " ['최흥선', '070-4321-1111', 21, 187.2, '부산'],\n",
       " ['김현선', '010-3333-8888', 22, 164.6, '광주']]"
      ]
     },
     "execution_count": 4,
     "metadata": {},
     "output_type": "execute_result"
    }
   ],
   "source": [
    "info_list.sort(key=lambda x:x[2])\n",
    "info_list"
   ]
  },
  {
   "cell_type": "markdown",
   "metadata": {
    "id": "7YfMMDi7w99P"
   },
   "source": [
    "**질문 3**"
   ]
  },
  {
   "cell_type": "markdown",
   "metadata": {
    "id": "_AUexBI1w_cj"
   },
   "source": [
    "6명의 평균 키를 계산하라."
   ]
  },
  {
   "cell_type": "markdown",
   "metadata": {
    "id": "ajMI_2tMyZ7r"
   },
   "source": [
    "**답**"
   ]
  },
  {
   "cell_type": "markdown",
   "metadata": {},
   "source": [
    "먼저 6명의 키로 구성된 리스트를 생성한다."
   ]
  },
  {
   "cell_type": "code",
   "execution_count": 5,
   "metadata": {},
   "outputs": [],
   "source": [
    "ages = []\n",
    "\n",
    "for person in info_list:\n",
    "    ages.append(person[2])"
   ]
  },
  {
   "cell_type": "code",
   "execution_count": 6,
   "metadata": {},
   "outputs": [
    {
     "data": {
      "text/plain": [
       "[18, 19, 20, 21, 21, 22]"
      ]
     },
     "execution_count": 6,
     "metadata": {},
     "output_type": "execute_result"
    }
   ],
   "source": [
    "ages"
   ]
  },
  {
   "cell_type": "markdown",
   "metadata": {},
   "source": [
    "평균값은 다음과 같다."
   ]
  },
  {
   "cell_type": "code",
   "execution_count": 7,
   "metadata": {},
   "outputs": [
    {
     "data": {
      "text/plain": [
       "20.166666666666668"
      ]
     },
     "execution_count": 7,
     "metadata": {},
     "output_type": "execute_result"
    }
   ],
   "source": [
    "sum(ages)/len(ages)"
   ]
  },
  {
   "cell_type": "markdown",
   "metadata": {},
   "source": [
    "`round()` 함수를 이용하여 소수점 이하 첫째 자리까지만 보이면 보다 깔끔하다."
   ]
  },
  {
   "cell_type": "code",
   "execution_count": 8,
   "metadata": {},
   "outputs": [
    {
     "data": {
      "text/plain": [
       "20.2"
      ]
     },
     "execution_count": 8,
     "metadata": {},
     "output_type": "execute_result"
    }
   ],
   "source": [
    "round(sum(ages)/len(ages), 1)"
   ]
  },
  {
   "cell_type": "markdown",
   "metadata": {
    "id": "7YfMMDi7w99P"
   },
   "source": [
    "**질문 4**"
   ]
  },
  {
   "cell_type": "markdown",
   "metadata": {
    "id": "_AUexBI1w_cj"
   },
   "source": [
    "나이순으로 정렬된 6명의 정보 각각에 대해 0번 인덱스의 값으로 해당 정보의 순서를 추가하라.\n",
    "예를 들어 함중아의 정보는 다음과 같이 수정되어야 한다.\n",
    "\n",
    "```python\n",
    "[0, '함중아', '010-7654-2345', 18, 178.3, '강원'],\n",
    "```\n",
    "\n",
    "힌트: `enumerate()` 함수 활용"
   ]
  },
  {
   "cell_type": "markdown",
   "metadata": {
    "id": "ajMI_2tMyZ7r"
   },
   "source": [
    "**답**"
   ]
  },
  {
   "cell_type": "code",
   "execution_count": 5,
   "metadata": {
    "executionInfo": {
     "elapsed": 348,
     "status": "ok",
     "timestamp": 1714611079322,
     "user": {
      "displayName": "liga nega",
      "userId": "04505461106310941438"
     },
     "user_tz": -540
    },
    "id": "lU1zZeTjxbfn"
   },
   "outputs": [],
   "source": [
    "for idx, item in enumerate(info_list):\n",
    "    item.insert(0, idx)"
   ]
  },
  {
   "cell_type": "code",
   "execution_count": 6,
   "metadata": {
    "colab": {
     "base_uri": "https://localhost:8080/"
    },
    "executionInfo": {
     "elapsed": 2,
     "status": "ok",
     "timestamp": 1714611079807,
     "user": {
      "displayName": "liga nega",
      "userId": "04505461106310941438"
     },
     "user_tz": -540
    },
    "id": "0MXxI88KyEp6",
    "outputId": "235c6bad-8143-40d1-faf6-03f892bde1f9"
   },
   "outputs": [
    {
     "data": {
      "text/plain": [
       "[[0, '함중아', '010-7654-2345', 18, 178.3, '강원'],\n",
       " [1, '황현', '02-9871-1234', 19, 163.5, '서울'],\n",
       " [2, '김강현', '010-1234-5678', 20, 172.3, '제주'],\n",
       " [3, '남세원', '010-3456-7891', 21, 156.7, '경기'],\n",
       " [4, '최흥선', '070-4321-1111', 21, 187.2, '부산'],\n",
       " [5, '김현선', '010-3333-8888', 22, 164.6, '광주']]"
      ]
     },
     "execution_count": 6,
     "metadata": {},
     "output_type": "execute_result"
    }
   ],
   "source": [
    "info_list"
   ]
  },
  {
   "cell_type": "markdown",
   "metadata": {
    "id": "2f6f49ed"
   },
   "source": [
    "## 예제 7"
   ]
  },
  {
   "cell_type": "markdown",
   "metadata": {
    "id": "77cfc88e"
   },
   "source": [
    "정수 나눗셈을 실행하여 몫과 나머지를 튜플로 반환하는 함수 `divide_qr()` 함수를 구현하라.\n",
    "단, 함수의 본문은 `while` 반복문을 이용해야 하며, 몫 연산자 `//` 또는 나머지 연산자 `%` 는\n",
    "절대 사용하지 않는다."
   ]
  },
  {
   "cell_type": "markdown",
   "metadata": {
    "id": "Z3jpS46gnwNy"
   },
   "source": [
    "**답**"
   ]
  },
  {
   "cell_type": "code",
   "execution_count": null,
   "metadata": {
    "id": "e62f273e"
   },
   "outputs": [],
   "source": [
    "def divide_qr(numerator, denomenator):\n",
    "    quotient = 0\n",
    "    while not numerator < denomenator:\n",
    "        numerator = numerator - denomenator\n",
    "        quotient += 1\n",
    "\n",
    "    return (quotient, numerator)"
   ]
  },
  {
   "cell_type": "code",
   "execution_count": null,
   "metadata": {
    "id": "fNydIN2inwNy"
   },
   "outputs": [],
   "source": [
    "assert divide_qr(17, 3) == (5, 2)\n",
    "assert divide_qr(28, 7) == (4, 0)\n",
    "assert divide_qr(-18, 4) == (0, -18)"
   ]
  },
  {
   "cell_type": "markdown",
   "metadata": {
    "id": "eb60dd52"
   },
   "source": [
    "## 예제 8"
   ]
  },
  {
   "cell_type": "markdown",
   "metadata": {},
   "source": [
    "사용자의 이름과 전화번호를 입력 받으면 다음과 같이 반환하는 \n",
    "`phone_book()` 함수를 구현하라.\n",
    "단, 사용자의 이름은 두 글자에서 네 글자 사이며, \n",
    "핸드폰 번호는 9개에서 11개의 숫자가 다양한 방식으로 주어진다.\n",
    "\n",
    "```\n",
    "phone_book('김강현', '010-1234-5678') = ('김*현', 5678)\n",
    "phone_book('강현', '01012345678') = ('강*', 5678)\n",
    "phone_book('김강현이', '031-123-5678') = ('김*현이', 5678)\n",
    "phone_book('강현이', '02-123-5678') = ('강*이', 5678)\n",
    "phone_book('김강현', '010.1234.5678') = ('김*현', 5678)\n",
    "```"
   ]
  },
  {
   "cell_type": "markdown",
   "metadata": {},
   "source": [
    "**답**"
   ]
  },
  {
   "cell_type": "code",
   "execution_count": 24,
   "metadata": {
    "colab": {
     "base_uri": "https://localhost:8080/"
    },
    "id": "8c8c762d",
    "outputId": "fa3d1933-052c-4cae-810a-b36828b4df6a"
   },
   "outputs": [],
   "source": [
    "def phone_book(name, phone):\n",
    "    letter_list = list(name)\n",
    "    letter_list[1] = \"*\"\n",
    "    censored_name = \"\".join(letter_list)\n",
    "    censored_phone = int(phone[-4:])\n",
    "\n",
    "    return (censored_name, censored_phone)"
   ]
  },
  {
   "cell_type": "code",
   "execution_count": 25,
   "metadata": {
    "colab": {
     "base_uri": "https://localhost:8080/"
    },
    "id": "8c8c762d",
    "outputId": "fa3d1933-052c-4cae-810a-b36828b4df6a"
   },
   "outputs": [
    {
     "name": "stdout",
     "output_type": "stream",
     "text": [
      "('김*현', 5678)\n",
      "('강*', 5678)\n",
      "('김*현이', 5678)\n",
      "('강*이', 5678)\n",
      "('김*현', 5678)\n"
     ]
    }
   ],
   "source": [
    "print(phone_book('김강현', '010-1234-5678'))\n",
    "print(phone_book('강현', '01012345678'))\n",
    "print(phone_book('김강현이', '031-123-5678'))\n",
    "print(phone_book('강현이', '02-123-5678'))\n",
    "print(phone_book('김강현', '010.1234.5678'))"
   ]
  }
 ],
 "metadata": {
  "colab": {
   "provenance": [
    {
     "file_id": "https://github.com/codingalzi/pybook/blob/master/examples/examples-lists_tuples.ipynb",
     "timestamp": 1714608353417
    },
    {
     "file_id": "https://github.com/codingalzi/pybook/blob/master/examples/examples-lists_tuples.ipynb",
     "timestamp": 1714435671204
    }
   ]
  },
  "kernelspec": {
   "display_name": "Python 3 (ipykernel)",
   "language": "python",
   "name": "python3"
  },
  "language_info": {
   "codemirror_mode": {
    "name": "ipython",
    "version": 3
   },
   "file_extension": ".py",
   "mimetype": "text/x-python",
   "name": "python",
   "nbconvert_exporter": "python",
   "pygments_lexer": "ipython3",
   "version": "3.12.2"
  }
 },
 "nbformat": 4,
 "nbformat_minor": 1
}

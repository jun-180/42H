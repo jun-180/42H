{
 "cells": [
  {
   "cell_type": "markdown",
   "id": "2d03d247-e2d3-4afe-ab5e-83dc989ed62d",
   "metadata": {},
   "source": [
    "# (필수 예제) 표현식과 자료형"
   ]
  },
  {
   "cell_type": "markdown",
   "id": "dd6354ea",
   "metadata": {
    "id": "6jxFns8v0EeE"
   },
   "source": [
    "## 예제 3"
   ]
  },
  {
   "cell_type": "markdown",
   "id": "9d2a9668",
   "metadata": {
    "id": "6jxFns8v0EeE"
   },
   "source": [
    "먼저 아래와 같이 변수를 선언한다."
   ]
  },
  {
   "cell_type": "code",
   "execution_count": 19,
   "id": "a2fc6e74",
   "metadata": {},
   "outputs": [],
   "source": [
    "number = 17\n",
    "two_semicolons = ';;'"
   ]
  },
  {
   "cell_type": "markdown",
   "id": "13269dff",
   "metadata": {},
   "source": [
    "다음에 오는 각각의 표현식들에 대해, 표현식의 값과 자료형을 확인한다."
   ]
  },
  {
   "cell_type": "markdown",
   "id": "ee859188",
   "metadata": {},
   "source": [
    "**코드 1: `number + 2`**"
   ]
  },
  {
   "cell_type": "code",
   "execution_count": 20,
   "id": "89954090",
   "metadata": {},
   "outputs": [
    {
     "data": {
      "text/plain": [
       "19"
      ]
     },
     "execution_count": 20,
     "metadata": {},
     "output_type": "execute_result"
    }
   ],
   "source": [
    "number + 2"
   ]
  },
  {
   "cell_type": "code",
   "execution_count": 21,
   "id": "511cceb2",
   "metadata": {},
   "outputs": [
    {
     "data": {
      "text/plain": [
       "int"
      ]
     },
     "execution_count": 21,
     "metadata": {},
     "output_type": "execute_result"
    }
   ],
   "source": [
    "type(number + 2)"
   ]
  },
  {
   "cell_type": "markdown",
   "id": "c5a2fe1c",
   "metadata": {},
   "source": [
    "* `number - 2.0`"
   ]
  },
  {
   "cell_type": "code",
   "execution_count": 22,
   "id": "cd2ada31",
   "metadata": {},
   "outputs": [
    {
     "data": {
      "text/plain": [
       "15.0"
      ]
     },
     "execution_count": 22,
     "metadata": {},
     "output_type": "execute_result"
    }
   ],
   "source": [
    "number - 2.0"
   ]
  },
  {
   "cell_type": "code",
   "execution_count": 23,
   "id": "359be52f",
   "metadata": {},
   "outputs": [
    {
     "data": {
      "text/plain": [
       "float"
      ]
     },
     "execution_count": 23,
     "metadata": {},
     "output_type": "execute_result"
    }
   ],
   "source": [
    "type(number - 2.0)"
   ]
  },
  {
   "cell_type": "markdown",
   "id": "1aa3593c",
   "metadata": {},
   "source": [
    "**코드 2: `number / 2`**"
   ]
  },
  {
   "cell_type": "code",
   "execution_count": 24,
   "id": "d0462503",
   "metadata": {},
   "outputs": [
    {
     "data": {
      "text/plain": [
       "8.5"
      ]
     },
     "execution_count": 24,
     "metadata": {},
     "output_type": "execute_result"
    }
   ],
   "source": [
    "number / 2"
   ]
  },
  {
   "cell_type": "code",
   "execution_count": 25,
   "id": "ff58404b",
   "metadata": {},
   "outputs": [
    {
     "data": {
      "text/plain": [
       "float"
      ]
     },
     "execution_count": 25,
     "metadata": {},
     "output_type": "execute_result"
    }
   ],
   "source": [
    "type(number / 2)"
   ]
  },
  {
   "cell_type": "markdown",
   "id": "e3a78fc7",
   "metadata": {},
   "source": [
    "**코드 3: `number // 2`**"
   ]
  },
  {
   "cell_type": "code",
   "execution_count": 26,
   "id": "d543b285",
   "metadata": {},
   "outputs": [
    {
     "data": {
      "text/plain": [
       "8"
      ]
     },
     "execution_count": 26,
     "metadata": {},
     "output_type": "execute_result"
    }
   ],
   "source": [
    "number // 2"
   ]
  },
  {
   "cell_type": "code",
   "execution_count": 27,
   "id": "b4050683",
   "metadata": {},
   "outputs": [
    {
     "data": {
      "text/plain": [
       "int"
      ]
     },
     "execution_count": 27,
     "metadata": {},
     "output_type": "execute_result"
    }
   ],
   "source": [
    "type(number // 2)"
   ]
  },
  {
   "cell_type": "markdown",
   "id": "7f3cd1ef",
   "metadata": {},
   "source": [
    "**코드 4: `number % 2`**"
   ]
  },
  {
   "cell_type": "code",
   "execution_count": 28,
   "id": "a1e1a4e5",
   "metadata": {},
   "outputs": [
    {
     "data": {
      "text/plain": [
       "1"
      ]
     },
     "execution_count": 28,
     "metadata": {},
     "output_type": "execute_result"
    }
   ],
   "source": [
    "number % 2"
   ]
  },
  {
   "cell_type": "code",
   "execution_count": 29,
   "id": "05497063",
   "metadata": {},
   "outputs": [
    {
     "data": {
      "text/plain": [
       "int"
      ]
     },
     "execution_count": 29,
     "metadata": {},
     "output_type": "execute_result"
    }
   ],
   "source": [
    "type(number % 2)"
   ]
  },
  {
   "cell_type": "markdown",
   "id": "ad0242b3",
   "metadata": {
    "id": "6jxFns8v0EeE"
   },
   "source": [
    "**코드 5: `number`의 세제곱을 (2 + 3)으로 나누기**"
   ]
  },
  {
   "cell_type": "code",
   "execution_count": 30,
   "id": "e87b40d0",
   "metadata": {},
   "outputs": [
    {
     "data": {
      "text/plain": [
       "982.6"
      ]
     },
     "execution_count": 30,
     "metadata": {},
     "output_type": "execute_result"
    }
   ],
   "source": [
    "number**3 / (2 + 3)"
   ]
  },
  {
   "cell_type": "code",
   "execution_count": 31,
   "id": "36c11676",
   "metadata": {},
   "outputs": [
    {
     "data": {
      "text/plain": [
       "float"
      ]
     },
     "execution_count": 31,
     "metadata": {},
     "output_type": "execute_result"
    }
   ],
   "source": [
    "type(number**3 / (2 + 3))"
   ]
  },
  {
   "cell_type": "markdown",
   "id": "6ae0060b",
   "metadata": {},
   "source": [
    "그런데 아래와 같이 하면 틀린 값이 나온다."
   ]
  },
  {
   "cell_type": "code",
   "execution_count": 32,
   "id": "4fc362cb",
   "metadata": {},
   "outputs": [
    {
     "data": {
      "text/plain": [
       "2459.5"
      ]
     },
     "execution_count": 32,
     "metadata": {},
     "output_type": "execute_result"
    }
   ],
   "source": [
    "number**3 / 2 + 3"
   ]
  },
  {
   "cell_type": "markdown",
   "id": "884d550d",
   "metadata": {},
   "source": [
    "이유는 나눗셈 연산자 `/`의 우선순위가 덧셈 연산자 `+` 보다 높아서 위 수식은 아래 수식과 동일한\n",
    "값을 계산하기 때문이다."
   ]
  },
  {
   "cell_type": "code",
   "execution_count": 33,
   "id": "6f2d7d81",
   "metadata": {},
   "outputs": [
    {
     "data": {
      "text/plain": [
       "2459.5"
      ]
     },
     "execution_count": 33,
     "metadata": {},
     "output_type": "execute_result"
    }
   ],
   "source": [
    "(number**3 / 2) + 3"
   ]
  },
  {
   "cell_type": "markdown",
   "id": "4b906276",
   "metadata": {},
   "source": [
    "**코드 6: `two_semicolons * 3`**"
   ]
  },
  {
   "cell_type": "code",
   "execution_count": 34,
   "id": "002ec4e2",
   "metadata": {},
   "outputs": [
    {
     "data": {
      "text/plain": [
       "';;;;;;'"
      ]
     },
     "execution_count": 34,
     "metadata": {},
     "output_type": "execute_result"
    }
   ],
   "source": [
    "two_semicolons * 3"
   ]
  },
  {
   "cell_type": "code",
   "execution_count": 35,
   "id": "dfe4f91b",
   "metadata": {},
   "outputs": [
    {
     "data": {
      "text/plain": [
       "str"
      ]
     },
     "execution_count": 35,
     "metadata": {},
     "output_type": "execute_result"
    }
   ],
   "source": [
    "type(two_semicolons * 3)"
   ]
  },
  {
   "cell_type": "markdown",
   "id": "280986cf",
   "metadata": {},
   "source": [
    "## 예제 1"
   ]
  },
  {
   "cell_type": "markdown",
   "id": "7ef7287a",
   "metadata": {},
   "source": [
    "아래 문장들을 적절한 연산자를 이용한 표현식으로 작성한 다음 실행 결과를 확인한다."
   ]
  },
  {
   "cell_type": "markdown",
   "id": "7d0effdd",
   "metadata": {},
   "source": [
    "**표현식 1:** 정수 25와 정수 12 더하기"
   ]
  },
  {
   "cell_type": "markdown",
   "id": "1f948bc8",
   "metadata": {},
   "source": [
    "**답**"
   ]
  },
  {
   "cell_type": "markdown",
   "id": "f8325a1d",
   "metadata": {},
   "source": [
    "덧셈 연산자를 활용한다."
   ]
  },
  {
   "cell_type": "code",
   "execution_count": 1,
   "id": "9f44df3a",
   "metadata": {},
   "outputs": [
    {
     "data": {
      "text/plain": [
       "37"
      ]
     },
     "execution_count": 1,
     "metadata": {},
     "output_type": "execute_result"
    }
   ],
   "source": [
    "25 + 12"
   ]
  },
  {
   "cell_type": "markdown",
   "id": "54b0bcab",
   "metadata": {},
   "source": [
    "**표현식 2:** 정수 92와 부동소수점 8.0 곱하기"
   ]
  },
  {
   "cell_type": "markdown",
   "id": "d46a85a5",
   "metadata": {},
   "source": [
    "**답**"
   ]
  },
  {
   "cell_type": "markdown",
   "id": "df4a45d0",
   "metadata": {},
   "source": [
    "곱셈 연산자를 활용한다. 정수와 부동소수점의 곱셈은 부동소수점으로 계산된다."
   ]
  },
  {
   "cell_type": "code",
   "execution_count": 2,
   "id": "d1830fa0",
   "metadata": {},
   "outputs": [
    {
     "data": {
      "text/plain": [
       "736.0"
      ]
     },
     "execution_count": 2,
     "metadata": {},
     "output_type": "execute_result"
    }
   ],
   "source": [
    "92 * 8.0"
   ]
  },
  {
   "cell_type": "markdown",
   "id": "4800a276",
   "metadata": {},
   "source": [
    "**표현식 3:** 정수 7을 5로 나눴을 때의 몫"
   ]
  },
  {
   "cell_type": "markdown",
   "id": "b1edfbfb",
   "metadata": {},
   "source": [
    "**답**"
   ]
  },
  {
   "cell_type": "markdown",
   "id": "018645eb",
   "metadata": {},
   "source": [
    "몫 연산자를 활용한다. 결과는 항상 정수다."
   ]
  },
  {
   "cell_type": "code",
   "execution_count": 3,
   "id": "8e645819",
   "metadata": {},
   "outputs": [
    {
     "data": {
      "text/plain": [
       "1"
      ]
     },
     "execution_count": 3,
     "metadata": {},
     "output_type": "execute_result"
    }
   ],
   "source": [
    "7 // 5"
   ]
  },
  {
   "cell_type": "markdown",
   "id": "71cd702b",
   "metadata": {
    "id": "xygzJ5410LMv"
   },
   "source": [
    "## 예제 4"
   ]
  },
  {
   "cell_type": "markdown",
   "id": "695047c2",
   "metadata": {},
   "source": [
    "아래 수식을 계산하려 하면 오류가 발생한다."
   ]
  },
  {
   "cell_type": "code",
   "execution_count": 37,
   "id": "bab0f156",
   "metadata": {},
   "outputs": [
    {
     "ename": "TypeError",
     "evalue": "unsupported operand type(s) for +: 'int' and 'str'",
     "output_type": "error",
     "traceback": [
      "\u001b[0;31m---------------------------------------------------------------------------\u001b[0m",
      "\u001b[0;31mTypeError\u001b[0m                                 Traceback (most recent call last)",
      "Cell \u001b[0;32mIn[37], line 1\u001b[0m\n\u001b[0;32m----> 1\u001b[0m \u001b[38;5;241m3\u001b[39m \u001b[38;5;241m+\u001b[39m \u001b[38;5;124m'\u001b[39m\u001b[38;5;124m3.0\u001b[39m\u001b[38;5;124m'\u001b[39m\n",
      "\u001b[0;31mTypeError\u001b[0m: unsupported operand type(s) for +: 'int' and 'str'"
     ]
    }
   ],
   "source": [
    "3 + '3.0'"
   ]
  },
  {
   "cell_type": "markdown",
   "id": "4effff3d",
   "metadata": {},
   "source": [
    "이유는 숫자로서의 3과 문자열로서의 `'3.0'`의 덧셈 연산은 정의되어 있지 않기 때문이다.\n",
    "그런데 아래 수식은 계산이 허용된다.\n",
    "곱셈 연산자 `*`를 정수와 문자열과 함께 실행하면 문자열을 지정된 정수만큼 복제해서 이어붙인다.\n",
    "따라서 3.03이 세 번 반복된 문자열이 계산된다."
   ]
  },
  {
   "cell_type": "code",
   "execution_count": 38,
   "id": "7aeaa603",
   "metadata": {},
   "outputs": [
    {
     "data": {
      "text/plain": [
       "'3.03.03.0'"
      ]
     },
     "execution_count": 38,
     "metadata": {},
     "output_type": "execute_result"
    }
   ],
   "source": [
    "3 * '3.0'"
   ]
  },
  {
   "cell_type": "markdown",
   "id": "a11057fa",
   "metadata": {},
   "source": [
    "그런데 유한소수 모양의 문자열을 부동소수점 자료형으로 변환하여 3 + 3.0이\n",
    "계산되도록 할 수 있다. \n",
    "이를 위해 `float()` 함수를 활용한다.\n",
    "`float()` 함수는 부동소수점 모양의 문자열을 실제 부동소수점으로 변환시킨다."
   ]
  },
  {
   "cell_type": "code",
   "execution_count": 39,
   "id": "5317482e",
   "metadata": {},
   "outputs": [
    {
     "data": {
      "text/plain": [
       "6.0"
      ]
     },
     "execution_count": 39,
     "metadata": {},
     "output_type": "execute_result"
    }
   ],
   "source": [
    "3 + float('3.0')"
   ]
  },
  {
   "cell_type": "markdown",
   "id": "105761db",
   "metadata": {},
   "source": [
    "단, `float()` 함수에 부동소수점 모양이 아닌 인자를 사용하면 오류가 발생한다."
   ]
  },
  {
   "cell_type": "code",
   "execution_count": 40,
   "id": "8f688dcb",
   "metadata": {},
   "outputs": [
    {
     "ename": "ValueError",
     "evalue": "could not convert string to float: '3-1'",
     "output_type": "error",
     "traceback": [
      "\u001b[0;31m---------------------------------------------------------------------------\u001b[0m",
      "\u001b[0;31mValueError\u001b[0m                                Traceback (most recent call last)",
      "Cell \u001b[0;32mIn[40], line 1\u001b[0m\n\u001b[0;32m----> 1\u001b[0m \u001b[38;5;28mfloat\u001b[39m(\u001b[38;5;124m'\u001b[39m\u001b[38;5;124m3-1\u001b[39m\u001b[38;5;124m'\u001b[39m)\n",
      "\u001b[0;31mValueError\u001b[0m: could not convert string to float: '3-1'"
     ]
    }
   ],
   "source": [
    "float('3-1')"
   ]
  },
  {
   "cell_type": "markdown",
   "id": "bcf74b85",
   "metadata": {
    "id": "SjFpmZ5r0_zh"
   },
   "source": [
    "## 예제 2"
   ]
  },
  {
   "cell_type": "markdown",
   "id": "c7fe7bb5",
   "metadata": {},
   "source": [
    "입력받은 두 정수의 합을 지정된 형식으로 출력하는 코드를 작성한다.\n",
    "입력된 두 개의 정수는 각각 변수 `a`와 `b`에 저장한다.\n",
    "예를 들어 3과 2가 입력되면 아래처럼 화면에 출력한다.\n",
    "\n",
    "    3 + 2 = 5"
   ]
  },
  {
   "cell_type": "markdown",
   "id": "ae2183fd",
   "metadata": {},
   "source": [
    "**답**"
   ]
  },
  {
   "cell_type": "markdown",
   "id": "aa9d01b0",
   "metadata": {},
   "source": [
    "정수 두 개를 각각 입력받을 수 있도록 `input()` 함수를 두 번 사용한다.\n",
    "첫째 입력값은 정수로 변환해서 `a`에 할당, 둘째 입력값은 `b`에 할당한다.\n",
    "지정된 형식으로의 출력은 `print()` 함수를 이용한다.\n",
    "`print()` 함수에 쉼표를 이용하여 여러 개의 인자를 지정하면\n",
    "각각의 인자가 공백으로 구분되어 한 줄에 출력되는 성질을 이용한다."
   ]
  },
  {
   "cell_type": "code",
   "execution_count": 4,
   "id": "d184a576",
   "metadata": {},
   "outputs": [
    {
     "name": "stdout",
     "output_type": "stream",
     "text": [
      "첫째 정수를 입력하세요: 3\n",
      "둘째 정수를 입력하세요: 2\n",
      "3 + 2 = 5\n"
     ]
    }
   ],
   "source": [
    "a = int(input(\"첫째 정수를 입력하세요: \"))\n",
    "b = int(input(\"둘째 정수를 입력하세요: \"))\n",
    "\n",
    "print(a, \"+\", b, \"=\", a + b)"
   ]
  },
  {
   "cell_type": "markdown",
   "id": "285f3686",
   "metadata": {},
   "source": [
    "## 예제 4"
   ]
  },
  {
   "cell_type": "markdown",
   "id": "d4cb758e",
   "metadata": {},
   "source": [
    "두 개의 부동소수점`x`와 `y`를 입력받아 두 수의 \n",
    "평균값을 아래 형식으로 출력하는 코드를 작성하여라.\n",
    "\n",
    "    2.4 와 5.7 의 평균값: 4.05\n",
    "\n",
    "단, `x`와 `y`의 평균값은 `(x + y)/2`이며, 평균값은 소수점 이하 셋째 자리에서 반올림한다.\n",
    "\n",
    "힌트: `float()` 함수와, `round()` 함수 활용"
   ]
  },
  {
   "cell_type": "markdown",
   "id": "7eb958c5",
   "metadata": {},
   "source": [
    "`round()` 함수의 첫째 인자는 부동소수점, 둘째 인자는 소수점 이하 자릿수를 지정하며\n",
    "반올림을 이용하여 지정된 자릿수까지만 계산한다.\n",
    "활용법은 다음과 같다."
   ]
  },
  {
   "cell_type": "code",
   "execution_count": 5,
   "id": "0a9fbba3",
   "metadata": {},
   "outputs": [
    {
     "data": {
      "text/plain": [
       "3.142"
      ]
     },
     "execution_count": 5,
     "metadata": {},
     "output_type": "execute_result"
    }
   ],
   "source": [
    "round(3.141592, 3)"
   ]
  },
  {
   "cell_type": "code",
   "execution_count": 6,
   "id": "2e2d4a99",
   "metadata": {},
   "outputs": [
    {
     "data": {
      "text/plain": [
       "3.14"
      ]
     },
     "execution_count": 6,
     "metadata": {},
     "output_type": "execute_result"
    }
   ],
   "source": [
    "round(3.141592, 2)"
   ]
  },
  {
   "cell_type": "markdown",
   "id": "366b39da",
   "metadata": {},
   "source": [
    "**답**"
   ]
  },
  {
   "cell_type": "markdown",
   "id": "66c571ac",
   "metadata": {},
   "source": [
    "사용자가 정수가 아닌 유한소수를 입력할 것을 예상해야 하기에\n",
    "`input()` 함수의 결과에 바로 `float()` 함수를 적용한다.\n",
    "그 다음에 평균값을 계산하여 지정된 방식으로 출력한다.\n",
    "단, `round()` 함수를 이용하여 소수점 이하의 자릿수를 2로 지정한다."
   ]
  },
  {
   "cell_type": "code",
   "execution_count": 7,
   "id": "c9b812d4",
   "metadata": {},
   "outputs": [
    {
     "name": "stdout",
     "output_type": "stream",
     "text": [
      "첫째 유한소수를 입력하세요: 2.4\n",
      "둘째 유한소수를 입력하세요: 5.7\n",
      "2.4 와 5.7 의 평균값: 4.05\n"
     ]
    }
   ],
   "source": [
    "x = float(input(\"첫째 유한소수를 입력하세요: \"))\n",
    "y = float(input(\"둘째 유한소수를 입력하세요: \"))\n",
    "\n",
    "# 평균값\n",
    "mean = (x + y)/2\n",
    "\n",
    "print(x, \"와\", y, \"의 평균값:\", round(mean, 2))"
   ]
  },
  {
   "cell_type": "markdown",
   "id": "827df42a",
   "metadata": {},
   "source": [
    "## 예제 5"
   ]
  },
  {
   "cell_type": "markdown",
   "id": "83a8cc23",
   "metadata": {},
   "source": [
    "사용자로부터 입력받은 후 입력된 정수의 짝수/홀수 여부를 판정하는 코드를 작성한다.\n",
    "\n",
    "힌트: `input()` 함수와 `int()` 함수 활용"
   ]
  },
  {
   "cell_type": "markdown",
   "id": "52c7bf36",
   "metadata": {},
   "source": [
    "**답**"
   ]
  },
  {
   "cell_type": "markdown",
   "id": "e82ddb8b",
   "metadata": {},
   "source": [
    "`input()` 함수를 다음과 같이 이용하여 사용자로부터 정수를 입력 받아 정수로 변환하여\n",
    "변수 `user_input`에 할당한다.\n",
    "\n",
    "```python\n",
    "user_input = int(input(\"정수 하나를 입력하세요: \"))\n",
    "```\n",
    "\n",
    "이제 `user_input`에 할당된 정수의 짝수/홀수 여부를 2로 나눈 나머지가 0인지 \n",
    "여부에 따라 결정하여 그결과를 출력한다.\n",
    "위 설명을 정리하여 구현하면 다음과 같이 코드를 구현할 수 있다."
   ]
  },
  {
   "cell_type": "code",
   "execution_count": 1,
   "id": "9a92ed52",
   "metadata": {},
   "outputs": [
    {
     "name": "stdout",
     "output_type": "stream",
     "text": [
      "정수 하나를 입력하세요:  9\n",
      "홀수\n"
     ]
    }
   ],
   "source": [
    "user_input = int(input(\"정수 하나를 입력하세요: \"))\n",
    "\n",
    "if user_input % 2 == 0:\n",
    "    print(\"짝수\")\n",
    "else:\n",
    "    print(\"홀수\")"
   ]
  },
  {
   "cell_type": "markdown",
   "id": "0652170f",
   "metadata": {},
   "source": [
    "또는 `if ... else ...` 조건문을 사용하지 않으면서 짝수일 때는 `True`를 홀수일 때는 `False`를 \n",
    "바로 출력하게 할수도 있다."
   ]
  },
  {
   "cell_type": "code",
   "execution_count": 8,
   "id": "2c398780",
   "metadata": {},
   "outputs": [
    {
     "name": "stdout",
     "output_type": "stream",
     "text": [
      "정수 하나를 입력하세요: 17\n",
      "입력값이 짝수인가요? False\n"
     ]
    }
   ],
   "source": [
    "user_input = int(input(\"정수 하나를 입력하세요: \"))\n",
    "\n",
    "print(\"입력값이 짝수인가요?\", user_input % 2 == 0)"
   ]
  },
  {
   "cell_type": "markdown",
   "id": "a8cd81ca",
   "metadata": {},
   "source": [
    "## 예제 6"
   ]
  },
  {
   "cell_type": "markdown",
   "id": "97d4318f",
   "metadata": {},
   "source": [
    "사용자로부터 하나의 정수를 입력받은 후 입력값이 17보다 크면 \n",
    "입력값과 17의 차이의 제곱을, \n",
    "아니면 입력된 정수를 출력하는 코드를 작성한다.\n",
    "\n",
    "힌트: `input()` 함수와 `int()` 함수 활용"
   ]
  },
  {
   "cell_type": "markdown",
   "id": "bd5f09bf",
   "metadata": {},
   "source": [
    "**답**"
   ]
  },
  {
   "cell_type": "markdown",
   "id": "d3b7636b",
   "metadata": {},
   "source": [
    "두 정수의 크기비교를 위해 `>` 연산자를 이용한다.\n",
    "`a`가 표현하는 값이 `b`가 표현하는 값보다 클 때 \n",
    "표현식 `a > b`가 `True`로 계산된다는 사실을 \n",
    "`if ... else ...` 조건문에 적용한다."
   ]
  },
  {
   "cell_type": "markdown",
   "id": "1babe199",
   "metadata": {},
   "source": [
    "- 20을 입력할 때: 9 출력"
   ]
  },
  {
   "cell_type": "code",
   "execution_count": 11,
   "id": "0d3be0d6",
   "metadata": {},
   "outputs": [
    {
     "name": "stdout",
     "output_type": "stream",
     "text": [
      "정수 하나를 입력하세요: 20\n",
      "9\n"
     ]
    }
   ],
   "source": [
    "user_input = int(input(\"정수 하나를 입력하세요: \"))\n",
    "\n",
    "if user_input > 17:\n",
    "    print((user_input - 17)**2)\n",
    "else:\n",
    "    print(user_input)"
   ]
  },
  {
   "cell_type": "markdown",
   "id": "d6fb6521",
   "metadata": {},
   "source": [
    "- 15를 입력할 때: 15 출력"
   ]
  },
  {
   "cell_type": "code",
   "execution_count": 12,
   "id": "e00d6590",
   "metadata": {},
   "outputs": [
    {
     "name": "stdout",
     "output_type": "stream",
     "text": [
      "정수 하나를 입력하세요: 15\n",
      "15\n"
     ]
    }
   ],
   "source": [
    "user_input = int(input(\"정수 하나를 입력하세요: \"))\n",
    "\n",
    "if user_input > 17:\n",
    "    print((user_input - 17)**2)\n",
    "else:\n",
    "    print(user_input)"
   ]
  },
  {
   "cell_type": "markdown",
   "id": "00ad8d4a",
   "metadata": {},
   "source": [
    "## 예제 7"
   ]
  },
  {
   "cell_type": "markdown",
   "id": "6681b467",
   "metadata": {},
   "source": [
    "사용자로부터 0이 아닌 한자리 정수 `n` 을 입력받아 `n + nn + nnn` 을 계산하는 코드를 작성한다.\n",
    "단, `nn`과 `nnn`은 곱셈이 아니고 문자열 `n`을 각각 두 번과 세 번 반복한 결과로 생성된 정수를 가리킨다.\n",
    "예를 들어 5가 입력되면 아래 값이 계산되어야 한다.\n",
    "\n",
    "```\n",
    "5 + 55 + 555 = 615\n",
    "```\n",
    "\n",
    "힌트: `input()` 함수와 `int()` 함수 활용. 문자열 이어붙이기 연산자 `+` 또는 복제 후 이어붙이기 연산자 `*` 활용.\n",
    "\n",
    "주의사항: `int(input())` 형식은 사용하지 않음."
   ]
  },
  {
   "cell_type": "markdown",
   "id": "32e31736",
   "metadata": {},
   "source": [
    "**답**"
   ]
  },
  {
   "cell_type": "markdown",
   "id": "e8e25b73",
   "metadata": {},
   "source": [
    "- 문자열 이어붙이기 연산자 `+` 활용"
   ]
  },
  {
   "cell_type": "markdown",
   "id": "29dc4aa0",
   "metadata": {},
   "source": [
    "5를 입력하면 `input()` 함수는 문자열 `'5'`를 입력값으로 지정한다.\n",
    "\n",
    "    n = input(\"한 자리 정수 하나를 입력하세요: \")\n",
    "\n",
    "이제 `+` 연산자를 이용하여 변수 `n`에 할당된 값을 이어붙인다.\n",
    "예를 들어 문자열 `'5'`를 이어붙이면 `'55'`가 된다.\n",
    "여기에 `int()` 함수를 적용하면 정수 55가 계산된다.\n",
    "유사한 방식으로 정수 555를 계산할 수 있다.\n",
    "\n",
    "위 설명을 코드로 구현하면 다음과 같으며\n",
    "정수 5를 입력해서 `5 + 55 + 555`를 계산한다."
   ]
  },
  {
   "cell_type": "code",
   "execution_count": 13,
   "id": "297481b1",
   "metadata": {},
   "outputs": [
    {
     "name": "stdout",
     "output_type": "stream",
     "text": [
      "정수 하나를 입력하세요: 5\n",
      "615\n"
     ]
    }
   ],
   "source": [
    "n = input(\"한 자리 정수 하나를 입력하세요: \")\n",
    "nn = n + n\n",
    "nnn = nn + n\n",
    "\n",
    "print(int(n) + int(nn) + int(nnn))"
   ]
  },
  {
   "cell_type": "markdown",
   "id": "ed1d1921",
   "metadata": {},
   "source": [
    "- 문자열 복제 후 이어붙이기 연산자 `*` 활용"
   ]
  },
  {
   "cell_type": "markdown",
   "id": "088a4076",
   "metadata": {},
   "source": [
    "두 변수 `n`과 `nn`을 `*` 연산자를 이용하여 정의한다.\n",
    "실행할 때 7을 입력하여 `7 + 77 + 777 = 861`을 계산한다."
   ]
  },
  {
   "cell_type": "code",
   "execution_count": 14,
   "id": "972e275e",
   "metadata": {},
   "outputs": [
    {
     "name": "stdout",
     "output_type": "stream",
     "text": [
      "정수 하나를 입력하세요: 5\n",
      "615\n"
     ]
    }
   ],
   "source": [
    "n = input(\"한 자리 정수 하나를 입력하세요: \")\n",
    "nn = n * 2\n",
    "nnn = n * 3\n",
    "\n",
    "print(int(n) + int(nn) + int(nnn))"
   ]
  },
  {
   "cell_type": "markdown",
   "id": "a0c1fdc4",
   "metadata": {},
   "source": [
    "## 예제 8"
   ]
  },
  {
   "cell_type": "markdown",
   "id": "f6ca35d3",
   "metadata": {},
   "source": [
    "다음 모양을 출력하는 코드를 작성한다.\n",
    "두 개의 별 기호 사이에 공백(space)이 사용됨에 주의한다.\n",
    "공백도 하나의 기호로 취급된다.\n",
    "단, `print()` 함수와 `while` 반복문은 한 번씩만 활용한다.\n",
    "\n",
    "```\n",
    "* * * * *  \n",
    "* * * *  \n",
    "* * *  \n",
    "* *  \n",
    "*\n",
    "*\n",
    "* *\n",
    "* * *\n",
    "* * * *\n",
    "* * * * *\n",
    "```"
   ]
  },
  {
   "cell_type": "markdown",
   "id": "ba504e37",
   "metadata": {},
   "source": [
    "**답**"
   ]
  },
  {
   "cell_type": "markdown",
   "id": "5dd97265",
   "metadata": {},
   "source": [
    "별 기호와 공백으로 구성된 문자열, 즉 `\"* \"`이 차례대로 5, 4, 3, 2, 1 번씩,\n",
    "이후에 다시 1, 2, 3, 4, 5 번씩 반복된다.\n",
    "`While` 반복문:  총 10번 출력하며 처음 5번과 나중 5번이 대칭을 이룬다.\n",
    "`num`이 0부터 9까지 변할 때 `'* '` 문자열이 반복되는 횟수를 `stars` 변수에 할당하는데 \n",
    "`num`에 할당된 값이 5일 때를 기준으로 달라진다."
   ]
  },
  {
   "cell_type": "code",
   "execution_count": 1,
   "id": "_8bFTLv7s2xH",
   "metadata": {
    "colab": {
     "base_uri": "https://localhost:8080/"
    },
    "id": "_8bFTLv7s2xH",
    "outputId": "7c3668c4-9119-46f6-dbbf-ee483a5e004e"
   },
   "outputs": [
    {
     "name": "stdout",
     "output_type": "stream",
     "text": [
      "* * * * * \n",
      "* * * * \n",
      "* * * \n",
      "* * \n",
      "* \n",
      "* \n",
      "* * \n",
      "* * * \n",
      "* * * * \n",
      "* * * * * \n"
     ]
    }
   ],
   "source": [
    "num = 0\n",
    "while num < 10:\n",
    "    if num < 5:\n",
    "        stars = 5 - num\n",
    "    else:\n",
    "        stars = num - 4\n",
    "        \n",
    "    print(\"* \" * stars)\n",
    "        \n",
    "    num += 1"
   ]
  }
 ],
 "metadata": {
  "kernelspec": {
   "display_name": "Python 3 (ipykernel)",
   "language": "python",
   "name": "python3"
  },
  "language_info": {
   "codemirror_mode": {
    "name": "ipython",
    "version": 3
   },
   "file_extension": ".py",
   "mimetype": "text/x-python",
   "name": "python",
   "nbconvert_exporter": "python",
   "pygments_lexer": "ipython3",
   "version": "3.12.2"
  },
  "toc-autonumbering": true,
  "toc-showcode": false,
  "toc-showmarkdowntxt": false
 },
 "nbformat": 4,
 "nbformat_minor": 5
}
